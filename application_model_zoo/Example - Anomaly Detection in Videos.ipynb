{
 "cells": [
  {
   "cell_type": "markdown",
   "metadata": {},
   "source": [
    "<a href=\"https://colab.research.google.com/github/Tessellate-Imaging/Monk_Object_Detection/blob/master/application_model_zoo/Example%20-%20Anomaly%20Detection%20in%20Videos.ipynb\" target=\"_parent\"><img src=\"https://colab.research.google.com/assets/colab-badge.svg\" alt=\"Open In Colab\"/></a>"
   ]
  },
  {
   "cell_type": "code",
   "execution_count": null,
   "metadata": {},
   "outputs": [],
   "source": []
  },
  {
   "cell_type": "markdown",
   "metadata": {},
   "source": [
    "# Table of contents\n",
    "\n",
    "## Installation\n",
    "\n",
    "\n",
    "## Run a classifier using pretrained weights\n",
    "\n",
    "\n",
    "## Training your own classifier"
   ]
  },
  {
   "cell_type": "code",
   "execution_count": null,
   "metadata": {},
   "outputs": [],
   "source": []
  },
  {
   "cell_type": "markdown",
   "metadata": {},
   "source": [
    "# Installation\n",
    "\n",
    " - Run these commands\n",
    "     \n",
    "     - git clone https://github.com/Tessellate-Imaging/Monk_Object_Detection.git\n",
    "     \n",
    "     - cd Monk_Object_Detection/18_mmaction/installation\n",
    "     \n",
    " - Select the right file and run\n",
    " \n",
    "     - chmod +x install.sh && ./install.sh"
   ]
  },
  {
   "cell_type": "code",
   "execution_count": null,
   "metadata": {},
   "outputs": [],
   "source": [
    "! git clone https://github.com/Tessellate-Imaging/Monk_Object_Detection.git"
   ]
  },
  {
   "cell_type": "code",
   "execution_count": null,
   "metadata": {},
   "outputs": [],
   "source": [
    "! cd Monk_Object_Detection/18_mmaction/installation && chmod +x install.sh && ./install.sh"
   ]
  },
  {
   "cell_type": "code",
   "execution_count": null,
   "metadata": {},
   "outputs": [],
   "source": []
  },
  {
   "cell_type": "code",
   "execution_count": null,
   "metadata": {},
   "outputs": [],
   "source": []
  },
  {
   "cell_type": "markdown",
   "metadata": {},
   "source": [
    "# Running a classifier using pretrained weights"
   ]
  },
  {
   "cell_type": "code",
   "execution_count": 3,
   "metadata": {},
   "outputs": [],
   "source": [
    "import os\n",
    "import sys\n",
    "sys.path.append(\"Monk_Object_Detection/18_mmaction/lib\");"
   ]
  },
  {
   "cell_type": "code",
   "execution_count": 4,
   "metadata": {},
   "outputs": [],
   "source": [
    "from infer_engine import Infer_Videos"
   ]
  },
  {
   "cell_type": "code",
   "execution_count": 5,
   "metadata": {},
   "outputs": [],
   "source": [
    "gtf = Infer_Videos();"
   ]
  },
  {
   "cell_type": "code",
   "execution_count": null,
   "metadata": {},
   "outputs": [],
   "source": [
    "# Download trained model"
   ]
  },
  {
   "cell_type": "code",
   "execution_count": null,
   "metadata": {},
   "outputs": [],
   "source": [
    "! wget --load-cookies /tmp/cookies.txt \"https://docs.google.com/uc?export=download&confirm=$(wget --save-cookies /tmp/cookies.txt --keep-session-cookies --no-check-certificate 'https://docs.google.com/uc?export=download&id=1_urp_a_ZupFD2Is7a_JVjD4PWgmrQnfO' -O- | sed -rn 's/.*confirm=([0-9A-Za-z_]+).*/\\1\\n/p')&id=1_urp_a_ZupFD2Is7a_JVjD4PWgmrQnfO\" -O act_anomaly_trained.zip && rm -rf /tmp/cookies.txt"
   ]
  },
  {
   "cell_type": "code",
   "execution_count": null,
   "metadata": {},
   "outputs": [],
   "source": [
    "! unzip -qq act_anomaly_trained.zip"
   ]
  },
  {
   "cell_type": "code",
   "execution_count": null,
   "metadata": {},
   "outputs": [],
   "source": []
  },
  {
   "cell_type": "code",
   "execution_count": 6,
   "metadata": {},
   "outputs": [],
   "source": [
    "gtf.Dataset_Params('work_dirs/classes.txt');"
   ]
  },
  {
   "cell_type": "code",
   "execution_count": 7,
   "metadata": {},
   "outputs": [],
   "source": [
    "config_file = \"work_dirs/config.py\"\n",
    "checkpoint_file = \"work_dirs/latest.pth\"\n",
    "\n",
    "gtf.Model_Params(config_file, checkpoint_file, use_gpu=True)"
   ]
  },
  {
   "cell_type": "code",
   "execution_count": 9,
   "metadata": {},
   "outputs": [],
   "source": [
    "import cv2\n",
    "import numpy as np\n",
    "def overlay_text_on_video(input_video_path, output_video_path, class_name, score):\n",
    "    cap = cv2.VideoCapture(input_video_path)\n",
    "\n",
    "    if (cap.isOpened() == False): \n",
    "        print(\"Unable to read camera feed\")\n",
    "\n",
    "    frame_width = int(cap.get(3))\n",
    "    frame_height = int(cap.get(4))\n",
    "\n",
    "    out = cv2.VideoWriter(output_video_path, \n",
    "                          cv2.VideoWriter_fourcc('M','J','P','G'), \n",
    "                          30, \n",
    "                          (frame_width,frame_height))\n",
    "\n",
    "    while(True):\n",
    "        ret, frame = cap.read()\n",
    "        \n",
    "        if ret == True: \n",
    "            cv2.putText(frame, \n",
    "                        class_name + \": \" + str(score), \n",
    "                        (10, frame_height - 50), cv2.FONT_HERSHEY_SIMPLEX, \n",
    "                        1, \n",
    "                        (0, 0, 255),\n",
    "                        3)\n",
    "            out.write(frame)\n",
    "        else:\n",
    "            break  \n",
    "\n",
    "    cap.release()\n",
    "    out.release()\n",
    "\n",
    "    cv2.destroyAllWindows() "
   ]
  },
  {
   "cell_type": "code",
   "execution_count": null,
   "metadata": {},
   "outputs": [],
   "source": []
  },
  {
   "cell_type": "code",
   "execution_count": 35,
   "metadata": {},
   "outputs": [
    {
     "name": "stdout",
     "output_type": "stream",
     "text": [
      "['Abuse\\n', 'Arrest\\n', 'Arson\\n', 'Assault\\n', 'Burglary\\n', 'Explosion\\n', 'Fighting\\n', 'RoadAccidents\\n', 'Robbery\\n', 'Shooting\\n', 'Shoplifting\\n', 'Stealing\\n', 'Vandalism\\n', 'Normal\\n']\n"
     ]
    }
   ],
   "source": [
    "f = open(\"work_dirs/classes.txt\");\n",
    "lines = f.readlines();\n",
    "f.close();\n",
    "print(lines)"
   ]
  },
  {
   "cell_type": "code",
   "execution_count": null,
   "metadata": {},
   "outputs": [],
   "source": []
  },
  {
   "cell_type": "code",
   "execution_count": 33,
   "metadata": {},
   "outputs": [
    {
     "name": "stdout",
     "output_type": "stream",
     "text": [
      "Robbery:  0.22367368698120116\n",
      "RoadAccidents:  0.052903447151184085\n",
      "Normal:  0.03684401512145996\n",
      "Fighting:  0.009921221137046814\n",
      "Shooting:  -0.0011683371663093567\n"
     ]
    }
   ],
   "source": [
    "video_path = \"work_dirs/test/vid8.mp4\"\n",
    "classes, scores = gtf.Predict(video_path)\n",
    "overlay_text_on_video(video_path, \"out_vid8.avi\", classes[0], scores[0])"
   ]
  },
  {
   "cell_type": "code",
   "execution_count": null,
   "metadata": {},
   "outputs": [],
   "source": []
  },
  {
   "cell_type": "code",
   "execution_count": 31,
   "metadata": {},
   "outputs": [
    {
     "name": "stdout",
     "output_type": "stream",
     "text": [
      "RoadAccidents:  0.18423816680908203\n",
      "Fighting:  0.030982553958892822\n",
      "Abuse:  0.026321685314178465\n",
      "Normal:  0.020205574035644533\n",
      "Shooting:  0.009162065982818603\n"
     ]
    }
   ],
   "source": [
    "video_path = \"work_dirs/test/vid7.mp4\"\n",
    "classes, scores = gtf.Predict(video_path)\n",
    "overlay_text_on_video(video_path, \"out_vid7.avi\", classes[0], scores[0])"
   ]
  },
  {
   "cell_type": "code",
   "execution_count": null,
   "metadata": {},
   "outputs": [],
   "source": []
  },
  {
   "cell_type": "code",
   "execution_count": 28,
   "metadata": {},
   "outputs": [
    {
     "name": "stdout",
     "output_type": "stream",
     "text": [
      "Burglary:  0.3136114501953125\n",
      "Abuse:  0.022485620975494384\n",
      "Shooting:  0.0042833763360977176\n",
      "Normal:  0.0016837978363037109\n",
      "Explosion:  -0.0032809245586395263\n"
     ]
    }
   ],
   "source": [
    "video_path = \"work_dirs/test/vid6.mp4\"\n",
    "classes, scores = gtf.Predict(video_path)\n",
    "overlay_text_on_video(video_path, \"out_vid6.avi\", classes[0], scores[0])"
   ]
  },
  {
   "cell_type": "code",
   "execution_count": null,
   "metadata": {},
   "outputs": [],
   "source": []
  },
  {
   "cell_type": "code",
   "execution_count": 26,
   "metadata": {},
   "outputs": [
    {
     "name": "stdout",
     "output_type": "stream",
     "text": [
      "Fighting:  0.35715511322021487\n",
      "Shoplifting:  0.059228978157043456\n",
      "Assault:  0.0465134048461914\n",
      "Explosion:  0.03870271444320679\n",
      "RoadAccidents:  0.009895585775375366\n"
     ]
    }
   ],
   "source": [
    "video_path = \"work_dirs/test/vid5.mp4\"\n",
    "classes, scores = gtf.Predict(video_path)\n",
    "overlay_text_on_video(video_path, \"out_vid5.avi\", classes[0], scores[0])"
   ]
  },
  {
   "cell_type": "code",
   "execution_count": null,
   "metadata": {},
   "outputs": [],
   "source": []
  },
  {
   "cell_type": "code",
   "execution_count": 24,
   "metadata": {},
   "outputs": [
    {
     "name": "stdout",
     "output_type": "stream",
     "text": [
      "Explosion:  0.31157596588134767\n",
      "Normal:  0.02162719488143921\n",
      "Robbery:  0.019200522899627686\n",
      "Abuse:  0.004925416111946106\n",
      "Shooting:  -0.002163720726966858\n"
     ]
    }
   ],
   "source": [
    "video_path = \"work_dirs/test/vid4.mp4\"\n",
    "classes, scores = gtf.Predict(video_path)\n",
    "overlay_text_on_video(video_path, \"out_vid4.avi\", classes[0], scores[0])"
   ]
  },
  {
   "cell_type": "code",
   "execution_count": null,
   "metadata": {},
   "outputs": [],
   "source": []
  },
  {
   "cell_type": "code",
   "execution_count": 20,
   "metadata": {},
   "outputs": [
    {
     "name": "stdout",
     "output_type": "stream",
     "text": [
      "Arson:  0.25969398498535157\n",
      "Arrest:  0.045226125717163085\n",
      "Explosion:  0.008545739650726318\n",
      "Burglary:  0.007437759637832641\n",
      "RoadAccidents:  -0.0007851064205169678\n"
     ]
    }
   ],
   "source": [
    "video_path = \"work_dirs/test/vid1.mp4\"\n",
    "classes, scores = gtf.Predict(video_path)\n",
    "overlay_text_on_video(video_path, \"out_vid1.avi\", classes[0], scores[0])"
   ]
  },
  {
   "cell_type": "code",
   "execution_count": null,
   "metadata": {},
   "outputs": [],
   "source": []
  },
  {
   "cell_type": "code",
   "execution_count": 19,
   "metadata": {},
   "outputs": [
    {
     "name": "stdout",
     "output_type": "stream",
     "text": [
      "Arrest:  0.13680862426757812\n",
      "Abuse:  0.026137943267822265\n",
      "Shooting:  0.021783108711242675\n",
      "Assault:  0.010270752906799317\n",
      "Robbery:  0.007994648218154907\n"
     ]
    }
   ],
   "source": [
    "video_path = \"work_dirs/test/vid2.mp4\"\n",
    "classes, scores = gtf.Predict(video_path)\n",
    "overlay_text_on_video(video_path, \"out_vid2.avi\", classes[0], scores[0])"
   ]
  },
  {
   "cell_type": "code",
   "execution_count": null,
   "metadata": {},
   "outputs": [],
   "source": []
  },
  {
   "cell_type": "code",
   "execution_count": 18,
   "metadata": {},
   "outputs": [
    {
     "name": "stdout",
     "output_type": "stream",
     "text": [
      "Abuse:  0.2349905014038086\n",
      "Assault:  0.040805544853210446\n",
      "Explosion:  0.009628804922103882\n",
      "Fighting:  0.0035305726528167725\n",
      "Normal:  -0.004489867091178894\n"
     ]
    }
   ],
   "source": [
    "video_path = \"work_dirs/test/vid3.mp4\"\n",
    "classes, scores = gtf.Predict(video_path)\n",
    "overlay_text_on_video(video_path, \"out_vid3.avi\", classes[0], scores[0])"
   ]
  },
  {
   "cell_type": "code",
   "execution_count": null,
   "metadata": {},
   "outputs": [],
   "source": []
  },
  {
   "cell_type": "code",
   "execution_count": null,
   "metadata": {},
   "outputs": [],
   "source": []
  },
  {
   "cell_type": "code",
   "execution_count": null,
   "metadata": {},
   "outputs": [],
   "source": []
  },
  {
   "cell_type": "markdown",
   "metadata": {},
   "source": [
    "# Traning on a dataset"
   ]
  },
  {
   "cell_type": "code",
   "execution_count": null,
   "metadata": {},
   "outputs": [],
   "source": []
  },
  {
   "cell_type": "markdown",
   "metadata": {},
   "source": [
    "# Download dataset\n",
    " - Credits: https://www.crcv.ucf.edu/projects/real-world/ "
   ]
  },
  {
   "cell_type": "code",
   "execution_count": null,
   "metadata": {},
   "outputs": [],
   "source": []
  },
  {
   "cell_type": "code",
   "execution_count": null,
   "metadata": {},
   "outputs": [],
   "source": []
  },
  {
   "cell_type": "code",
   "execution_count": null,
   "metadata": {},
   "outputs": [],
   "source": [
    "! wget https://www.dropbox.com/sh/75v5ehq4cdg5g5g/AACxcnr1G--t0KWdrpj1tQmpa/Anomaly_Train.txt?dl=0"
   ]
  },
  {
   "cell_type": "code",
   "execution_count": null,
   "metadata": {},
   "outputs": [],
   "source": [
    "! wget https://www.dropbox.com/sh/75v5ehq4cdg5g5g/AABJtkTnNc8LcVTfH1gE_uFoa/Anomaly-Videos-Part-1.zip?dl=0"
   ]
  },
  {
   "cell_type": "code",
   "execution_count": null,
   "metadata": {},
   "outputs": [],
   "source": [
    "! wget https://www.dropbox.com/sh/75v5ehq4cdg5g5g/AAAbdSEUox64ZLgVAntr2WgSa/Anomaly-Videos-Part-2.zip?dl=0"
   ]
  },
  {
   "cell_type": "code",
   "execution_count": null,
   "metadata": {},
   "outputs": [],
   "source": [
    "! wget https://www.dropbox.com/sh/75v5ehq4cdg5g5g/AAAgpsRNSHI_BtRnSCxxR7j9a/Anomaly-Videos-Part-3.zip?dl=0"
   ]
  },
  {
   "cell_type": "code",
   "execution_count": null,
   "metadata": {},
   "outputs": [],
   "source": [
    "! wget https://www.dropbox.com/sh/75v5ehq4cdg5g5g/AABqY-3fJSmSMafFIlJXRE-9a/Anomaly-Videos-Part-4.zip?dl=0"
   ]
  },
  {
   "cell_type": "code",
   "execution_count": null,
   "metadata": {},
   "outputs": [],
   "source": [
    "! wget https://www.dropbox.com/sh/75v5ehq4cdg5g5g/AADEUCsLOCN_jHmmx7uFcUhHa/Training-Normal-Videos-Part-1.zip?dl=0"
   ]
  },
  {
   "cell_type": "code",
   "execution_count": null,
   "metadata": {},
   "outputs": [],
   "source": [
    "! wget https://www.dropbox.com/sh/75v5ehq4cdg5g5g/AAAHZByMMGCVms4hhHZU2pMBa/Training-Normal-Videos-Part-2.zip?dl=0"
   ]
  },
  {
   "cell_type": "code",
   "execution_count": null,
   "metadata": {},
   "outputs": [],
   "source": []
  },
  {
   "cell_type": "code",
   "execution_count": null,
   "metadata": {},
   "outputs": [],
   "source": [
    "! mv Anomaly-Videos-Part-1.zip?dl=0 Anomaly-Videos-Part-1.zip\n",
    "! mv Anomaly-Videos-Part-2.zip?dl=0 Anomaly-Videos-Part-2.zip\n",
    "! mv Anomaly-Videos-Part-3.zip?dl=0 Anomaly-Videos-Part-3.zip\n",
    "! mv Anomaly-Videos-Part-4.zip?dl=0 Anomaly-Videos-Part-4.zip\n",
    "\n",
    "\n",
    "! mv Anomaly_Train.txt?dl=0 Anomaly_Train.txt\n",
    "\n",
    "! mv Training-Normal-Videos-Part-1.zip?dl=0 Training-Normal-Videos-Part-1.zip\n",
    "! mv Training-Normal-Videos-Part-2.zip?dl=0 Training-Normal-Videos-Part-2.zip\n",
    "\n",
    "! mv UCF_Crimes-Train-Test-Split.zip?dl=0 UCF_Crimes-Train-Test-Split.zip"
   ]
  },
  {
   "cell_type": "code",
   "execution_count": null,
   "metadata": {},
   "outputs": [],
   "source": []
  },
  {
   "cell_type": "code",
   "execution_count": null,
   "metadata": {},
   "outputs": [],
   "source": [
    "! unzip -qq Anomaly-Videos-Part-1.zip\n",
    "! unzip -qq Anomaly-Videos-Part-2.zip\n",
    "! unzip -qq Anomaly-Videos-Part-3.zip\n",
    "! unzip -qq Anomaly-Videos-Part-4.zip\n",
    "\n",
    "! unzip -qq Training-Normal-Videos-Part-1.zip\n",
    "! unzip -qq Training-Normal-Videos-Part-2.zip\n",
    "\n",
    "! unzip -qq UCF_Crimes-Train-Test-Split.zip"
   ]
  },
  {
   "cell_type": "code",
   "execution_count": null,
   "metadata": {},
   "outputs": [],
   "source": []
  },
  {
   "cell_type": "code",
   "execution_count": null,
   "metadata": {},
   "outputs": [],
   "source": []
  },
  {
   "cell_type": "code",
   "execution_count": 1,
   "metadata": {},
   "outputs": [],
   "source": [
    "! mkdir Dataset\n",
    "! mkdir Dataset/Videos"
   ]
  },
  {
   "cell_type": "code",
   "execution_count": null,
   "metadata": {},
   "outputs": [],
   "source": []
  },
  {
   "cell_type": "code",
   "execution_count": 3,
   "metadata": {},
   "outputs": [],
   "source": [
    "# get per class strength\n",
    "import os"
   ]
  },
  {
   "cell_type": "code",
   "execution_count": 11,
   "metadata": {},
   "outputs": [
    {
     "name": "stdout",
     "output_type": "stream",
     "text": [
      "Class Abuse: 50\n",
      "Class Arrest: 50\n",
      "Class Arson: 50\n",
      "Class Assault: 50\n",
      "Class Burglary: 100\n",
      "Class Explosion: 50\n",
      "Class Fighting: 50\n",
      "Class RoadAccidents: 150\n",
      "Class Robbery: 150\n",
      "Class Shooting: 50\n",
      "Class Shoplifting: 50\n",
      "Class Stealing: 100\n",
      "Class Vandalism: 50\n"
     ]
    }
   ],
   "source": [
    "print(\"Class Abuse: {}\".format(len(os.listdir(\"Anomaly-Videos-Part-1/Abuse\"))))\n",
    "print(\"Class Arrest: {}\".format(len(os.listdir(\"Anomaly-Videos-Part-1/Arrest\"))))\n",
    "print(\"Class Arson: {}\".format(len(os.listdir(\"Anomaly-Videos-Part-1/Arson\"))))\n",
    "print(\"Class Assault: {}\".format(len(os.listdir(\"Anomaly-Videos-Part-1/Assault\"))))\n",
    "print(\"Class Burglary: {}\".format(len(os.listdir(\"Anomaly-Videos-Part-2/Burglary\"))))\n",
    "print(\"Class Explosion: {}\".format(len(os.listdir(\"Anomaly-Videos-Part-2/Explosion\"))))\n",
    "print(\"Class Fighting: {}\".format(len(os.listdir(\"Anomaly-Videos-Part-2/Fighting\"))))\n",
    "print(\"Class RoadAccidents: {}\".format(len(os.listdir(\"Anomaly-Videos-Part-3/RoadAccidents\"))))\n",
    "print(\"Class Robbery: {}\".format(len(os.listdir(\"Anomaly-Videos-Part-3/Robbery\"))))\n",
    "print(\"Class Shooting: {}\".format(len(os.listdir(\"Anomaly-Videos-Part-3/Shooting\"))))\n",
    "print(\"Class Shoplifting: {}\".format(len(os.listdir(\"Anomaly-Videos-Part-4/Shoplifting\"))))\n",
    "print(\"Class Stealing: {}\".format(len(os.listdir(\"Anomaly-Videos-Part-4/Stealing\"))))\n",
    "print(\"Class Vandalism: {}\".format(len(os.listdir(\"Anomaly-Videos-Part-4/Vandalism\"))))"
   ]
  },
  {
   "cell_type": "code",
   "execution_count": 13,
   "metadata": {},
   "outputs": [
    {
     "name": "stdout",
     "output_type": "stream",
     "text": [
      "Class Normal-1: 430\n",
      "Class Normal-2: 370\n"
     ]
    }
   ],
   "source": [
    "print(\"Class Normal-1: {}\".format(len(os.listdir(\"Training-Normal-Videos-Part-1\"))))\n",
    "print(\"Class Normal-2: {}\".format(len(os.listdir(\"Training-Normal-Videos-Part-2\"))))"
   ]
  },
  {
   "cell_type": "code",
   "execution_count": null,
   "metadata": {},
   "outputs": [],
   "source": []
  },
  {
   "cell_type": "code",
   "execution_count": 6,
   "metadata": {},
   "outputs": [],
   "source": [
    "classes = [\"Abuse\", \"Arrest\", \"Arson\", \"Assault\", \"Burglary\", \"Explosion\",\n",
    "           \"Fighting\", \"RoadAccidents\", \"Robbery\", \"Shooting\", \"Shoplifting\", \n",
    "           \"Stealing\", \"Vandalism\", \"Normal\"]"
   ]
  },
  {
   "cell_type": "code",
   "execution_count": 7,
   "metadata": {},
   "outputs": [],
   "source": [
    "f = open(\"Dataset/classes.txt\", 'w');\n",
    "for i in range(len(classes)):\n",
    "    f.write(classes[i] + \"\\n\");\n",
    "f.close();"
   ]
  },
  {
   "cell_type": "code",
   "execution_count": null,
   "metadata": {},
   "outputs": [],
   "source": []
  },
  {
   "cell_type": "code",
   "execution_count": 3,
   "metadata": {},
   "outputs": [],
   "source": [
    "import os\n",
    "from tqdm import tqdm\n",
    "combined = [];"
   ]
  },
  {
   "cell_type": "code",
   "execution_count": 4,
   "metadata": {},
   "outputs": [
    {
     "name": "stderr",
     "output_type": "stream",
     "text": [
      "100%|██████████| 50/50 [00:08<00:00,  6.08it/s]\n"
     ]
    }
   ],
   "source": [
    "folder_name = \"Anomaly-Videos-Part-1/\"\n",
    "class_name = \"Abuse\";\n",
    "folder_name += class_name + \"/\";\n",
    "\n",
    "vid_list = os.listdir(folder_name);\n",
    "for i in tqdm(range(len(vid_list))):\n",
    "    os.system(\"cp \" + folder_name + vid_list[i] + \" Dataset/Videos/\")\n",
    "    wr = vid_list[i] + \" \" + str(classes.index(class_name))\n",
    "    combined.append(wr)"
   ]
  },
  {
   "cell_type": "code",
   "execution_count": 5,
   "metadata": {},
   "outputs": [
    {
     "name": "stderr",
     "output_type": "stream",
     "text": [
      "100%|██████████| 50/50 [00:15<00:00,  3.21it/s]\n"
     ]
    }
   ],
   "source": [
    "folder_name = \"Anomaly-Videos-Part-1/\"\n",
    "class_name = \"Arrest\";\n",
    "folder_name += class_name + \"/\";\n",
    "\n",
    "vid_list = os.listdir(folder_name);\n",
    "for i in tqdm(range(len(vid_list))):\n",
    "    os.system(\"cp \" + folder_name + vid_list[i] + \" Dataset/Videos/\")\n",
    "    wr = vid_list[i] + \" \" + str(classes.index(class_name))\n",
    "    combined.append(wr)"
   ]
  },
  {
   "cell_type": "code",
   "execution_count": 6,
   "metadata": {},
   "outputs": [
    {
     "name": "stderr",
     "output_type": "stream",
     "text": [
      "100%|██████████| 50/50 [00:14<00:00,  3.36it/s]\n"
     ]
    }
   ],
   "source": [
    "folder_name = \"Anomaly-Videos-Part-1/\"\n",
    "class_name = \"Arson\";\n",
    "folder_name += class_name + \"/\";\n",
    "\n",
    "vid_list = os.listdir(folder_name);\n",
    "for i in tqdm(range(len(vid_list))):\n",
    "    os.system(\"cp \" + folder_name + vid_list[i] + \" Dataset/Videos/\")\n",
    "    wr = vid_list[i] + \" \" + str(classes.index(class_name))\n",
    "    combined.append(wr)"
   ]
  },
  {
   "cell_type": "code",
   "execution_count": 7,
   "metadata": {},
   "outputs": [
    {
     "name": "stderr",
     "output_type": "stream",
     "text": [
      "100%|██████████| 50/50 [00:07<00:00,  6.77it/s]\n"
     ]
    }
   ],
   "source": [
    "folder_name = \"Anomaly-Videos-Part-1/\"\n",
    "class_name = \"Assault\";\n",
    "folder_name += class_name + \"/\";\n",
    "\n",
    "vid_list = os.listdir(folder_name);\n",
    "for i in tqdm(range(len(vid_list))):\n",
    "    os.system(\"cp \" + folder_name + vid_list[i] + \" Dataset/Videos/\")\n",
    "    wr = vid_list[i] + \" \" + str(classes.index(class_name))\n",
    "    combined.append(wr)"
   ]
  },
  {
   "cell_type": "code",
   "execution_count": 8,
   "metadata": {},
   "outputs": [
    {
     "name": "stderr",
     "output_type": "stream",
     "text": [
      "100%|██████████| 100/100 [00:21<00:00,  4.70it/s]\n"
     ]
    }
   ],
   "source": [
    "folder_name = \"Anomaly-Videos-Part-2/\"\n",
    "class_name = \"Burglary\";\n",
    "folder_name += class_name + \"/\";\n",
    "\n",
    "vid_list = os.listdir(folder_name);\n",
    "for i in tqdm(range(len(vid_list))):\n",
    "    os.system(\"cp \" + folder_name + vid_list[i] + \" Dataset/Videos/\")\n",
    "    wr = vid_list[i] + \" \" + str(classes.index(class_name))\n",
    "    combined.append(wr)"
   ]
  },
  {
   "cell_type": "code",
   "execution_count": 9,
   "metadata": {},
   "outputs": [
    {
     "name": "stderr",
     "output_type": "stream",
     "text": [
      "100%|██████████| 50/50 [00:14<00:00,  3.41it/s]\n"
     ]
    }
   ],
   "source": [
    "folder_name = \"Anomaly-Videos-Part-2/\"\n",
    "class_name = \"Explosion\";\n",
    "folder_name += class_name + \"/\";\n",
    "\n",
    "vid_list = os.listdir(folder_name);\n",
    "for i in tqdm(range(len(vid_list))):\n",
    "    os.system(\"cp \" + folder_name + vid_list[i] + \" Dataset/Videos/\")\n",
    "    wr = vid_list[i] + \" \" + str(classes.index(class_name))\n",
    "    combined.append(wr)"
   ]
  },
  {
   "cell_type": "code",
   "execution_count": 10,
   "metadata": {},
   "outputs": [
    {
     "name": "stderr",
     "output_type": "stream",
     "text": [
      "100%|██████████| 50/50 [00:15<00:00,  3.30it/s]\n"
     ]
    }
   ],
   "source": [
    "folder_name = \"Anomaly-Videos-Part-2/\"\n",
    "class_name = \"Fighting\";\n",
    "folder_name += class_name + \"/\";\n",
    "\n",
    "vid_list = os.listdir(folder_name);\n",
    "for i in tqdm(range(len(vid_list))):\n",
    "    os.system(\"cp \" + folder_name + vid_list[i] + \" Dataset/Videos/\")\n",
    "    wr = vid_list[i] + \" \" + str(classes.index(class_name))\n",
    "    combined.append(wr)"
   ]
  },
  {
   "cell_type": "code",
   "execution_count": 11,
   "metadata": {},
   "outputs": [
    {
     "name": "stderr",
     "output_type": "stream",
     "text": [
      "100%|██████████| 150/150 [00:13<00:00, 11.37it/s]\n"
     ]
    }
   ],
   "source": [
    "folder_name = \"Anomaly-Videos-Part-3/\"\n",
    "class_name = \"RoadAccidents\";\n",
    "folder_name += class_name + \"/\";\n",
    "\n",
    "vid_list = os.listdir(folder_name);\n",
    "for i in tqdm(range(len(vid_list))):\n",
    "    os.system(\"cp \" + folder_name + vid_list[i] + \" Dataset/Videos/\")\n",
    "    wr = vid_list[i] + \" \" + str(classes.index(class_name))\n",
    "    combined.append(wr)"
   ]
  },
  {
   "cell_type": "code",
   "execution_count": 12,
   "metadata": {},
   "outputs": [
    {
     "name": "stderr",
     "output_type": "stream",
     "text": [
      "100%|██████████| 150/150 [00:22<00:00,  6.77it/s]\n"
     ]
    }
   ],
   "source": [
    "folder_name = \"Anomaly-Videos-Part-3/\"\n",
    "class_name = \"Robbery\";\n",
    "folder_name += class_name + \"/\";\n",
    "\n",
    "vid_list = os.listdir(folder_name);\n",
    "for i in tqdm(range(len(vid_list))):\n",
    "    os.system(\"cp \" + folder_name + vid_list[i] + \" Dataset/Videos/\")\n",
    "    wr = vid_list[i] + \" \" + str(classes.index(class_name))\n",
    "    combined.append(wr)"
   ]
  },
  {
   "cell_type": "code",
   "execution_count": 13,
   "metadata": {},
   "outputs": [
    {
     "name": "stderr",
     "output_type": "stream",
     "text": [
      "100%|██████████| 50/50 [00:07<00:00,  6.61it/s]\n"
     ]
    }
   ],
   "source": [
    "folder_name = \"Anomaly-Videos-Part-3/\"\n",
    "class_name = \"Shooting\";\n",
    "folder_name += class_name + \"/\";\n",
    "\n",
    "vid_list = os.listdir(folder_name);\n",
    "for i in tqdm(range(len(vid_list))):\n",
    "    os.system(\"cp \" + folder_name + vid_list[i] + \" Dataset/Videos/\")\n",
    "    wr = vid_list[i] + \" \" + str(classes.index(class_name))\n",
    "    combined.append(wr)"
   ]
  },
  {
   "cell_type": "code",
   "execution_count": 14,
   "metadata": {},
   "outputs": [
    {
     "name": "stderr",
     "output_type": "stream",
     "text": [
      "100%|██████████| 50/50 [00:19<00:00,  2.53it/s]\n"
     ]
    }
   ],
   "source": [
    "folder_name = \"Anomaly-Videos-Part-4/\"\n",
    "class_name = \"Shoplifting\";\n",
    "folder_name += class_name + \"/\";\n",
    "\n",
    "vid_list = os.listdir(folder_name);\n",
    "for i in tqdm(range(len(vid_list))):\n",
    "    os.system(\"cp \" + folder_name + vid_list[i] + \" Dataset/Videos/\")\n",
    "    wr = vid_list[i] + \" \" + str(classes.index(class_name))\n",
    "    combined.append(wr)"
   ]
  },
  {
   "cell_type": "code",
   "execution_count": 15,
   "metadata": {},
   "outputs": [
    {
     "name": "stderr",
     "output_type": "stream",
     "text": [
      "100%|██████████| 100/100 [00:22<00:00,  4.47it/s]\n"
     ]
    }
   ],
   "source": [
    "folder_name = \"Anomaly-Videos-Part-4/\"\n",
    "class_name = \"Stealing\";\n",
    "folder_name += class_name + \"/\";\n",
    "\n",
    "vid_list = os.listdir(folder_name);\n",
    "for i in tqdm(range(len(vid_list))):\n",
    "    os.system(\"cp \" + folder_name + vid_list[i] + \" Dataset/Videos/\")\n",
    "    wr = vid_list[i] + \" \" + str(classes.index(class_name))\n",
    "    combined.append(wr)"
   ]
  },
  {
   "cell_type": "code",
   "execution_count": 16,
   "metadata": {},
   "outputs": [
    {
     "name": "stderr",
     "output_type": "stream",
     "text": [
      "100%|██████████| 50/50 [00:07<00:00,  6.51it/s]\n"
     ]
    }
   ],
   "source": [
    "folder_name = \"Anomaly-Videos-Part-4/\"\n",
    "class_name = \"Vandalism\";\n",
    "folder_name += class_name + \"/\";\n",
    "\n",
    "vid_list = os.listdir(folder_name);\n",
    "for i in tqdm(range(len(vid_list))):\n",
    "    os.system(\"cp \" + folder_name + vid_list[i] + \" Dataset/Videos/\")\n",
    "    wr = vid_list[i] + \" \" + str(classes.index(class_name))\n",
    "    combined.append(wr)"
   ]
  },
  {
   "cell_type": "code",
   "execution_count": null,
   "metadata": {},
   "outputs": [],
   "source": []
  },
  {
   "cell_type": "code",
   "execution_count": 17,
   "metadata": {},
   "outputs": [
    {
     "name": "stderr",
     "output_type": "stream",
     "text": [
      "100%|██████████| 430/430 [00:00<00:00, 449875.46it/s]\n"
     ]
    }
   ],
   "source": [
    "folder_name = \"Training-Normal-Videos-Part-1/\"\n",
    "class_name = \"Normal\";\n",
    "\n",
    "vid_list = os.listdir(folder_name);\n",
    "for i in tqdm(range(len(vid_list))):\n",
    "    os.system(\"cp \" + folder_name + vid_list[i] + \" Dataset/Videos/\")\n",
    "    wr = vid_list[i] + \" \" + str(classes.index(class_name))\n",
    "    combined.append(wr)"
   ]
  },
  {
   "cell_type": "code",
   "execution_count": 18,
   "metadata": {},
   "outputs": [
    {
     "name": "stderr",
     "output_type": "stream",
     "text": [
      "100%|██████████| 370/370 [00:00<00:00, 414722.74it/s]\n"
     ]
    }
   ],
   "source": [
    "folder_name = \"Training-Normal-Videos-Part-2/\"\n",
    "class_name = \"Normal\";\n",
    "\n",
    "vid_list = os.listdir(folder_name);\n",
    "for i in tqdm(range(len(vid_list))):\n",
    "    os.system(\"cp \" + folder_name + vid_list[i] + \" Dataset/Videos/\")\n",
    "    wr = vid_list[i] + \" \" + str(classes.index(class_name))\n",
    "    combined.append(wr)"
   ]
  },
  {
   "cell_type": "code",
   "execution_count": 20,
   "metadata": {},
   "outputs": [
    {
     "data": {
      "text/plain": [
       "(['Abuse002_x264.mp4 0',\n",
       "  'Abuse034_x264.mp4 0',\n",
       "  'Abuse017_x264.mp4 0',\n",
       "  'Abuse043_x264.mp4 0',\n",
       "  'Abuse044_x264.mp4 0'],\n",
       " 1750)"
      ]
     },
     "execution_count": 20,
     "metadata": {},
     "output_type": "execute_result"
    }
   ],
   "source": [
    "combined[:5], len(combined)"
   ]
  },
  {
   "cell_type": "code",
   "execution_count": 21,
   "metadata": {},
   "outputs": [],
   "source": [
    "import random\n",
    "random.shuffle(combined)"
   ]
  },
  {
   "cell_type": "code",
   "execution_count": 22,
   "metadata": {},
   "outputs": [
    {
     "data": {
      "text/plain": [
       "(['Assault028_x264.mp4 3',\n",
       "  'Explosion003_x264.mp4 5',\n",
       "  'Normal_Videos047_x264.mp4 13',\n",
       "  'Stealing067_x264.mp4 11',\n",
       "  'Normal_Videos827_x264.mp4 13'],\n",
       " 1750)"
      ]
     },
     "execution_count": 22,
     "metadata": {},
     "output_type": "execute_result"
    }
   ],
   "source": [
    "combined[:5], len(combined)"
   ]
  },
  {
   "cell_type": "code",
   "execution_count": null,
   "metadata": {},
   "outputs": [],
   "source": []
  },
  {
   "cell_type": "code",
   "execution_count": 23,
   "metadata": {},
   "outputs": [],
   "source": [
    "f = open(\"Dataset/train.txt\", 'w')\n",
    "for i in range(len(combined)):\n",
    "    f.write(combined[i] + \"\\n\");\n",
    "f.close();"
   ]
  },
  {
   "cell_type": "code",
   "execution_count": 24,
   "metadata": {},
   "outputs": [],
   "source": [
    "f = open(\"Dataset/val.txt\", 'w')\n",
    "for i in range(len(combined)):\n",
    "    f.write(combined[i] + \"\\n\");\n",
    "f.close();"
   ]
  },
  {
   "cell_type": "code",
   "execution_count": null,
   "metadata": {},
   "outputs": [],
   "source": []
  },
  {
   "cell_type": "code",
   "execution_count": null,
   "metadata": {},
   "outputs": [],
   "source": []
  },
  {
   "cell_type": "code",
   "execution_count": null,
   "metadata": {},
   "outputs": [],
   "source": []
  },
  {
   "cell_type": "markdown",
   "metadata": {},
   "source": [
    "# Train your own network"
   ]
  },
  {
   "cell_type": "code",
   "execution_count": 1,
   "metadata": {},
   "outputs": [],
   "source": [
    "import os\n",
    "import sys\n",
    "sys.path.append(\"Monk_Object_Detection/18_mmaction/lib\");"
   ]
  },
  {
   "cell_type": "code",
   "execution_count": 2,
   "metadata": {},
   "outputs": [],
   "source": [
    "from train_engine import Detector_Videos"
   ]
  },
  {
   "cell_type": "code",
   "execution_count": 3,
   "metadata": {},
   "outputs": [],
   "source": [
    "gtf = Detector_Videos();"
   ]
  },
  {
   "cell_type": "code",
   "execution_count": 8,
   "metadata": {},
   "outputs": [],
   "source": [
    "video_dir = 'Dataset/Videos/';\n",
    "anno_file = 'Dataset/train.txt';\n",
    "classes_list_file = 'Dataset/classes.txt';\n",
    "\n",
    "gtf.Train_Video_Dataset(video_dir, anno_file, classes_list_file);"
   ]
  },
  {
   "cell_type": "code",
   "execution_count": 9,
   "metadata": {},
   "outputs": [],
   "source": [
    "video_dir = 'Dataset/Videos/';\n",
    "anno_file = 'Dataset/val.txt';\n",
    "\n",
    "gtf.Val_Video_Dataset(video_dir, anno_file);"
   ]
  },
  {
   "cell_type": "code",
   "execution_count": 10,
   "metadata": {},
   "outputs": [],
   "source": [
    "gtf.Dataset_Params(batch_size=8, num_workers=4)"
   ]
  },
  {
   "cell_type": "code",
   "execution_count": 11,
   "metadata": {},
   "outputs": [
    {
     "name": "stdout",
     "output_type": "stream",
     "text": [
      "1. Model - tsn_r50\n",
      "2. Model - tsm_r50\n",
      "3. Model - r2plus1d_r34\n",
      "4. Model - i3d_r50\n",
      "5. Model - slowonly_r50\n",
      "6. Model - slowfast_r50\n"
     ]
    }
   ],
   "source": [
    "gtf.List_Models();"
   ]
  },
  {
   "cell_type": "code",
   "execution_count": 12,
   "metadata": {},
   "outputs": [],
   "source": [
    "gtf.Model_Params(model_name=\"tsm_r50\", gpu_devices=[0])"
   ]
  },
  {
   "cell_type": "code",
   "execution_count": 13,
   "metadata": {},
   "outputs": [],
   "source": [
    "gtf.Hyper_Params(lr=0.001, momentum=0.9, weight_decay=0.0001)"
   ]
  },
  {
   "cell_type": "code",
   "execution_count": 14,
   "metadata": {},
   "outputs": [],
   "source": [
    "gtf.Training_Params(num_epochs=100, val_interval=10)"
   ]
  },
  {
   "cell_type": "code",
   "execution_count": null,
   "metadata": {},
   "outputs": [],
   "source": [
    "gtf.Train();"
   ]
  },
  {
   "cell_type": "code",
   "execution_count": null,
   "metadata": {},
   "outputs": [],
   "source": []
  },
  {
   "cell_type": "code",
   "execution_count": null,
   "metadata": {},
   "outputs": [],
   "source": []
  }
 ],
 "metadata": {
  "kernelspec": {
   "display_name": "Python 3",
   "language": "python",
   "name": "python3"
  },
  "language_info": {
   "codemirror_mode": {
    "name": "ipython",
    "version": 3
   },
   "file_extension": ".py",
   "mimetype": "text/x-python",
   "name": "python",
   "nbconvert_exporter": "python",
   "pygments_lexer": "ipython3",
   "version": "3.6.9"
  }
 },
 "nbformat": 4,
 "nbformat_minor": 4
}
