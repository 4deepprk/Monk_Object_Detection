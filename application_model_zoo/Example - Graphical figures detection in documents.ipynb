{
 "cells": [
  {
   "cell_type": "markdown",
   "metadata": {},
   "source": [
    "<a href=\"https://colab.research.google.com/github/Tessellate-Imaging/Monk_Object_Detection/blob/master/application_model_zoo/Example%20-%20Graphical%20figures%20detection%20in%20documents.ipynb\" target=\"_parent\"><img src=\"https://colab.research.google.com/assets/colab-badge.svg\" alt=\"Open In Colab\"/></a>"
   ]
  },
  {
   "cell_type": "code",
   "execution_count": null,
   "metadata": {},
   "outputs": [],
   "source": []
  },
  {
   "cell_type": "markdown",
   "metadata": {},
   "source": [
    "# Table of contents\n",
    "\n",
    "\n",
    "## 1. Installation Instructions\n",
    "\n",
    "\n",
    "\n",
    "## 2. Use trained model to detect graphical objects in a document\n",
    "\n",
    "\n",
    "\n",
    "## 3. How to train using Tensorflow object detection API wrapper and IIIT-AR-13K dataset"
   ]
  },
  {
   "cell_type": "code",
   "execution_count": null,
   "metadata": {},
   "outputs": [],
   "source": []
  },
  {
   "cell_type": "markdown",
   "metadata": {},
   "source": [
    "##  More examples on \n",
    "  - Tensorflow object detection API 1.0 - https://github.com/Tessellate-Imaging/Monk_Object_Detection/tree/master/example_notebooks/12_tf_obj_1\n",
    "  - Tensorflow object detection API 2.0 - https://github.com/Tessellate-Imaging/Monk_Object_Detection/tree/master/example_notebooks/13_tf_obj_2 "
   ]
  },
  {
   "cell_type": "code",
   "execution_count": null,
   "metadata": {},
   "outputs": [],
   "source": []
  },
  {
   "cell_type": "markdown",
   "metadata": {},
   "source": [
    "# Installation\n",
    "\n",
    " - Run these commands\n",
    "     \n",
    "     - git clone https://github.com/Tessellate-Imaging/Monk_Object_Detection.git\n",
    "     \n",
    "     - cd Monk_Object_Detection/12_tf_obj_1/installation\n",
    "     \n",
    " - Select the right file and run\n",
    " \n",
    "     - chmod +x install_cuda10.sh && ./install_cuda10.sh"
   ]
  },
  {
   "cell_type": "code",
   "execution_count": null,
   "metadata": {},
   "outputs": [],
   "source": [
    "# Only for COLAB\n",
    "# Switch to TF 1.0 version (Uncomment the following line)\n",
    "\n",
    "#%tensorflow_version 1.x\n",
    "\n",
    "# Now reset the runetime if prompted by colab"
   ]
  },
  {
   "cell_type": "code",
   "execution_count": null,
   "metadata": {},
   "outputs": [],
   "source": [
    "# Check TF version\n",
    "import tensorflow as tf\n",
    "print(tf.__version__)"
   ]
  },
  {
   "cell_type": "code",
   "execution_count": null,
   "metadata": {},
   "outputs": [],
   "source": [
    "# For colab use the command below\n",
    "! cd Monk_Object_Detection/12_tf_obj_1/installation && chmod +x install_colab.sh && ./install_colab.sh\n",
    "# Restart colab runtime now\n",
    "\n",
    "# For Local systems and cloud select the right CUDA version\n",
    "# ! cd Monk_Object_Detection/12_tf_obj_1/installation && chmod +x install_cuda10.sh && ./install_cuda10.sh"
   ]
  },
  {
   "cell_type": "code",
   "execution_count": null,
   "metadata": {},
   "outputs": [],
   "source": []
  },
  {
   "cell_type": "code",
   "execution_count": null,
   "metadata": {},
   "outputs": [],
   "source": []
  },
  {
   "cell_type": "markdown",
   "metadata": {},
   "source": [
    "# Use already trained model for demo"
   ]
  },
  {
   "cell_type": "code",
   "execution_count": null,
   "metadata": {},
   "outputs": [],
   "source": [
    "import os\n",
    "import sys\n",
    "sys.path.append(\"Monk_Object_Detection/12_tf_obj_1/lib/\") "
   ]
  },
  {
   "cell_type": "code",
   "execution_count": null,
   "metadata": {},
   "outputs": [],
   "source": [
    "from infer_detector import Infer"
   ]
  },
  {
   "cell_type": "code",
   "execution_count": null,
   "metadata": {},
   "outputs": [],
   "source": [
    "gtf = Infer();"
   ]
  },
  {
   "cell_type": "code",
   "execution_count": null,
   "metadata": {},
   "outputs": [],
   "source": [
    "# Download trained model"
   ]
  },
  {
   "cell_type": "code",
   "execution_count": null,
   "metadata": {},
   "outputs": [],
   "source": [
    "! wget --load-cookies /tmp/cookies.txt \"https://docs.google.com/uc?export=download&confirm=$(wget --save-cookies /tmp/cookies.txt --keep-session-cookies --no-check-certificate 'https://docs.google.com/uc?export=download&id=1SyWRUaLwa408WRQXLkYOgjIXGIp75fWO' -O- | sed -rn 's/.*confirm=([0-9A-Za-z_]+).*/\\1\\n/p')&id=1SyWRUaLwa408WRQXLkYOgjIXGIp75fWO\" -O obj_document_trained.zip && rm -rf /tmp/cookies.txt"
   ]
  },
  {
   "cell_type": "code",
   "execution_count": null,
   "metadata": {},
   "outputs": [],
   "source": [
    "! unzip -qq obj_document_trained.zip"
   ]
  },
  {
   "cell_type": "code",
   "execution_count": null,
   "metadata": {},
   "outputs": [],
   "source": [
    "gtf.set_model_params('export_dir/frozen_inference_graph.pb', \"export_dir/classes.txt\")"
   ]
  },
  {
   "cell_type": "code",
   "execution_count": null,
   "metadata": {},
   "outputs": [],
   "source": []
  },
  {
   "cell_type": "code",
   "execution_count": null,
   "metadata": {},
   "outputs": [],
   "source": [
    "scores, bboxes, labels = gtf.infer_on_image('export_dir/test/img1.jpg', thresh=0.7, \n",
    "                                            bbox_thickness=3, text_size=2, text_thickness=4);\n",
    "from IPython.display import Image\n",
    "Image(filename='output.png', width=500) "
   ]
  },
  {
   "cell_type": "code",
   "execution_count": null,
   "metadata": {},
   "outputs": [],
   "source": []
  },
  {
   "cell_type": "code",
   "execution_count": null,
   "metadata": {},
   "outputs": [],
   "source": [
    "scores, bboxes, labels = gtf.infer_on_image('export_dir/test/img2.jpg', thresh=0.7, \n",
    "                                            bbox_thickness=3, text_size=2, text_thickness=4);\n",
    "from IPython.display import Image\n",
    "Image(filename='output.png', width=500) "
   ]
  },
  {
   "cell_type": "code",
   "execution_count": null,
   "metadata": {},
   "outputs": [],
   "source": []
  },
  {
   "cell_type": "code",
   "execution_count": null,
   "metadata": {},
   "outputs": [],
   "source": [
    "scores, bboxes, labels = gtf.infer_on_image('export_dir/test/img3.jpg', thresh=0.7, \n",
    "                                            bbox_thickness=3, text_size=2, text_thickness=4);\n",
    "from IPython.display import Image\n",
    "Image(filename='output.png', width=500) "
   ]
  },
  {
   "cell_type": "code",
   "execution_count": null,
   "metadata": {},
   "outputs": [],
   "source": []
  },
  {
   "cell_type": "code",
   "execution_count": null,
   "metadata": {},
   "outputs": [],
   "source": [
    "scores, bboxes, labels = gtf.infer_on_image('export_dir/test/img4.jpg', thresh=0.7, \n",
    "                                            bbox_thickness=3, text_size=2, text_thickness=4);\n",
    "from IPython.display import Image\n",
    "Image(filename='output.png', width=500) "
   ]
  },
  {
   "cell_type": "code",
   "execution_count": null,
   "metadata": {},
   "outputs": [],
   "source": []
  },
  {
   "cell_type": "code",
   "execution_count": null,
   "metadata": {},
   "outputs": [],
   "source": [
    "scores, bboxes, labels = gtf.infer_on_image('export_dir/test/img5.jpg', thresh=0.7, \n",
    "                                            bbox_thickness=3, text_size=2, text_thickness=4);\n",
    "from IPython.display import Image\n",
    "Image(filename='output.png', width=500) "
   ]
  },
  {
   "cell_type": "code",
   "execution_count": null,
   "metadata": {},
   "outputs": [],
   "source": []
  },
  {
   "cell_type": "code",
   "execution_count": null,
   "metadata": {},
   "outputs": [],
   "source": [
    "scores, bboxes, labels = gtf.infer_on_image('export_dir/test/img6.jpg', thresh=0.7, \n",
    "                                            bbox_thickness=3, text_size=2, text_thickness=4);\n",
    "from IPython.display import Image\n",
    "Image(filename='output.png', width=500) "
   ]
  },
  {
   "cell_type": "code",
   "execution_count": null,
   "metadata": {},
   "outputs": [],
   "source": []
  },
  {
   "cell_type": "code",
   "execution_count": null,
   "metadata": {},
   "outputs": [],
   "source": []
  },
  {
   "cell_type": "markdown",
   "metadata": {},
   "source": [
    "# Download Dataset\n",
    " - Credits: http://cvit.iiit.ac.in/usodi/iiitar13k.php"
   ]
  },
  {
   "cell_type": "code",
   "execution_count": null,
   "metadata": {},
   "outputs": [],
   "source": [
    "! wget http://cvit.iiit.ac.in/usodi/img/projects/detection/iiit-ar-13/dataset/IIIT-AR-13K_dataset.zip"
   ]
  },
  {
   "cell_type": "code",
   "execution_count": null,
   "metadata": {},
   "outputs": [],
   "source": []
  },
  {
   "cell_type": "code",
   "execution_count": null,
   "metadata": {},
   "outputs": [],
   "source": [
    "! unzip -qq IIIT-AR-13K_dataset.zip"
   ]
  },
  {
   "cell_type": "code",
   "execution_count": null,
   "metadata": {},
   "outputs": [],
   "source": [
    "ls -a"
   ]
  },
  {
   "cell_type": "code",
   "execution_count": null,
   "metadata": {},
   "outputs": [],
   "source": [
    "! unzip -qq test_images.zip"
   ]
  },
  {
   "cell_type": "code",
   "execution_count": null,
   "metadata": {},
   "outputs": [],
   "source": [
    "! unzip -qq test_xml.zip"
   ]
  },
  {
   "cell_type": "code",
   "execution_count": null,
   "metadata": {},
   "outputs": [],
   "source": [
    "! unzip -qq training_images.zip"
   ]
  },
  {
   "cell_type": "code",
   "execution_count": null,
   "metadata": {},
   "outputs": [],
   "source": [
    "! unzip -qq training_xml.zip"
   ]
  },
  {
   "cell_type": "code",
   "execution_count": null,
   "metadata": {},
   "outputs": [],
   "source": [
    "! unzip -qq validation_images.zip"
   ]
  },
  {
   "cell_type": "code",
   "execution_count": null,
   "metadata": {},
   "outputs": [],
   "source": [
    "! unzip -qq validation_xml.zip"
   ]
  },
  {
   "cell_type": "code",
   "execution_count": null,
   "metadata": {},
   "outputs": [],
   "source": [
    "! mkdir training_xml_updated\n",
    "! mkdir test_xml_updated\n",
    "! mkdir validation_xml_updated"
   ]
  },
  {
   "cell_type": "code",
   "execution_count": null,
   "metadata": {},
   "outputs": [],
   "source": []
  },
  {
   "cell_type": "markdown",
   "metadata": {},
   "source": [
    "### get label list"
   ]
  },
  {
   "cell_type": "code",
   "execution_count": null,
   "metadata": {},
   "outputs": [],
   "source": [
    "! pip install xmltodict"
   ]
  },
  {
   "cell_type": "code",
   "execution_count": null,
   "metadata": {},
   "outputs": [],
   "source": [
    "import os\n",
    "xml_list = os.listdir(\"training_xml\");"
   ]
  },
  {
   "cell_type": "code",
   "execution_count": null,
   "metadata": {},
   "outputs": [],
   "source": [
    "import xmltodict\n",
    "from tqdm import tqdm\n",
    "classes = [];\n",
    "\n",
    "for i in tqdm(range(len(xml_list))):\n",
    "    with open('training_xml/' + xml_list[i]) as fd:\n",
    "        data = xmltodict.parse(fd.read());\n",
    "    if(type(data['annotation']['object']) == list):\n",
    "        for j in range(len(data['annotation']['object'])):\n",
    "            obj = data['annotation']['object'][j];\n",
    "            if(obj['name'] not in classes):\n",
    "                classes.append(obj['name'])\n",
    "    else:\n",
    "        obj = data['annotation']['object'];\n",
    "        if(obj['name'] not in classes):\n",
    "            classes.append(obj['name'])\n",
    "    "
   ]
  },
  {
   "cell_type": "code",
   "execution_count": null,
   "metadata": {},
   "outputs": [],
   "source": [
    "classes"
   ]
  },
  {
   "cell_type": "code",
   "execution_count": null,
   "metadata": {},
   "outputs": [],
   "source": [
    "f = open(\"classes_list.txt\", 'w');\n",
    "for i in range(len(classes)):\n",
    "    f.write(classes[i] + \"\\n\");\n",
    "f.close();"
   ]
  },
  {
   "cell_type": "code",
   "execution_count": null,
   "metadata": {},
   "outputs": [],
   "source": []
  },
  {
   "cell_type": "markdown",
   "metadata": {},
   "source": [
    "# Reformat data annotations"
   ]
  },
  {
   "cell_type": "code",
   "execution_count": null,
   "metadata": {},
   "outputs": [],
   "source": [
    "# Filenames in xml annotations do not match the actual images.\n",
    "# Code to update the same"
   ]
  },
  {
   "cell_type": "code",
   "execution_count": null,
   "metadata": {},
   "outputs": [],
   "source": [
    "! pip install dicttoxml"
   ]
  },
  {
   "cell_type": "code",
   "execution_count": null,
   "metadata": {},
   "outputs": [],
   "source": [
    "import os\n",
    "import dicttoxml\n",
    "from tqdm import tqdm\n",
    "\n",
    "xml_list = os.listdir(\"training_xml\");\n",
    "\n",
    "for i in tqdm(range(len(xml_list))):\n",
    "    with open('training_xml/' + xml_list[i]) as fd:\n",
    "        data_raw = fd.read();\n",
    "        data = xmltodict.parse(data_raw);\n",
    "    \n",
    "    fname = data[\"annotation\"][\"filename\"];\n",
    "    data_raw = data_raw.replace(fname,\n",
    "                     xml_list[i].split(\".\")[0] + \".jpg\")\n",
    "    \n",
    "    f = open(\"training_xml_updated/\" + xml_list[i], 'w');\n",
    "    f.write(data_raw);\n",
    "    f.close();"
   ]
  },
  {
   "cell_type": "code",
   "execution_count": null,
   "metadata": {},
   "outputs": [],
   "source": [
    "import os\n",
    "import dicttoxml\n",
    "from tqdm import tqdm\n",
    "\n",
    "xml_list = os.listdir(\"validation_xml\");\n",
    "\n",
    "for i in tqdm(range(len(xml_list))):\n",
    "    with open('validation_xml/' + xml_list[i]) as fd:\n",
    "        data_raw = fd.read();\n",
    "        data = xmltodict.parse(data_raw);\n",
    "    \n",
    "    fname = data[\"annotation\"][\"filename\"];\n",
    "    data_raw = data_raw.replace(fname,\n",
    "                     xml_list[i].split(\".\")[0] + \".jpg\")\n",
    "    \n",
    "    f = open(\"validation_xml_updated/\" + xml_list[i], 'w');\n",
    "    f.write(data_raw);\n",
    "    f.close();"
   ]
  },
  {
   "cell_type": "code",
   "execution_count": null,
   "metadata": {},
   "outputs": [],
   "source": [
    "import os\n",
    "import dicttoxml\n",
    "from tqdm import tqdm\n",
    "\n",
    "xml_list = os.listdir(\"test_xml\");\n",
    "\n",
    "for i in tqdm(range(len(xml_list))):\n",
    "    with open('test_xml/' + xml_list[i]) as fd:\n",
    "        data_raw = fd.read();\n",
    "        data = xmltodict.parse(data_raw);\n",
    "    \n",
    "    fname = data[\"annotation\"][\"filename\"];\n",
    "    data_raw = data_raw.replace(fname,\n",
    "                     xml_list[i].split(\".\")[0] + \".jpg\")\n",
    "    \n",
    "    f = open(\"test_xml_updated/\" + xml_list[i], 'w');\n",
    "    f.write(data_raw);\n",
    "    f.close();"
   ]
  },
  {
   "cell_type": "code",
   "execution_count": null,
   "metadata": {},
   "outputs": [],
   "source": []
  },
  {
   "cell_type": "code",
   "execution_count": null,
   "metadata": {},
   "outputs": [],
   "source": []
  },
  {
   "cell_type": "markdown",
   "metadata": {},
   "source": [
    "# Training"
   ]
  },
  {
   "cell_type": "code",
   "execution_count": null,
   "metadata": {},
   "outputs": [],
   "source": [
    "import os\n",
    "import sys\n",
    "sys.path.append(\"Monk_Object_Detection/12_tf_obj_1/lib/\")"
   ]
  },
  {
   "cell_type": "code",
   "execution_count": null,
   "metadata": {},
   "outputs": [],
   "source": [
    "from train_detector import Detector"
   ]
  },
  {
   "cell_type": "code",
   "execution_count": null,
   "metadata": {},
   "outputs": [],
   "source": [
    "gtf = Detector();"
   ]
  },
  {
   "cell_type": "code",
   "execution_count": null,
   "metadata": {},
   "outputs": [],
   "source": [
    "gtf.list_models();"
   ]
  },
  {
   "cell_type": "code",
   "execution_count": null,
   "metadata": {},
   "outputs": [],
   "source": []
  },
  {
   "cell_type": "code",
   "execution_count": null,
   "metadata": {},
   "outputs": [],
   "source": [
    "train_img_dir = \"training_images/\";\n",
    "train_anno_dir = \"training_xml_updated/\";\n",
    "class_list_file = \"classes_list.txt\";\n",
    "\n",
    "gtf.set_train_dataset(train_img_dir, train_anno_dir, class_list_file, batch_size=24)"
   ]
  },
  {
   "cell_type": "code",
   "execution_count": null,
   "metadata": {},
   "outputs": [],
   "source": [
    "val_img_dir = \"validation_images/\";\n",
    "val_anno_dir = \"validation_xml_updated/\";\n",
    "\n",
    "gtf.set_val_dataset(val_img_dir, val_anno_dir)"
   ]
  },
  {
   "cell_type": "code",
   "execution_count": null,
   "metadata": {},
   "outputs": [],
   "source": []
  },
  {
   "cell_type": "code",
   "execution_count": null,
   "metadata": {},
   "outputs": [],
   "source": [
    "# Create tf record"
   ]
  },
  {
   "cell_type": "code",
   "execution_count": null,
   "metadata": {},
   "outputs": [],
   "source": [
    "gtf.create_tfrecord(data_output_dir=\"data_tfrecord\")"
   ]
  },
  {
   "cell_type": "code",
   "execution_count": null,
   "metadata": {},
   "outputs": [],
   "source": []
  },
  {
   "cell_type": "code",
   "execution_count": null,
   "metadata": {},
   "outputs": [],
   "source": [
    "# Model and hyper params"
   ]
  },
  {
   "cell_type": "code",
   "execution_count": null,
   "metadata": {},
   "outputs": [],
   "source": [
    "gtf.set_model_params(model_name=\"ssd_mobilenet_v2\")"
   ]
  },
  {
   "cell_type": "code",
   "execution_count": null,
   "metadata": {},
   "outputs": [],
   "source": [
    "gtf.set_hyper_params(num_train_steps=100000, lr=0.004)"
   ]
  },
  {
   "cell_type": "code",
   "execution_count": null,
   "metadata": {},
   "outputs": [],
   "source": []
  },
  {
   "cell_type": "code",
   "execution_count": null,
   "metadata": {},
   "outputs": [],
   "source": [
    "# Directory to store inference graph"
   ]
  },
  {
   "cell_type": "code",
   "execution_count": null,
   "metadata": {},
   "outputs": [],
   "source": [
    "gtf.export_params(output_directory=\"export_dir\");"
   ]
  },
  {
   "cell_type": "code",
   "execution_count": null,
   "metadata": {},
   "outputs": [],
   "source": []
  },
  {
   "cell_type": "code",
   "execution_count": null,
   "metadata": {},
   "outputs": [],
   "source": [
    "# training\n",
    "# tf.app.run() executes sys.exit() function hence cannot run in a jupyter notebook directory\n",
    "# Run in a terminal - python Monk_Object_Detection/12_tf_obj_1/lib/train.py\n",
    "# or\n",
    "# Run the following command from notebook"
   ]
  },
  {
   "cell_type": "code",
   "execution_count": null,
   "metadata": {},
   "outputs": [],
   "source": [
    "%run Monk_Object_Detection/12_tf_obj_1/lib/train.py"
   ]
  },
  {
   "cell_type": "code",
   "execution_count": null,
   "metadata": {},
   "outputs": [],
   "source": []
  },
  {
   "cell_type": "code",
   "execution_count": null,
   "metadata": {},
   "outputs": [],
   "source": [
    "# exportaing trained model\n",
    "# tf.app.run() executes sys.exit() function hence cannot run in a jupyter notebook directory\n",
    "# Run in a terminal - python Monk_Object_Detection/12_tf_obj_1/lib/export.py\n",
    "# or\n",
    "# Run the following command from notebook"
   ]
  },
  {
   "cell_type": "code",
   "execution_count": null,
   "metadata": {},
   "outputs": [],
   "source": [
    "%run Monk_Object_Detection/12_tf_obj_1/lib/export.py"
   ]
  },
  {
   "cell_type": "code",
   "execution_count": null,
   "metadata": {},
   "outputs": [],
   "source": []
  },
  {
   "cell_type": "code",
   "execution_count": null,
   "metadata": {},
   "outputs": [],
   "source": []
  },
  {
   "cell_type": "code",
   "execution_count": null,
   "metadata": {},
   "outputs": [],
   "source": []
  },
  {
   "cell_type": "markdown",
   "metadata": {},
   "source": [
    "# Inference"
   ]
  },
  {
   "cell_type": "code",
   "execution_count": null,
   "metadata": {},
   "outputs": [],
   "source": [
    "import os\n",
    "import sys\n",
    "sys.path.append(\"Monk_Object_Detection/12_tf_obj_1/lib/\")"
   ]
  },
  {
   "cell_type": "code",
   "execution_count": null,
   "metadata": {},
   "outputs": [],
   "source": [
    "from infer_detector import Infer"
   ]
  },
  {
   "cell_type": "code",
   "execution_count": null,
   "metadata": {},
   "outputs": [],
   "source": []
  },
  {
   "cell_type": "code",
   "execution_count": null,
   "metadata": {},
   "outputs": [],
   "source": [
    "gtf = Infer();"
   ]
  },
  {
   "cell_type": "code",
   "execution_count": null,
   "metadata": {},
   "outputs": [],
   "source": [
    "gtf.set_model_params('export_dir/frozen_inference_graph.pb', \"classes_list.txt\")"
   ]
  },
  {
   "cell_type": "code",
   "execution_count": null,
   "metadata": {},
   "outputs": [],
   "source": []
  },
  {
   "cell_type": "code",
   "execution_count": null,
   "metadata": {},
   "outputs": [],
   "source": [
    "import os\n",
    "img_list = os.listdir(\"test_images\")"
   ]
  },
  {
   "cell_type": "code",
   "execution_count": null,
   "metadata": {},
   "outputs": [],
   "source": [
    "len(img_list)"
   ]
  },
  {
   "cell_type": "code",
   "execution_count": null,
   "metadata": {},
   "outputs": [],
   "source": []
  },
  {
   "cell_type": "code",
   "execution_count": null,
   "metadata": {},
   "outputs": [],
   "source": [
    "scores, bboxes, labels = gtf.infer_on_image('test_images/' + img_list[300], thresh=0.8, \n",
    "                                            bbox_thickness=3, text_size=2, text_thickness=4);\n",
    "from IPython.display import Image\n",
    "Image(filename='output.png') "
   ]
  },
  {
   "cell_type": "code",
   "execution_count": null,
   "metadata": {},
   "outputs": [],
   "source": []
  },
  {
   "cell_type": "code",
   "execution_count": null,
   "metadata": {},
   "outputs": [],
   "source": [
    "scores, bboxes, labels = gtf.infer_on_image('test_images/' + img_list[6], thresh=0.1, \n",
    "                                            bbox_thickness=3, text_size=2, text_thickness=4);\n",
    "from IPython.display import Image\n",
    "Image(filename='output.png') "
   ]
  },
  {
   "cell_type": "code",
   "execution_count": null,
   "metadata": {},
   "outputs": [],
   "source": []
  },
  {
   "cell_type": "code",
   "execution_count": null,
   "metadata": {},
   "outputs": [],
   "source": [
    "scores, bboxes, labels = gtf.infer_on_image('test_images/' + img_list[250], thresh=0.5, \n",
    "                                            bbox_thickness=3, text_size=2, text_thickness=4);\n",
    "from IPython.display import Image\n",
    "Image(filename='output.png') "
   ]
  },
  {
   "cell_type": "code",
   "execution_count": null,
   "metadata": {},
   "outputs": [],
   "source": []
  },
  {
   "cell_type": "code",
   "execution_count": null,
   "metadata": {},
   "outputs": [],
   "source": [
    "scores, bboxes, labels = gtf.infer_on_image('test_images/' + img_list[652], thresh=0.5, \n",
    "                                            bbox_thickness=3, text_size=2, text_thickness=4);\n",
    "from IPython.display import Image\n",
    "Image(filename='output.png') "
   ]
  },
  {
   "cell_type": "code",
   "execution_count": null,
   "metadata": {},
   "outputs": [],
   "source": []
  },
  {
   "cell_type": "code",
   "execution_count": null,
   "metadata": {},
   "outputs": [],
   "source": []
  }
 ],
 "metadata": {
  "kernelspec": {
   "display_name": "Python 3",
   "language": "python",
   "name": "python3"
  },
  "language_info": {
   "codemirror_mode": {
    "name": "ipython",
    "version": 3
   },
   "file_extension": ".py",
   "mimetype": "text/x-python",
   "name": "python",
   "nbconvert_exporter": "python",
   "pygments_lexer": "ipython3",
   "version": "3.6.9"
  }
 },
 "nbformat": 4,
 "nbformat_minor": 4
}
