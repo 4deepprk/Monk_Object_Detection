{
 "cells": [
  {
   "cell_type": "markdown",
   "metadata": {
    "id": "ZWWi_KJjh_lv"
   },
   "source": [
    "<a href=\"https://colab.research.google.com/github/Tessellate-Imaging/Monk_Object_Detection/blob/master/application_model_zoo/Example%20-%20Underwater%20Fish%20Segmentation.ipynb\" target=\"_parent\"><img src=\"https://colab.research.google.com/assets/colab-badge.svg\" alt=\"Open In Colab\"/></a>"
   ]
  },
  {
   "cell_type": "code",
   "execution_count": null,
   "metadata": {
    "id": "LqINMOiph_l-"
   },
   "outputs": [],
   "source": []
  },
  {
   "cell_type": "markdown",
   "metadata": {
    "id": "KLm9TC_wh_mK"
   },
   "source": [
    "# Table of contents\n",
    "\n",
    "\n",
    "## 1. Installation Instructions\n",
    "\n",
    "\n",
    "\n",
    "## 2. How to train a custom fish segmentation algorithm"
   ]
  },
  {
   "cell_type": "code",
   "execution_count": null,
   "metadata": {
    "id": "0oWv29MDh_mL"
   },
   "outputs": [],
   "source": []
  },
  {
   "cell_type": "code",
   "execution_count": null,
   "metadata": {
    "id": "7NHE45Imh_mT"
   },
   "outputs": [],
   "source": []
  },
  {
   "cell_type": "code",
   "execution_count": null,
   "metadata": {
    "id": "N2DjQc1Rh_ma"
   },
   "outputs": [],
   "source": []
  },
  {
   "cell_type": "markdown",
   "metadata": {
    "id": "uEaD6Msnh_mi"
   },
   "source": [
    "# About the networks\n",
    "\n",
    "\n",
    "1. UNet\n",
    "  - https://arxiv.org/abs/1505.04597\n",
    "  - https://towardsdatascience.com/understanding-semantic-segmentation-with-unet-6be4f42d4b47\n",
    "  - https://towardsdatascience.com/unet-line-by-line-explanation-9b191c76baf5\n",
    "\n",
    "\n",
    "2. FPN\n",
    "  - http://openaccess.thecvf.com/content_cvpr_2017/papers/Lin_Feature_Pyramid_Networks_CVPR_2017_paper.pdf\n",
    "  - https://towardsdatascience.com/review-fpn-feature-pyramid-network-object-detection-262fc7482610\n",
    "  - https://medium.com/@jonathan_hui/understanding-feature-pyramid-networks-for-object-detection-fpn-45b227b9106c\n",
    "\n",
    "\n",
    "3. PSPNet\n",
    "  - https://arxiv.org/abs/1612.01105\n",
    "  - https://towardsdatascience.com/review-pspnet-winner-in-ilsvrc-2016-semantic-segmentation-scene-parsing-e089e5df177d\n",
    "  - https://developers.arcgis.com/python/guide/how-pspnet-works/\n",
    "\n",
    "\n",
    "4. Linknet\n",
    "  - https://arxiv.org/pdf/1707.03718.pdf\n",
    "  - https://neptune.ai/blog/image-segmentation-tips-and-tricks-from-kaggle-competitions"
   ]
  },
  {
   "cell_type": "code",
   "execution_count": null,
   "metadata": {
    "id": "Jytig3Xyh_mk"
   },
   "outputs": [],
   "source": []
  },
  {
   "cell_type": "code",
   "execution_count": null,
   "metadata": {
    "id": "r-_kMi1Ph_mq"
   },
   "outputs": [],
   "source": []
  },
  {
   "cell_type": "code",
   "execution_count": null,
   "metadata": {
    "id": "-UudXowqh_mw"
   },
   "outputs": [],
   "source": []
  },
  {
   "cell_type": "code",
   "execution_count": null,
   "metadata": {
    "id": "oHBFZi91h_m3"
   },
   "outputs": [],
   "source": []
  },
  {
   "cell_type": "markdown",
   "metadata": {
    "id": "9dUAAZOwh_m-"
   },
   "source": [
    "# Installation\n",
    "\n",
    " - Run these commands\n",
    "     \n",
    "     - git clone https://github.com/Tessellate-Imaging/Monk_Object_Detection.git\n",
    "     \n",
    "     - cd Monk_Object_Detection/9_segmentation_models/installation\n",
    "     \n",
    " - Select the right requirements file and run\n",
    " \n",
    "     - cat requirements_cuda9.0.txt | xargs -n 1 -L 1 pip install"
   ]
  },
  {
   "cell_type": "code",
   "execution_count": null,
   "metadata": {
    "id": "w1r6ySCrh_m-"
   },
   "outputs": [],
   "source": [
    "! git clone https://github.com/Tessellate-Imaging/Monk_Object_Detection.git"
   ]
  },
  {
   "cell_type": "code",
   "execution_count": null,
   "metadata": {
    "id": "mm9XvE8Oh_nF"
   },
   "outputs": [],
   "source": [
    "# For colab use the command below\n",
    "! cd Monk_Object_Detection/9_segmentation_models/installation && cat requirements_colab.txt | xargs -n 1 -L 1 pip install\n",
    "\n",
    "\n",
    "# For Local systems and cloud select the right CUDA version\n",
    "#! cd Monk_Object_Detection/9_segmentation_models/installation && cat requirements_cuda10.0.txt | xargs -n 1 -L 1 pip install"
   ]
  },
  {
   "cell_type": "code",
   "execution_count": null,
   "metadata": {
    "id": "FHSijOiSh_nN"
   },
   "outputs": [],
   "source": []
  },
  {
   "cell_type": "code",
   "execution_count": null,
   "metadata": {
    "id": "RhAwP4R9h_nV"
   },
   "outputs": [],
   "source": []
  },
  {
   "cell_type": "markdown",
   "metadata": {
    "id": "YTClt2JFh_qG"
   },
   "source": [
    "# Train you own detector"
   ]
  },
  {
   "cell_type": "code",
   "execution_count": null,
   "metadata": {
    "id": "YqEVYFy7h_qG"
   },
   "outputs": [],
   "source": []
  },
  {
   "cell_type": "markdown",
   "metadata": {
    "id": "ASI6Hmq_h_qI"
   },
   "source": [
    "# Monk Format\n",
    "\n",
    "## Dataset Directory Structure\n",
    "\n",
    "      root_dir\n",
    "          |\n",
    "          | \n",
    "          |         \n",
    "          |----train_img_dir\n",
    "          |       |\n",
    "          |       |---------img1.jpg\n",
    "          |       |---------img2.jpg\n",
    "          |                |---------..........(and so on) \n",
    "          |\n",
    "          |----train_mask_dir\n",
    "          |       |\n",
    "          |       |---------img1.jpg\n",
    "          |       |---------img2.jpg\n",
    "          |                |---------..........(and so on)\n",
    "          |\n",
    "          |----val_img_dir (optional)\n",
    "          |       |\n",
    "          |       |---------img1.jpg\n",
    "          |       |---------img2.jpg\n",
    "          |                |---------..........(and so on)\n",
    "          |\n",
    "          |----val_mask_dir (optional)\n",
    "          |       |\n",
    "          |       |---------img1.jpg\n",
    "          |       |---------img2.jpg\n",
    "          |                |---------..........(and so on)\n",
    "\n",
    "          \n",
    "          "
   ]
  },
  {
   "cell_type": "code",
   "execution_count": null,
   "metadata": {
    "id": "nWp6N6J3h_qJ"
   },
   "outputs": [],
   "source": []
  },
  {
   "cell_type": "code",
   "execution_count": null,
   "metadata": {
    "id": "WRi9u7EOh_qL"
   },
   "outputs": [],
   "source": []
  },
  {
   "cell_type": "markdown",
   "metadata": {
    "id": "kh7Gisz5h_qM"
   },
   "source": [
    "# Sample Dataset Credits\n",
    "\n",
    "    credits: http://groups.inf.ed.ac.uk/f4k/GROUNDTRUTH/RECOG/"
   ]
  },
  {
   "cell_type": "code",
   "execution_count": null,
   "metadata": {
    "id": "xk_AqsP9h_qN"
   },
   "outputs": [],
   "source": [
    "! wget http://groups.inf.ed.ac.uk/f4k/GROUNDTRUTH/RECOG/Archive/fish_image/fish_01.tar\n",
    "! wget http://groups.inf.ed.ac.uk/f4k/GROUNDTRUTH/RECOG/Archive/fish_image/fish_02.tar\n",
    "! wget http://groups.inf.ed.ac.uk/f4k/GROUNDTRUTH/RECOG/Archive/fish_image/fish_03.tar\n",
    "! wget http://groups.inf.ed.ac.uk/f4k/GROUNDTRUTH/RECOG/Archive/fish_image/fish_04.tar\n",
    "! wget http://groups.inf.ed.ac.uk/f4k/GROUNDTRUTH/RECOG/Archive/fish_image/fish_05.tar\n",
    "! wget http://groups.inf.ed.ac.uk/f4k/GROUNDTRUTH/RECOG/Archive/fish_image/fish_06.tar\n",
    "! wget http://groups.inf.ed.ac.uk/f4k/GROUNDTRUTH/RECOG/Archive/fish_image/fish_07.tar\n",
    "! wget http://groups.inf.ed.ac.uk/f4k/GROUNDTRUTH/RECOG/Archive/fish_image/fish_08.tar\n",
    "! wget http://groups.inf.ed.ac.uk/f4k/GROUNDTRUTH/RECOG/Archive/fish_image/fish_09.tar\n",
    "! wget http://groups.inf.ed.ac.uk/f4k/GROUNDTRUTH/RECOG/Archive/fish_image/fish_10.tar\n",
    "! wget http://groups.inf.ed.ac.uk/f4k/GROUNDTRUTH/RECOG/Archive/fish_image/fish_11.tar\n",
    "! wget http://groups.inf.ed.ac.uk/f4k/GROUNDTRUTH/RECOG/Archive/fish_image/fish_12.tar\n",
    "! wget http://groups.inf.ed.ac.uk/f4k/GROUNDTRUTH/RECOG/Archive/fish_image/fish_13.tar\n",
    "! wget http://groups.inf.ed.ac.uk/f4k/GROUNDTRUTH/RECOG/Archive/fish_image/fish_14.tar\n",
    "! wget http://groups.inf.ed.ac.uk/f4k/GROUNDTRUTH/RECOG/Archive/fish_image/fish_15.tar\n",
    "! wget http://groups.inf.ed.ac.uk/f4k/GROUNDTRUTH/RECOG/Archive/fish_image/fish_16.tar\n",
    "! wget http://groups.inf.ed.ac.uk/f4k/GROUNDTRUTH/RECOG/Archive/fish_image/fish_17.tar\n",
    "! wget http://groups.inf.ed.ac.uk/f4k/GROUNDTRUTH/RECOG/Archive/fish_image/fish_18.tar\n",
    "! wget http://groups.inf.ed.ac.uk/f4k/GROUNDTRUTH/RECOG/Archive/fish_image/fish_19.tar\n",
    "! wget http://groups.inf.ed.ac.uk/f4k/GROUNDTRUTH/RECOG/Archive/fish_image/fish_20.tar\n",
    "! wget http://groups.inf.ed.ac.uk/f4k/GROUNDTRUTH/RECOG/Archive/fish_image/fish_21.tar\n",
    "! wget http://groups.inf.ed.ac.uk/f4k/GROUNDTRUTH/RECOG/Archive/fish_image/fish_22.tar\n",
    "! wget http://groups.inf.ed.ac.uk/f4k/GROUNDTRUTH/RECOG/Archive/fish_image/fish_23.tar"
   ]
  },
  {
   "cell_type": "code",
   "execution_count": null,
   "metadata": {
    "id": "0cFTx8QXh_qO"
   },
   "outputs": [],
   "source": [
    "! wget http://groups.inf.ed.ac.uk/f4k/GROUNDTRUTH/RECOG/Archive/mask_image/mask_01.tar\n",
    "! wget http://groups.inf.ed.ac.uk/f4k/GROUNDTRUTH/RECOG/Archive/mask_image/mask_02.tar\n",
    "! wget http://groups.inf.ed.ac.uk/f4k/GROUNDTRUTH/RECOG/Archive/mask_image/mask_03.tar\n",
    "! wget http://groups.inf.ed.ac.uk/f4k/GROUNDTRUTH/RECOG/Archive/mask_image/mask_04.tar\n",
    "! wget http://groups.inf.ed.ac.uk/f4k/GROUNDTRUTH/RECOG/Archive/mask_image/mask_05.tar\n",
    "! wget http://groups.inf.ed.ac.uk/f4k/GROUNDTRUTH/RECOG/Archive/mask_image/mask_06.tar\n",
    "! wget http://groups.inf.ed.ac.uk/f4k/GROUNDTRUTH/RECOG/Archive/mask_image/mask_07.tar\n",
    "! wget http://groups.inf.ed.ac.uk/f4k/GROUNDTRUTH/RECOG/Archive/mask_image/mask_08.tar\n",
    "! wget http://groups.inf.ed.ac.uk/f4k/GROUNDTRUTH/RECOG/Archive/mask_image/mask_09.tar\n",
    "! wget http://groups.inf.ed.ac.uk/f4k/GROUNDTRUTH/RECOG/Archive/mask_image/mask_10.tar\n",
    "! wget http://groups.inf.ed.ac.uk/f4k/GROUNDTRUTH/RECOG/Archive/mask_image/mask_11.tar\n",
    "! wget http://groups.inf.ed.ac.uk/f4k/GROUNDTRUTH/RECOG/Archive/mask_image/mask_12.tar\n",
    "! wget http://groups.inf.ed.ac.uk/f4k/GROUNDTRUTH/RECOG/Archive/mask_image/mask_13.tar\n",
    "! wget http://groups.inf.ed.ac.uk/f4k/GROUNDTRUTH/RECOG/Archive/mask_image/mask_14.tar\n",
    "! wget http://groups.inf.ed.ac.uk/f4k/GROUNDTRUTH/RECOG/Archive/mask_image/mask_15.tar\n",
    "! wget http://groups.inf.ed.ac.uk/f4k/GROUNDTRUTH/RECOG/Archive/mask_image/mask_16.tar\n",
    "! wget http://groups.inf.ed.ac.uk/f4k/GROUNDTRUTH/RECOG/Archive/mask_image/mask_17.tar\n",
    "! wget http://groups.inf.ed.ac.uk/f4k/GROUNDTRUTH/RECOG/Archive/mask_image/mask_18.tar\n",
    "! wget http://groups.inf.ed.ac.uk/f4k/GROUNDTRUTH/RECOG/Archive/mask_image/mask_19.tar\n",
    "! wget http://groups.inf.ed.ac.uk/f4k/GROUNDTRUTH/RECOG/Archive/mask_image/mask_20.tar\n",
    "! wget http://groups.inf.ed.ac.uk/f4k/GROUNDTRUTH/RECOG/Archive/mask_image/mask_21.tar\n",
    "! wget http://groups.inf.ed.ac.uk/f4k/GROUNDTRUTH/RECOG/Archive/mask_image/mask_22.tar\n",
    "! wget http://groups.inf.ed.ac.uk/f4k/GROUNDTRUTH/RECOG/Archive/mask_image/mask_23.tar"
   ]
  },
  {
   "cell_type": "code",
   "execution_count": null,
   "metadata": {},
   "outputs": [],
   "source": []
  },
  {
   "cell_type": "code",
   "execution_count": null,
   "metadata": {},
   "outputs": [],
   "source": [
    "! tar -xf fish_01.tar\n",
    "! tar -xf fish_02.tar\n",
    "! tar -xf fish_03.tar\n",
    "! tar -xf fish_04.tar\n",
    "! tar -xf fish_05.tar\n",
    "! tar -xf fish_06.tar\n",
    "! tar -xf fish_07.tar\n",
    "! tar -xf fish_08.tar\n",
    "! tar -xf fish_09.tar\n",
    "! tar -xf fish_10.tar\n",
    "! tar -xf fish_11.tar\n",
    "! tar -xf fish_12.tar\n",
    "! tar -xf fish_13.tar\n",
    "! tar -xf fish_14.tar\n",
    "! tar -xf fish_15.tar\n",
    "! tar -xf fish_16.tar\n",
    "! tar -xf fish_17.tar\n",
    "! tar -xf fish_18.tar\n",
    "! tar -xf fish_19.tar\n",
    "! tar -xf fish_20.tar\n",
    "! tar -xf fish_21.tar\n",
    "! tar -xf fish_22.tar\n",
    "! tar -xf fish_23.tar"
   ]
  },
  {
   "cell_type": "code",
   "execution_count": null,
   "metadata": {},
   "outputs": [],
   "source": [
    "! tar -xf mask_01.tar\n",
    "! tar -xf mask_02.tar\n",
    "! tar -xf mask_03.tar\n",
    "! tar -xf mask_04.tar\n",
    "! tar -xf mask_05.tar\n",
    "! tar -xf mask_06.tar\n",
    "! tar -xf mask_07.tar\n",
    "! tar -xf mask_08.tar\n",
    "! tar -xf mask_09.tar\n",
    "! tar -xf mask_10.tar\n",
    "! tar -xf mask_11.tar\n",
    "! tar -xf mask_12.tar\n",
    "! tar -xf mask_13.tar\n",
    "! tar -xf mask_14.tar\n",
    "! tar -xf mask_15.tar\n",
    "! tar -xf mask_16.tar\n",
    "! tar -xf mask_17.tar\n",
    "! tar -xf mask_18.tar\n",
    "! tar -xf mask_19.tar\n",
    "! tar -xf mask_20.tar\n",
    "! tar -xf mask_21.tar\n",
    "! tar -xf mask_22.tar\n",
    "! tar -xf mask_22.tar\n",
    "! tar -xf mask_23.tar"
   ]
  },
  {
   "cell_type": "code",
   "execution_count": null,
   "metadata": {
    "id": "j2cGXUqqh_qZ"
   },
   "outputs": [],
   "source": []
  },
  {
   "cell_type": "code",
   "execution_count": null,
   "metadata": {},
   "outputs": [],
   "source": [
    "! mkdir dataset\n",
    "! mkdir dataset/images\n",
    "! mkdir dataset/masks"
   ]
  },
  {
   "cell_type": "code",
   "execution_count": null,
   "metadata": {},
   "outputs": [],
   "source": []
  },
  {
   "cell_type": "code",
   "execution_count": null,
   "metadata": {
    "id": "p0zGNf07h_qb"
   },
   "outputs": [],
   "source": [
    "import os\n",
    "import cv2\n",
    "import numpy as np \n",
    "from tqdm import tqdm"
   ]
  },
  {
   "cell_type": "code",
   "execution_count": null,
   "metadata": {
    "id": "dAvdLprdq0_5"
   },
   "outputs": [],
   "source": [
    "num = 0;\n",
    "for i in tqdm(range(1, 24)):\n",
    "    if(i < 10):\n",
    "        img_folder = \"fish_0\" + str(i)\n",
    "        mask_folder = \"mask_0\" + str(i);\n",
    "    else:\n",
    "        img_folder = \"fish_\" + str(i)\n",
    "        mask_folder = \"mask_\" + str(i);\n",
    "\n",
    "    img_list = sorted(os.listdir(img_folder))\n",
    "    mask_list = sorted(os.listdir(mask_folder))  \n",
    "\n",
    "    for j in tqdm(range(len(img_list))):\n",
    "        img = cv2.imread(img_folder + \"/\" + img_list[j]);\n",
    "        mask = cv2.imread(mask_folder + \"/\" + mask_list[j]);\n",
    "\n",
    "\n",
    "        mask[mask > 0] = 1;\n",
    "\n",
    "        cv2.imwrite(\"dataset/images/\" + str(num) + \".png\", img);\n",
    "        cv2.imwrite(\"dataset/masks/\" + str(num) + \".png\", mask);\n",
    "\n",
    "        num += 1;"
   ]
  },
  {
   "cell_type": "code",
   "execution_count": null,
   "metadata": {
    "id": "A5IRk4E6h_qs"
   },
   "outputs": [],
   "source": []
  },
  {
   "cell_type": "code",
   "execution_count": null,
   "metadata": {
    "id": "jUVz0r5mh_qu"
   },
   "outputs": [],
   "source": []
  },
  {
   "cell_type": "markdown",
   "metadata": {
    "id": "jvir_c1xh_qw"
   },
   "source": [
    "## Training "
   ]
  },
  {
   "cell_type": "code",
   "execution_count": null,
   "metadata": {
    "id": "cNfxwGBfh_qx"
   },
   "outputs": [],
   "source": [
    "import os\n",
    "import sys\n",
    "sys.path.append(\"Monk_Object_Detection/9_segmentation_models/lib/\");"
   ]
  },
  {
   "cell_type": "code",
   "execution_count": null,
   "metadata": {
    "id": "fBCAfwsHh_qz"
   },
   "outputs": [],
   "source": []
  },
  {
   "cell_type": "code",
   "execution_count": null,
   "metadata": {
    "id": "6FbvjuFqh_q1"
   },
   "outputs": [],
   "source": [
    "from train_segmentation import Segmenter"
   ]
  },
  {
   "cell_type": "code",
   "execution_count": null,
   "metadata": {
    "id": "ZgDTEaRkh_q3"
   },
   "outputs": [],
   "source": []
  },
  {
   "cell_type": "code",
   "execution_count": null,
   "metadata": {
    "id": "lrfrlgK7h_q5"
   },
   "outputs": [],
   "source": [
    "gtf = Segmenter();"
   ]
  },
  {
   "cell_type": "code",
   "execution_count": null,
   "metadata": {
    "id": "XrUN4nCRh_q7"
   },
   "outputs": [],
   "source": []
  },
  {
   "cell_type": "code",
   "execution_count": null,
   "metadata": {
    "id": "wyIBP4k6h_q9"
   },
   "outputs": [],
   "source": [
    "train_img_dir = \"dataset/images\";\n",
    "train_mask_dir = \"dataset/masks\";\n",
    "\n",
    "val_img_dir = \"dataset/images\";\n",
    "val_mask_dir = \"dataset/masks\";\n"
   ]
  },
  {
   "cell_type": "code",
   "execution_count": null,
   "metadata": {
    "id": "D246Axbvh_rA"
   },
   "outputs": [],
   "source": []
  },
  {
   "cell_type": "code",
   "execution_count": null,
   "metadata": {
    "id": "mwyghCruh_rB"
   },
   "outputs": [],
   "source": [
    "classes_dict = {\n",
    "    'background': 0, \n",
    "    'fish': 1\n",
    "};\n",
    "classes_to_train = ['background', 'fish'];"
   ]
  },
  {
   "cell_type": "code",
   "execution_count": null,
   "metadata": {
    "id": "UX0n0vd2h_rE"
   },
   "outputs": [],
   "source": [
    "gtf.Train_Dataset(train_img_dir, train_mask_dir, classes_dict, classes_to_train)"
   ]
  },
  {
   "cell_type": "code",
   "execution_count": null,
   "metadata": {
    "id": "FaH2XnH_h_rH"
   },
   "outputs": [],
   "source": [
    "gtf.Val_Dataset(val_img_dir, val_mask_dir)"
   ]
  },
  {
   "cell_type": "code",
   "execution_count": null,
   "metadata": {
    "id": "m2UIs-xvh_rI"
   },
   "outputs": [],
   "source": [
    "gtf.List_Backbones();"
   ]
  },
  {
   "cell_type": "code",
   "execution_count": null,
   "metadata": {
    "id": "SHLZqC2Ih_rK"
   },
   "outputs": [],
   "source": []
  },
  {
   "cell_type": "code",
   "execution_count": null,
   "metadata": {
    "id": "UFvRiKxVh_rM"
   },
   "outputs": [],
   "source": [
    "gtf.Data_Params(batch_size=2, backbone=\"efficientnetb3\", image_shape=[103, 73])"
   ]
  },
  {
   "cell_type": "code",
   "execution_count": null,
   "metadata": {
    "id": "V5f3e_wih_rN"
   },
   "outputs": [],
   "source": []
  },
  {
   "cell_type": "code",
   "execution_count": null,
   "metadata": {
    "id": "6UfbVZeLh_rP"
   },
   "outputs": [],
   "source": [
    "gtf.List_Models();"
   ]
  },
  {
   "cell_type": "code",
   "execution_count": null,
   "metadata": {
    "id": "kCDVl3ykh_rR"
   },
   "outputs": [],
   "source": []
  },
  {
   "cell_type": "code",
   "execution_count": null,
   "metadata": {
    "id": "MAkjbehth_rY"
   },
   "outputs": [],
   "source": [
    "gtf.Model_Params(model=\"Unet\")"
   ]
  },
  {
   "cell_type": "code",
   "execution_count": null,
   "metadata": {
    "id": "7wviMQpah_ra"
   },
   "outputs": [],
   "source": []
  },
  {
   "cell_type": "code",
   "execution_count": null,
   "metadata": {
    "id": "YNmDIHSoh_rc"
   },
   "outputs": [],
   "source": [
    "gtf.Train_Params(lr=0.0001)"
   ]
  },
  {
   "cell_type": "code",
   "execution_count": null,
   "metadata": {
    "id": "6OfIMqWJh_rd"
   },
   "outputs": [],
   "source": []
  },
  {
   "cell_type": "code",
   "execution_count": null,
   "metadata": {
    "id": "OMbEU_gwh_rf"
   },
   "outputs": [],
   "source": [
    "gtf.Setup();"
   ]
  },
  {
   "cell_type": "code",
   "execution_count": null,
   "metadata": {
    "id": "AGC9PNpPh_rg"
   },
   "outputs": [],
   "source": []
  },
  {
   "cell_type": "code",
   "execution_count": null,
   "metadata": {
    "id": "xx2Zt-Ach_ri"
   },
   "outputs": [],
   "source": [
    "gtf.Train(num_epochs=300);"
   ]
  },
  {
   "cell_type": "code",
   "execution_count": null,
   "metadata": {
    "id": "hK65KzjDh_rj"
   },
   "outputs": [],
   "source": []
  },
  {
   "cell_type": "code",
   "execution_count": null,
   "metadata": {
    "id": "Ole_GtWoh_rl"
   },
   "outputs": [],
   "source": [
    "gtf.Visualize_Training_History();"
   ]
  },
  {
   "cell_type": "code",
   "execution_count": null,
   "metadata": {
    "id": "N8OYrmMhh_rm"
   },
   "outputs": [],
   "source": []
  },
  {
   "cell_type": "code",
   "execution_count": null,
   "metadata": {
    "id": "isJZ0ntOh_rp"
   },
   "outputs": [],
   "source": []
  },
  {
   "cell_type": "code",
   "execution_count": null,
   "metadata": {
    "id": "o4v_neN3h_rr"
   },
   "outputs": [],
   "source": []
  },
  {
   "cell_type": "code",
   "execution_count": null,
   "metadata": {
    "id": "R6swPQCqh_rs"
   },
   "outputs": [],
   "source": []
  },
  {
   "cell_type": "markdown",
   "metadata": {
    "id": "NrgPGVzVh_ru"
   },
   "source": [
    "# Inference"
   ]
  },
  {
   "cell_type": "code",
   "execution_count": null,
   "metadata": {
    "id": "lPtIKJNZh_ru"
   },
   "outputs": [],
   "source": []
  },
  {
   "cell_type": "code",
   "execution_count": null,
   "metadata": {
    "id": "AoctQxGSh_rv"
   },
   "outputs": [],
   "source": [
    "import os\n",
    "import sys\n",
    "sys.path.append(\"Monk_Object_Detection/9_segmentation_models/lib/\");"
   ]
  },
  {
   "cell_type": "code",
   "execution_count": null,
   "metadata": {
    "id": "ttJmPhoth_r7"
   },
   "outputs": [],
   "source": []
  },
  {
   "cell_type": "code",
   "execution_count": null,
   "metadata": {
    "id": "ypXnzboUh_r9"
   },
   "outputs": [],
   "source": [
    "from infer_segmentation import Infer"
   ]
  },
  {
   "cell_type": "code",
   "execution_count": null,
   "metadata": {
    "id": "h9vnkLtYh_r_"
   },
   "outputs": [],
   "source": []
  },
  {
   "cell_type": "code",
   "execution_count": null,
   "metadata": {
    "id": "0g_rCwT4h_sB"
   },
   "outputs": [],
   "source": [
    "gtf = Infer();"
   ]
  },
  {
   "cell_type": "code",
   "execution_count": null,
   "metadata": {
    "id": "WuYWfGxfh_sE"
   },
   "outputs": [],
   "source": []
  },
  {
   "cell_type": "code",
   "execution_count": null,
   "metadata": {
    "id": "Im9lDhRqh_sH"
   },
   "outputs": [],
   "source": [
    "classes_dict = {\n",
    "    'background': 0, \n",
    "    'fish': 1\n",
    "};\n",
    "classes_to_train = ['background', 'fish'];"
   ]
  },
  {
   "cell_type": "code",
   "execution_count": null,
   "metadata": {
    "id": "a25W9b71h_sJ"
   },
   "outputs": [],
   "source": []
  },
  {
   "cell_type": "code",
   "execution_count": null,
   "metadata": {
    "id": "Q6PcOkWfh_sL"
   },
   "outputs": [],
   "source": [
    "gtf.Data_Params(classes_dict, classes_to_train, image_shape=[103, 73])"
   ]
  },
  {
   "cell_type": "code",
   "execution_count": null,
   "metadata": {
    "id": "Fs0tpYhNh_sN"
   },
   "outputs": [],
   "source": []
  },
  {
   "cell_type": "code",
   "execution_count": null,
   "metadata": {
    "id": "IwVERdv-h_sO"
   },
   "outputs": [],
   "source": [
    "gtf.Model_Params(model=\"Unet\", backbone=\"efficientnetb3\", path_to_model='best_model.h5')"
   ]
  },
  {
   "cell_type": "code",
   "execution_count": null,
   "metadata": {
    "id": "gbDKlAsGh_sP"
   },
   "outputs": [],
   "source": []
  },
  {
   "cell_type": "code",
   "execution_count": null,
   "metadata": {
    "id": "WnDjwb5Hh_sR"
   },
   "outputs": [],
   "source": [
    "gtf.Setup();"
   ]
  },
  {
   "cell_type": "code",
   "execution_count": null,
   "metadata": {
    "id": "9AbB65cth_sS"
   },
   "outputs": [],
   "source": [
    "import os\n",
    "img_list = os.listdir(\"dataset/images/\")"
   ]
  },
  {
   "cell_type": "code",
   "execution_count": null,
   "metadata": {
    "id": "qF5K8uKhh_sU"
   },
   "outputs": [],
   "source": [
    "gtf.Predict(\"dataset/images/\" + img_list[i], vis=True);"
   ]
  },
  {
   "cell_type": "code",
   "execution_count": null,
   "metadata": {
    "id": "h3_1VN8yh_sY"
   },
   "outputs": [],
   "source": []
  }
 ],
 "metadata": {
  "accelerator": "GPU",
  "colab": {
   "collapsed_sections": [
    "ASI6Hmq_h_qI"
   ],
   "name": "Example - SUIM Dataset Underwater Object Segmentation.ipynb",
   "provenance": []
  },
  "kernelspec": {
   "display_name": "Python 3",
   "language": "python",
   "name": "python3"
  },
  "language_info": {
   "codemirror_mode": {
    "name": "ipython",
    "version": 3
   },
   "file_extension": ".py",
   "mimetype": "text/x-python",
   "name": "python",
   "nbconvert_exporter": "python",
   "pygments_lexer": "ipython3",
   "version": "3.6.9"
  }
 },
 "nbformat": 4,
 "nbformat_minor": 1
}
