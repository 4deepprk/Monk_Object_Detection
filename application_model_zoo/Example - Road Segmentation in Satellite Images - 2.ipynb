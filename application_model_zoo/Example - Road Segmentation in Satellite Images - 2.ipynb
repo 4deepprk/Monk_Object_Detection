{
 "cells": [
  {
   "cell_type": "markdown",
   "metadata": {
    "id": "ZWWi_KJjh_lv"
   },
   "source": [
    "<a href=\"https://colab.research.google.com/github/Tessellate-Imaging/Monk_Object_Detection/blob/master/application_model_zoo/Example%20-%20Road%20Segmentation%20in%20Satellite%20Images%20-%202.ipynb\" target=\"_parent\"><img src=\"https://colab.research.google.com/assets/colab-badge.svg\" alt=\"Open In Colab\"/></a>"
   ]
  },
  {
   "cell_type": "code",
   "execution_count": null,
   "metadata": {
    "id": "LqINMOiph_l-"
   },
   "outputs": [],
   "source": []
  },
  {
   "cell_type": "markdown",
   "metadata": {
    "id": "KLm9TC_wh_mK"
   },
   "source": [
    "# Table of contents\n",
    "\n",
    "\n",
    "## 1. Installation Instructions\n",
    "\n",
    "\n",
    "\n",
    "## 2. Use trained model to Roads in satellite imagery\n",
    "\n",
    "\n",
    "\n",
    "## 3. How to train a custom segmenter using \"Road Segmentation Dataset\""
   ]
  },
  {
   "cell_type": "code",
   "execution_count": null,
   "metadata": {
    "id": "0oWv29MDh_mL"
   },
   "outputs": [],
   "source": []
  },
  {
   "cell_type": "code",
   "execution_count": null,
   "metadata": {
    "id": "7NHE45Imh_mT"
   },
   "outputs": [],
   "source": []
  },
  {
   "cell_type": "code",
   "execution_count": null,
   "metadata": {
    "id": "N2DjQc1Rh_ma"
   },
   "outputs": [],
   "source": []
  },
  {
   "cell_type": "markdown",
   "metadata": {
    "id": "uEaD6Msnh_mi"
   },
   "source": [
    "# About the networks\n",
    "\n",
    "\n",
    "1. UNet\n",
    "  - https://arxiv.org/abs/1505.04597\n",
    "  - https://towardsdatascience.com/understanding-semantic-segmentation-with-unet-6be4f42d4b47\n",
    "  - https://towardsdatascience.com/unet-line-by-line-explanation-9b191c76baf5\n",
    "\n",
    "\n",
    "2. FPN\n",
    "  - http://openaccess.thecvf.com/content_cvpr_2017/papers/Lin_Feature_Pyramid_Networks_CVPR_2017_paper.pdf\n",
    "  - https://towardsdatascience.com/review-fpn-feature-pyramid-network-object-detection-262fc7482610\n",
    "  - https://medium.com/@jonathan_hui/understanding-feature-pyramid-networks-for-object-detection-fpn-45b227b9106c\n",
    "\n",
    "\n",
    "3. PSPNet\n",
    "  - https://arxiv.org/abs/1612.01105\n",
    "  - https://towardsdatascience.com/review-pspnet-winner-in-ilsvrc-2016-semantic-segmentation-scene-parsing-e089e5df177d\n",
    "  - https://developers.arcgis.com/python/guide/how-pspnet-works/\n",
    "\n",
    "\n",
    "4. Linknet\n",
    "  - https://arxiv.org/pdf/1707.03718.pdf\n",
    "  - https://neptune.ai/blog/image-segmentation-tips-and-tricks-from-kaggle-competitions"
   ]
  },
  {
   "cell_type": "code",
   "execution_count": null,
   "metadata": {
    "id": "Jytig3Xyh_mk"
   },
   "outputs": [],
   "source": []
  },
  {
   "cell_type": "code",
   "execution_count": null,
   "metadata": {
    "id": "r-_kMi1Ph_mq"
   },
   "outputs": [],
   "source": []
  },
  {
   "cell_type": "code",
   "execution_count": null,
   "metadata": {
    "id": "-UudXowqh_mw"
   },
   "outputs": [],
   "source": []
  },
  {
   "cell_type": "code",
   "execution_count": null,
   "metadata": {
    "id": "oHBFZi91h_m3"
   },
   "outputs": [],
   "source": []
  },
  {
   "cell_type": "markdown",
   "metadata": {
    "id": "9dUAAZOwh_m-"
   },
   "source": [
    "# Installation\n",
    "\n",
    " - Run these commands\n",
    "     \n",
    "     - git clone https://github.com/Tessellate-Imaging/Monk_Object_Detection.git\n",
    "     \n",
    "     - cd Monk_Object_Detection/9_segmentation_models/installation\n",
    "     \n",
    " - Select the right requirements file and run\n",
    " \n",
    "     - cat requirements_cuda9.0.txt | xargs -n 1 -L 1 pip install"
   ]
  },
  {
   "cell_type": "code",
   "execution_count": null,
   "metadata": {
    "id": "w1r6ySCrh_m-"
   },
   "outputs": [],
   "source": [
    "! git clone https://github.com/Tessellate-Imaging/Monk_Object_Detection.git"
   ]
  },
  {
   "cell_type": "code",
   "execution_count": null,
   "metadata": {
    "id": "mm9XvE8Oh_nF"
   },
   "outputs": [],
   "source": [
    "# For colab use the command below\n",
    "! cd Monk_Object_Detection/9_segmentation_models/installation && cat requirements_colab.txt | xargs -n 1 -L 1 pip install\n",
    "\n",
    "\n",
    "# For Local systems and cloud select the right CUDA version\n",
    "#! cd Monk_Object_Detection/9_segmentation_models/installation && cat requirements_cuda10.0.txt | xargs -n 1 -L 1 pip install"
   ]
  },
  {
   "cell_type": "code",
   "execution_count": null,
   "metadata": {
    "id": "FHSijOiSh_nN"
   },
   "outputs": [],
   "source": []
  },
  {
   "cell_type": "code",
   "execution_count": null,
   "metadata": {
    "id": "RhAwP4R9h_nV"
   },
   "outputs": [],
   "source": []
  },
  {
   "cell_type": "markdown",
   "metadata": {
    "id": "4B171J0oh_na"
   },
   "source": [
    "# Use already trained model for demo"
   ]
  },
  {
   "cell_type": "code",
   "execution_count": null,
   "metadata": {
    "id": "O7NrclSfh_nb"
   },
   "outputs": [],
   "source": []
  },
  {
   "cell_type": "code",
   "execution_count": null,
   "metadata": {
    "id": "RNAuL4xXh_nh"
   },
   "outputs": [],
   "source": [
    "import os\n",
    "import sys\n",
    "sys.path.append(\"Monk_Object_Detection/9_segmentation_models/lib/\");"
   ]
  },
  {
   "cell_type": "code",
   "execution_count": null,
   "metadata": {
    "id": "wK2agdFth_nm"
   },
   "outputs": [],
   "source": []
  },
  {
   "cell_type": "code",
   "execution_count": null,
   "metadata": {
    "colab": {
     "base_uri": "https://localhost:8080/",
     "height": 52
    },
    "id": "xahQJuFUh_nr",
    "outputId": "36ce99ec-5c37-4e01-bba3-12e853a6c6db"
   },
   "outputs": [],
   "source": [
    "from infer_segmentation import Infer"
   ]
  },
  {
   "cell_type": "code",
   "execution_count": null,
   "metadata": {
    "id": "j8IP6GB4h_nv"
   },
   "outputs": [],
   "source": []
  },
  {
   "cell_type": "code",
   "execution_count": null,
   "metadata": {
    "id": "X7XGAXWZh_n0"
   },
   "outputs": [],
   "source": [
    "gtf = Infer();"
   ]
  },
  {
   "cell_type": "code",
   "execution_count": null,
   "metadata": {
    "id": "hBQLMOjwh_n4"
   },
   "outputs": [],
   "source": []
  },
  {
   "cell_type": "code",
   "execution_count": null,
   "metadata": {
    "id": "XmMgKFhMh_n9"
   },
   "outputs": [],
   "source": [
    "classes_dict = {\n",
    "    'background': 0, \n",
    "    'road': 1\n",
    "};\n",
    "classes_to_train = ['background', 'road'];"
   ]
  },
  {
   "cell_type": "code",
   "execution_count": null,
   "metadata": {
    "id": "oRBOfAe_h_oE"
   },
   "outputs": [],
   "source": []
  },
  {
   "cell_type": "code",
   "execution_count": null,
   "metadata": {
    "id": "uXvpve3Ph_oH"
   },
   "outputs": [],
   "source": [
    "gtf.Data_Params(classes_dict, classes_to_train, image_shape=[384, 384])"
   ]
  },
  {
   "cell_type": "code",
   "execution_count": null,
   "metadata": {
    "id": "06A7k5Seh_oM"
   },
   "outputs": [],
   "source": []
  },
  {
   "cell_type": "code",
   "execution_count": null,
   "metadata": {
    "id": "XhSGarOxh_oP"
   },
   "outputs": [],
   "source": [
    "# Download trained model"
   ]
  },
  {
   "cell_type": "code",
   "execution_count": null,
   "metadata": {
    "colab": {
     "base_uri": "https://localhost:8080/",
     "height": 645
    },
    "id": "1-iA-71sh_oU",
    "outputId": "f4966199-6afb-4579-bea6-926ae43a010a"
   },
   "outputs": [],
   "source": [
    "! wget --load-cookies /tmp/cookies.txt \"https://docs.google.com/uc?export=download&confirm=$(wget --save-cookies /tmp/cookies.txt --keep-session-cookies --no-check-certificate 'https://docs.google.com/uc?export=download&id=1WF7ByC_rw70sGB_YyKd4XnB6GEErs9W4' -O- | sed -rn 's/.*confirm=([0-9A-Za-z_]+).*/\\1\\n/p')&id=1WF7ByC_rw70sGB_YyKd4XnB6GEErs9W4\" -O seg_road_trained.zip && rm -rf /tmp/cookies.txt"
   ]
  },
  {
   "cell_type": "code",
   "execution_count": null,
   "metadata": {
    "id": "bnC5f71Kh_oY"
   },
   "outputs": [],
   "source": [
    "! unzip -qq seg_road_trained.zip"
   ]
  },
  {
   "cell_type": "code",
   "execution_count": null,
   "metadata": {
    "id": "eIzWgoDph_ob"
   },
   "outputs": [],
   "source": []
  },
  {
   "cell_type": "code",
   "execution_count": null,
   "metadata": {
    "id": "LgeWZUyYh_of"
   },
   "outputs": [],
   "source": []
  },
  {
   "cell_type": "code",
   "execution_count": null,
   "metadata": {
    "id": "UzeBvKNwh_oj"
   },
   "outputs": [],
   "source": [
    "gtf.Model_Params(model=\"Unet\", backbone=\"efficientnetb3\", path_to_model='seg_road_trained/best_model.h5')"
   ]
  },
  {
   "cell_type": "code",
   "execution_count": null,
   "metadata": {
    "id": "m9AyjeVNh_om"
   },
   "outputs": [],
   "source": []
  },
  {
   "cell_type": "code",
   "execution_count": null,
   "metadata": {
    "colab": {
     "base_uri": "https://localhost:8080/",
     "height": 89
    },
    "id": "UKp5NPoYh_op",
    "outputId": "270cac30-c14a-4c11-8152-da87ae96ef7e"
   },
   "outputs": [],
   "source": [
    "gtf.Setup();"
   ]
  },
  {
   "cell_type": "code",
   "execution_count": null,
   "metadata": {
    "id": "V7ICs9MAh_ot"
   },
   "outputs": [],
   "source": []
  },
  {
   "cell_type": "code",
   "execution_count": null,
   "metadata": {
    "id": "wlq2WIFOh_ow"
   },
   "outputs": [],
   "source": []
  },
  {
   "cell_type": "code",
   "execution_count": null,
   "metadata": {
    "colab": {
     "base_uri": "https://localhost:8080/",
     "height": 34
    },
    "id": "iLlUSKCdh_o0",
    "outputId": "4ef976bc-488a-4164-a72e-709a4147d1e2"
   },
   "outputs": [],
   "source": [
    "ls seg_road_trained/test"
   ]
  },
  {
   "cell_type": "code",
   "execution_count": null,
   "metadata": {
    "id": "aWDtWl-ch_o4"
   },
   "outputs": [],
   "source": []
  },
  {
   "cell_type": "code",
   "execution_count": null,
   "metadata": {
    "colab": {
     "base_uri": "https://localhost:8080/",
     "height": 368
    },
    "id": "qzPye0Vzh_o8",
    "outputId": "55defa24-b62b-433f-9caa-2e31f1152a5e"
   },
   "outputs": [],
   "source": [
    "gtf.Predict(\"seg_road_trained/test/1.png\", vis=True);"
   ]
  },
  {
   "cell_type": "code",
   "execution_count": null,
   "metadata": {
    "id": "YqbSycurh_o-"
   },
   "outputs": [],
   "source": [
    "gtf.Predict(\"seg_road_trained/test/2.png\", vis=True);"
   ]
  },
  {
   "cell_type": "code",
   "execution_count": null,
   "metadata": {
    "id": "rWt1WfOGh_pL"
   },
   "outputs": [],
   "source": [
    "gtf.Predict(\"seg_road_trained/test/3.png\", vis=True);"
   ]
  },
  {
   "cell_type": "code",
   "execution_count": null,
   "metadata": {
    "colab": {
     "base_uri": "https://localhost:8080/",
     "height": 313
    },
    "id": "LiFCkRunh_pN",
    "outputId": "a0a0cfbf-cdef-4b01-d9b5-cc4f754a74ec"
   },
   "outputs": [],
   "source": [
    "gtf.Predict(\"seg_road_trained/test/4.png\", vis=True);"
   ]
  },
  {
   "cell_type": "code",
   "execution_count": null,
   "metadata": {
    "id": "9HaTE5odh_pR"
   },
   "outputs": [],
   "source": [
    "gtf.Predict(\"seg_road_trained/test/5.png\", vis=True);"
   ]
  },
  {
   "cell_type": "code",
   "execution_count": null,
   "metadata": {
    "id": "30R9T_FWh_pU"
   },
   "outputs": [],
   "source": [
    "gtf.Predict(\"seg_road_trained/test/6.png\", vis=True);"
   ]
  },
  {
   "cell_type": "code",
   "execution_count": null,
   "metadata": {
    "colab": {
     "base_uri": "https://localhost:8080/",
     "height": 313
    },
    "id": "WyZ9DFj9h_pY",
    "outputId": "2d7a0cef-876f-491d-e7be-bf2bfde1e6f4"
   },
   "outputs": [],
   "source": [
    "gtf.Predict(\"seg_road_trained/test/7.png\", vis=True);"
   ]
  },
  {
   "cell_type": "code",
   "execution_count": null,
   "metadata": {
    "id": "vbGmbmTph_pb"
   },
   "outputs": [],
   "source": [
    "gtf.Predict(\"seg_road_trained/test/8.png\", vis=True);"
   ]
  },
  {
   "cell_type": "code",
   "execution_count": null,
   "metadata": {
    "id": "ax0I3wuCh_qD"
   },
   "outputs": [],
   "source": []
  },
  {
   "cell_type": "markdown",
   "metadata": {
    "id": "YTClt2JFh_qG"
   },
   "source": [
    "# Train you own detector"
   ]
  },
  {
   "cell_type": "code",
   "execution_count": null,
   "metadata": {
    "id": "YqEVYFy7h_qG"
   },
   "outputs": [],
   "source": []
  },
  {
   "cell_type": "markdown",
   "metadata": {
    "id": "ASI6Hmq_h_qI"
   },
   "source": [
    "# Monk Format\n",
    "\n",
    "## Dataset Directory Structure\n",
    "\n",
    "      root_dir\n",
    "          |\n",
    "          | \n",
    "          |         \n",
    "          |----train_img_dir\n",
    "          |       |\n",
    "          |       |---------img1.jpg\n",
    "          |       |---------img2.jpg\n",
    "          |                |---------..........(and so on) \n",
    "          |\n",
    "          |----train_mask_dir\n",
    "          |       |\n",
    "          |       |---------img1.jpg\n",
    "          |       |---------img2.jpg\n",
    "          |                |---------..........(and so on)\n",
    "          |\n",
    "          |----val_img_dir (optional)\n",
    "          |       |\n",
    "          |       |---------img1.jpg\n",
    "          |       |---------img2.jpg\n",
    "          |                |---------..........(and so on)\n",
    "          |\n",
    "          |----val_mask_dir (optional)\n",
    "          |       |\n",
    "          |       |---------img1.jpg\n",
    "          |       |---------img2.jpg\n",
    "          |                |---------..........(and so on)\n",
    "\n",
    "          \n",
    "          "
   ]
  },
  {
   "cell_type": "code",
   "execution_count": null,
   "metadata": {
    "id": "nWp6N6J3h_qJ"
   },
   "outputs": [],
   "source": []
  },
  {
   "cell_type": "code",
   "execution_count": null,
   "metadata": {
    "id": "WRi9u7EOh_qL"
   },
   "outputs": [],
   "source": []
  },
  {
   "cell_type": "markdown",
   "metadata": {
    "id": "kh7Gisz5h_qM"
   },
   "source": [
    "# Sample Dataset Credits\n",
    "\n",
    "    credits: https://www.kaggle.com/franciscoescobar/satellite-images-of-water-bodies"
   ]
  },
  {
   "cell_type": "code",
   "execution_count": null,
   "metadata": {
    "id": "xk_AqsP9h_qN"
   },
   "outputs": [],
   "source": []
  },
  {
   "cell_type": "code",
   "execution_count": null,
   "metadata": {
    "id": "0cFTx8QXh_qO"
   },
   "outputs": [],
   "source": [
    "! pip install kaggle"
   ]
  },
  {
   "cell_type": "code",
   "execution_count": null,
   "metadata": {
    "id": "zHArazhOh_qS"
   },
   "outputs": [],
   "source": [
    "! kaggle datasets download srikaranand/road-segmentation-dataset"
   ]
  },
  {
   "cell_type": "code",
   "execution_count": null,
   "metadata": {
    "id": "1eH7ziiRh_qU"
   },
   "outputs": [],
   "source": [
    "! unzip -qq road-segmentation-dataset.zip"
   ]
  },
  {
   "cell_type": "code",
   "execution_count": null,
   "metadata": {
    "id": "0nisw0zxh_qX"
   },
   "outputs": [],
   "source": [
    "! mkdir dataset\n",
    "! mkdir dataset/images\n",
    "! mkdir dataset/masks"
   ]
  },
  {
   "cell_type": "code",
   "execution_count": null,
   "metadata": {
    "id": "j2cGXUqqh_qZ"
   },
   "outputs": [],
   "source": []
  },
  {
   "cell_type": "code",
   "execution_count": null,
   "metadata": {
    "id": "p0zGNf07h_qb"
   },
   "outputs": [],
   "source": [
    "import os\n",
    "import cv2\n",
    "import numpy as np \n",
    "from tqdm import tqdm"
   ]
  },
  {
   "cell_type": "code",
   "execution_count": null,
   "metadata": {
    "id": "SuFMvfFGh_qe"
   },
   "outputs": [],
   "source": [
    "img_list = os.listdir(\"data/training/groundtruth\");"
   ]
  },
  {
   "cell_type": "code",
   "execution_count": null,
   "metadata": {
    "id": "dAvdLprdq0_5"
   },
   "outputs": [],
   "source": [
    "for i in tqdm(range(len(img_list))):\n",
    "    img = cv2.imread(\"data/training/images/\" + img_list[i]);\n",
    "    img = cv2.resize(img, (384, 384));\n",
    "    cv2.imwrite(\"dataset/images/\" + str(i) + \".png\", img);\n",
    "\n",
    "    mask = cv2.imread(\"data/training/groundtruth/\" + img_list[i], 0);\n",
    "    mask = cv2.resize(mask, (384, 384));\n",
    "    mask[mask > 0] = 1;\n",
    "    cv2.imwrite(\"dataset/masks/\" + str(i) + \".png\", img);"
   ]
  },
  {
   "cell_type": "code",
   "execution_count": null,
   "metadata": {
    "id": "A5IRk4E6h_qs"
   },
   "outputs": [],
   "source": []
  },
  {
   "cell_type": "code",
   "execution_count": null,
   "metadata": {
    "id": "jUVz0r5mh_qu"
   },
   "outputs": [],
   "source": []
  },
  {
   "cell_type": "markdown",
   "metadata": {
    "id": "jvir_c1xh_qw"
   },
   "source": [
    "## Training "
   ]
  },
  {
   "cell_type": "code",
   "execution_count": null,
   "metadata": {
    "id": "cNfxwGBfh_qx"
   },
   "outputs": [],
   "source": [
    "import os\n",
    "import sys\n",
    "sys.path.append(\"Monk_Object_Detection/9_segmentation_models/lib/\");"
   ]
  },
  {
   "cell_type": "code",
   "execution_count": null,
   "metadata": {
    "id": "fBCAfwsHh_qz"
   },
   "outputs": [],
   "source": []
  },
  {
   "cell_type": "code",
   "execution_count": null,
   "metadata": {
    "id": "6FbvjuFqh_q1"
   },
   "outputs": [],
   "source": [
    "from train_segmentation import Segmenter"
   ]
  },
  {
   "cell_type": "code",
   "execution_count": null,
   "metadata": {
    "id": "ZgDTEaRkh_q3"
   },
   "outputs": [],
   "source": []
  },
  {
   "cell_type": "code",
   "execution_count": null,
   "metadata": {
    "id": "lrfrlgK7h_q5"
   },
   "outputs": [],
   "source": [
    "gtf = Segmenter();"
   ]
  },
  {
   "cell_type": "code",
   "execution_count": null,
   "metadata": {
    "id": "XrUN4nCRh_q7"
   },
   "outputs": [],
   "source": []
  },
  {
   "cell_type": "code",
   "execution_count": null,
   "metadata": {
    "id": "wyIBP4k6h_q9"
   },
   "outputs": [],
   "source": [
    "train_img_dir = \"dataset/images\";\n",
    "train_mask_dir = \"dataset/masks\";\n",
    "\n",
    "val_img_dir = \"dataset/images\";\n",
    "val_mask_dir = \"dataset/masks\";\n"
   ]
  },
  {
   "cell_type": "code",
   "execution_count": null,
   "metadata": {
    "id": "D246Axbvh_rA"
   },
   "outputs": [],
   "source": []
  },
  {
   "cell_type": "code",
   "execution_count": null,
   "metadata": {
    "id": "mwyghCruh_rB"
   },
   "outputs": [],
   "source": [
    "classes_dict = {\n",
    "    'background': 0, \n",
    "    'road': 1\n",
    "};\n",
    "classes_to_train = ['background', 'road'];"
   ]
  },
  {
   "cell_type": "code",
   "execution_count": null,
   "metadata": {
    "id": "UX0n0vd2h_rE"
   },
   "outputs": [],
   "source": [
    "gtf.Train_Dataset(train_img_dir, train_mask_dir, classes_dict, classes_to_train)"
   ]
  },
  {
   "cell_type": "code",
   "execution_count": null,
   "metadata": {
    "id": "FaH2XnH_h_rH"
   },
   "outputs": [],
   "source": [
    "gtf.Val_Dataset(val_img_dir, val_mask_dir)"
   ]
  },
  {
   "cell_type": "code",
   "execution_count": null,
   "metadata": {
    "id": "m2UIs-xvh_rI"
   },
   "outputs": [],
   "source": [
    "gtf.List_Backbones();"
   ]
  },
  {
   "cell_type": "code",
   "execution_count": null,
   "metadata": {
    "id": "SHLZqC2Ih_rK"
   },
   "outputs": [],
   "source": []
  },
  {
   "cell_type": "code",
   "execution_count": null,
   "metadata": {
    "id": "UFvRiKxVh_rM"
   },
   "outputs": [],
   "source": [
    "gtf.Data_Params(batch_size=2, backbone=\"efficientnetb3\", image_shape=[384, 384])"
   ]
  },
  {
   "cell_type": "code",
   "execution_count": null,
   "metadata": {
    "id": "V5f3e_wih_rN"
   },
   "outputs": [],
   "source": []
  },
  {
   "cell_type": "code",
   "execution_count": null,
   "metadata": {
    "id": "6UfbVZeLh_rP"
   },
   "outputs": [],
   "source": [
    "gtf.List_Models();"
   ]
  },
  {
   "cell_type": "code",
   "execution_count": null,
   "metadata": {
    "id": "kCDVl3ykh_rR"
   },
   "outputs": [],
   "source": []
  },
  {
   "cell_type": "code",
   "execution_count": null,
   "metadata": {
    "id": "MAkjbehth_rY"
   },
   "outputs": [],
   "source": [
    "gtf.Model_Params(model=\"Unet\")"
   ]
  },
  {
   "cell_type": "code",
   "execution_count": null,
   "metadata": {
    "id": "7wviMQpah_ra"
   },
   "outputs": [],
   "source": []
  },
  {
   "cell_type": "code",
   "execution_count": null,
   "metadata": {
    "id": "YNmDIHSoh_rc"
   },
   "outputs": [],
   "source": [
    "gtf.Train_Params(lr=0.0001)"
   ]
  },
  {
   "cell_type": "code",
   "execution_count": null,
   "metadata": {
    "id": "6OfIMqWJh_rd"
   },
   "outputs": [],
   "source": []
  },
  {
   "cell_type": "code",
   "execution_count": null,
   "metadata": {
    "id": "OMbEU_gwh_rf"
   },
   "outputs": [],
   "source": [
    "gtf.Setup();"
   ]
  },
  {
   "cell_type": "code",
   "execution_count": null,
   "metadata": {
    "id": "AGC9PNpPh_rg"
   },
   "outputs": [],
   "source": []
  },
  {
   "cell_type": "code",
   "execution_count": null,
   "metadata": {
    "id": "xx2Zt-Ach_ri"
   },
   "outputs": [],
   "source": [
    "gtf.Train(num_epochs=300);"
   ]
  },
  {
   "cell_type": "code",
   "execution_count": null,
   "metadata": {
    "id": "hK65KzjDh_rj"
   },
   "outputs": [],
   "source": []
  },
  {
   "cell_type": "code",
   "execution_count": null,
   "metadata": {
    "id": "Ole_GtWoh_rl"
   },
   "outputs": [],
   "source": [
    "gtf.Visualize_Training_History();"
   ]
  },
  {
   "cell_type": "code",
   "execution_count": null,
   "metadata": {
    "id": "N8OYrmMhh_rm"
   },
   "outputs": [],
   "source": []
  },
  {
   "cell_type": "code",
   "execution_count": null,
   "metadata": {
    "id": "isJZ0ntOh_rp"
   },
   "outputs": [],
   "source": []
  },
  {
   "cell_type": "code",
   "execution_count": null,
   "metadata": {
    "id": "o4v_neN3h_rr"
   },
   "outputs": [],
   "source": []
  },
  {
   "cell_type": "code",
   "execution_count": null,
   "metadata": {
    "id": "R6swPQCqh_rs"
   },
   "outputs": [],
   "source": []
  },
  {
   "cell_type": "markdown",
   "metadata": {
    "id": "NrgPGVzVh_ru"
   },
   "source": [
    "# Inference"
   ]
  },
  {
   "cell_type": "code",
   "execution_count": null,
   "metadata": {
    "id": "lPtIKJNZh_ru"
   },
   "outputs": [],
   "source": []
  },
  {
   "cell_type": "code",
   "execution_count": null,
   "metadata": {
    "id": "AoctQxGSh_rv"
   },
   "outputs": [],
   "source": [
    "import os\n",
    "import sys\n",
    "sys.path.append(\"Monk_Object_Detection/9_segmentation_models/lib/\");"
   ]
  },
  {
   "cell_type": "code",
   "execution_count": null,
   "metadata": {
    "id": "ttJmPhoth_r7"
   },
   "outputs": [],
   "source": []
  },
  {
   "cell_type": "code",
   "execution_count": null,
   "metadata": {
    "id": "ypXnzboUh_r9"
   },
   "outputs": [],
   "source": [
    "from infer_segmentation import Infer"
   ]
  },
  {
   "cell_type": "code",
   "execution_count": null,
   "metadata": {
    "id": "h9vnkLtYh_r_"
   },
   "outputs": [],
   "source": []
  },
  {
   "cell_type": "code",
   "execution_count": null,
   "metadata": {
    "id": "0g_rCwT4h_sB"
   },
   "outputs": [],
   "source": [
    "gtf = Infer();"
   ]
  },
  {
   "cell_type": "code",
   "execution_count": null,
   "metadata": {
    "id": "WuYWfGxfh_sE"
   },
   "outputs": [],
   "source": []
  },
  {
   "cell_type": "code",
   "execution_count": null,
   "metadata": {
    "id": "Im9lDhRqh_sH"
   },
   "outputs": [],
   "source": [
    "classes_dict = {\n",
    "    'background': 0, \n",
    "    'road': 1\n",
    "};\n",
    "classes_to_train = ['background', 'road'];"
   ]
  },
  {
   "cell_type": "code",
   "execution_count": null,
   "metadata": {
    "id": "a25W9b71h_sJ"
   },
   "outputs": [],
   "source": []
  },
  {
   "cell_type": "code",
   "execution_count": null,
   "metadata": {
    "id": "Q6PcOkWfh_sL"
   },
   "outputs": [],
   "source": [
    "gtf.Data_Params(classes_dict, classes_to_train, image_shape=[384, 384])"
   ]
  },
  {
   "cell_type": "code",
   "execution_count": null,
   "metadata": {
    "id": "Fs0tpYhNh_sN"
   },
   "outputs": [],
   "source": []
  },
  {
   "cell_type": "code",
   "execution_count": null,
   "metadata": {
    "id": "IwVERdv-h_sO"
   },
   "outputs": [],
   "source": [
    "gtf.Model_Params(model=\"Unet\", backbone=\"efficientnetb3\", path_to_model='best_model.h5')"
   ]
  },
  {
   "cell_type": "code",
   "execution_count": null,
   "metadata": {
    "id": "gbDKlAsGh_sP"
   },
   "outputs": [],
   "source": []
  },
  {
   "cell_type": "code",
   "execution_count": null,
   "metadata": {
    "id": "WnDjwb5Hh_sR"
   },
   "outputs": [],
   "source": [
    "gtf.Setup();"
   ]
  },
  {
   "cell_type": "code",
   "execution_count": null,
   "metadata": {
    "id": "9AbB65cth_sS"
   },
   "outputs": [],
   "source": [
    "import os\n",
    "img_list = os.listdir(\"dataset/images/\")"
   ]
  },
  {
   "cell_type": "code",
   "execution_count": null,
   "metadata": {
    "id": "qF5K8uKhh_sU"
   },
   "outputs": [],
   "source": [
    "gtf.Predict(\"dataset/images/\" + img_list[i], vis=True);"
   ]
  },
  {
   "cell_type": "code",
   "execution_count": null,
   "metadata": {
    "id": "h3_1VN8yh_sY"
   },
   "outputs": [],
   "source": []
  }
 ],
 "metadata": {
  "accelerator": "GPU",
  "colab": {
   "collapsed_sections": [
    "ASI6Hmq_h_qI"
   ],
   "name": "Example - Water Body Segmentation.ipynb",
   "provenance": []
  },
  "kernelspec": {
   "display_name": "Python 3",
   "language": "python",
   "name": "python3"
  },
  "language_info": {
   "codemirror_mode": {
    "name": "ipython",
    "version": 3
   },
   "file_extension": ".py",
   "mimetype": "text/x-python",
   "name": "python",
   "nbconvert_exporter": "python",
   "pygments_lexer": "ipython3",
   "version": "3.6.9"
  }
 },
 "nbformat": 4,
 "nbformat_minor": 1
}
