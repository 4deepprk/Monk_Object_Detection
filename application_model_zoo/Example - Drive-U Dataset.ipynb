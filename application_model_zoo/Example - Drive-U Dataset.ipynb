{
 "cells": [
  {
   "cell_type": "markdown",
   "metadata": {},
   "source": [
    "# Table of contents\n",
    "## Install Monk Object Detection Library\n",
    "##  Download Drive- U Dataset\n",
    "## To save images in one folder\n",
    "## code to make the dataset in required format\n",
    "## Run Training\n",
    "## Inference"
   ]
  },
  {
   "cell_type": "markdown",
   "metadata": {},
   "source": [
    "# Install Monk Object Detection Library"
   ]
  },
  {
   "cell_type": "code",
   "execution_count": null,
   "metadata": {},
   "outputs": [],
   "source": [
    "! git clone https://github.com/Tessellate-Imaging/Monk_Object_Detection.git"
   ]
  },
  {
   "cell_type": "code",
   "execution_count": 1,
   "metadata": {},
   "outputs": [
    {
     "name": "stdout",
     "output_type": "stream",
     "text": [
      "Requirement already satisfied: numpy in /home/ubuntu/.virtualenvs/my_venv/lib/python3.6/site-packages (1.19.1)\n",
      "\u001b[33mWARNING: You are using pip version 20.2.2; however, version 20.2.3 is available.\n",
      "You should consider upgrading via the '/home/ubuntu/.virtualenvs/my_venv/bin/python3.6 -m pip install --upgrade pip' command.\u001b[0m\n",
      "Requirement already satisfied: scipy in /home/ubuntu/.virtualenvs/my_venv/lib/python3.6/site-packages (1.5.2)\n",
      "Requirement already satisfied: numpy>=1.14.5 in /home/ubuntu/.virtualenvs/my_venv/lib/python3.6/site-packages (from scipy) (1.19.1)\n",
      "\u001b[33mWARNING: You are using pip version 20.2.2; however, version 20.2.3 is available.\n",
      "You should consider upgrading via the '/home/ubuntu/.virtualenvs/my_venv/bin/python3.6 -m pip install --upgrade pip' command.\u001b[0m\n",
      "Requirement already satisfied: scikit-learn in /home/ubuntu/.virtualenvs/my_venv/lib/python3.6/site-packages (0.23.2)\n",
      "Requirement already satisfied: scipy>=0.19.1 in /home/ubuntu/.virtualenvs/my_venv/lib/python3.6/site-packages (from scikit-learn) (1.5.2)\n",
      "Requirement already satisfied: numpy>=1.13.3 in /home/ubuntu/.virtualenvs/my_venv/lib/python3.6/site-packages (from scikit-learn) (1.19.1)\n",
      "Requirement already satisfied: threadpoolctl>=2.0.0 in /home/ubuntu/.virtualenvs/my_venv/lib/python3.6/site-packages (from scikit-learn) (2.1.0)\n",
      "Requirement already satisfied: joblib>=0.11 in /home/ubuntu/.virtualenvs/my_venv/lib/python3.6/site-packages (from scikit-learn) (0.16.0)\n",
      "\u001b[33mWARNING: You are using pip version 20.2.2; however, version 20.2.3 is available.\n",
      "You should consider upgrading via the '/home/ubuntu/.virtualenvs/my_venv/bin/python3.6 -m pip install --upgrade pip' command.\u001b[0m\n",
      "Requirement already satisfied: scikit-image in /home/ubuntu/.virtualenvs/my_venv/lib/python3.6/site-packages (0.17.2)\n",
      "Requirement already satisfied: matplotlib!=3.0.0,>=2.0.0 in /home/ubuntu/.virtualenvs/my_venv/lib/python3.6/site-packages (from scikit-image) (3.3.1)\n",
      "Requirement already satisfied: imageio>=2.3.0 in /home/ubuntu/.virtualenvs/my_venv/lib/python3.6/site-packages (from scikit-image) (2.9.0)\n",
      "Requirement already satisfied: tifffile>=2019.7.26 in /home/ubuntu/.virtualenvs/my_venv/lib/python3.6/site-packages (from scikit-image) (2020.9.3)\n",
      "Requirement already satisfied: PyWavelets>=1.1.1 in /home/ubuntu/.virtualenvs/my_venv/lib/python3.6/site-packages (from scikit-image) (1.1.1)\n",
      "Requirement already satisfied: networkx>=2.0 in /home/ubuntu/.virtualenvs/my_venv/lib/python3.6/site-packages (from scikit-image) (2.5)\n",
      "Requirement already satisfied: pillow!=7.1.0,!=7.1.1,>=4.3.0 in /home/ubuntu/.virtualenvs/my_venv/lib/python3.6/site-packages (from scikit-image) (7.2.0)\n",
      "Requirement already satisfied: numpy>=1.15.1 in /home/ubuntu/.virtualenvs/my_venv/lib/python3.6/site-packages (from scikit-image) (1.19.1)\n",
      "Requirement already satisfied: scipy>=1.0.1 in /home/ubuntu/.virtualenvs/my_venv/lib/python3.6/site-packages (from scikit-image) (1.5.2)\n",
      "Requirement already satisfied: cycler>=0.10 in /home/ubuntu/.virtualenvs/my_venv/lib/python3.6/site-packages (from matplotlib!=3.0.0,>=2.0.0->scikit-image) (0.10.0)\n",
      "Requirement already satisfied: python-dateutil>=2.1 in /home/ubuntu/.virtualenvs/my_venv/lib/python3.6/site-packages (from matplotlib!=3.0.0,>=2.0.0->scikit-image) (2.8.1)\n",
      "Requirement already satisfied: pyparsing!=2.0.4,!=2.1.2,!=2.1.6,>=2.0.3 in /home/ubuntu/.virtualenvs/my_venv/lib/python3.6/site-packages (from matplotlib!=3.0.0,>=2.0.0->scikit-image) (2.4.7)\n",
      "Requirement already satisfied: certifi>=2020.06.20 in /home/ubuntu/.virtualenvs/my_venv/lib/python3.6/site-packages (from matplotlib!=3.0.0,>=2.0.0->scikit-image) (2020.6.20)\n",
      "Requirement already satisfied: kiwisolver>=1.0.1 in /home/ubuntu/.virtualenvs/my_venv/lib/python3.6/site-packages (from matplotlib!=3.0.0,>=2.0.0->scikit-image) (1.2.0)\n",
      "Requirement already satisfied: decorator>=4.3.0 in /home/ubuntu/.virtualenvs/my_venv/lib/python3.6/site-packages (from networkx>=2.0->scikit-image) (4.4.2)\n",
      "Requirement already satisfied: six in /home/ubuntu/.virtualenvs/my_venv/lib/python3.6/site-packages (from cycler>=0.10->matplotlib!=3.0.0,>=2.0.0->scikit-image) (1.15.0)\n",
      "\u001b[33mWARNING: You are using pip version 20.2.2; however, version 20.2.3 is available.\n",
      "You should consider upgrading via the '/home/ubuntu/.virtualenvs/my_venv/bin/python3.6 -m pip install --upgrade pip' command.\u001b[0m\n",
      "Requirement already satisfied: opencv-python in /home/ubuntu/.virtualenvs/my_venv/lib/python3.6/site-packages (4.4.0.42)\n",
      "Requirement already satisfied: numpy>=1.13.3 in /home/ubuntu/.virtualenvs/my_venv/lib/python3.6/site-packages (from opencv-python) (1.19.1)\n",
      "\u001b[33mWARNING: You are using pip version 20.2.2; however, version 20.2.3 is available.\n",
      "You should consider upgrading via the '/home/ubuntu/.virtualenvs/my_venv/bin/python3.6 -m pip install --upgrade pip' command.\u001b[0m\n",
      "Requirement already satisfied: pillow in /home/ubuntu/.virtualenvs/my_venv/lib/python3.6/site-packages (7.2.0)\n",
      "\u001b[33mWARNING: You are using pip version 20.2.2; however, version 20.2.3 is available.\n",
      "You should consider upgrading via the '/home/ubuntu/.virtualenvs/my_venv/bin/python3.6 -m pip install --upgrade pip' command.\u001b[0m\n",
      "Requirement already satisfied: pandas in /home/ubuntu/.virtualenvs/my_venv/lib/python3.6/site-packages (1.1.1)\n",
      "Requirement already satisfied: numpy>=1.15.4 in /home/ubuntu/.virtualenvs/my_venv/lib/python3.6/site-packages (from pandas) (1.19.1)\n",
      "Requirement already satisfied: pytz>=2017.2 in /home/ubuntu/.virtualenvs/my_venv/lib/python3.6/site-packages (from pandas) (2020.1)\n",
      "Requirement already satisfied: python-dateutil>=2.7.3 in /home/ubuntu/.virtualenvs/my_venv/lib/python3.6/site-packages (from pandas) (2.8.1)\n",
      "Requirement already satisfied: six>=1.5 in /home/ubuntu/.virtualenvs/my_venv/lib/python3.6/site-packages (from python-dateutil>=2.7.3->pandas) (1.15.0)\n",
      "\u001b[33mWARNING: You are using pip version 20.2.2; however, version 20.2.3 is available.\n",
      "You should consider upgrading via the '/home/ubuntu/.virtualenvs/my_venv/bin/python3.6 -m pip install --upgrade pip' command.\u001b[0m\n",
      "Requirement already satisfied: tqdm in /home/ubuntu/.virtualenvs/my_venv/lib/python3.6/site-packages (4.48.2)\n",
      "\u001b[33mWARNING: You are using pip version 20.2.2; however, version 20.2.3 is available.\n",
      "You should consider upgrading via the '/home/ubuntu/.virtualenvs/my_venv/bin/python3.6 -m pip install --upgrade pip' command.\u001b[0m\n",
      "Requirement already satisfied: tensorflow-gpu==1.15 in /home/ubuntu/.virtualenvs/my_venv/lib/python3.6/site-packages (1.15.0)\n",
      "Requirement already satisfied: keras-preprocessing>=1.0.5 in /home/ubuntu/.virtualenvs/my_venv/lib/python3.6/site-packages (from tensorflow-gpu==1.15) (1.1.2)\n",
      "Requirement already satisfied: six>=1.10.0 in /home/ubuntu/.virtualenvs/my_venv/lib/python3.6/site-packages (from tensorflow-gpu==1.15) (1.15.0)\n",
      "Requirement already satisfied: wrapt>=1.11.1 in /home/ubuntu/.virtualenvs/my_venv/lib/python3.6/site-packages (from tensorflow-gpu==1.15) (1.12.1)\n",
      "Requirement already satisfied: protobuf>=3.6.1 in /home/ubuntu/.virtualenvs/my_venv/lib/python3.6/site-packages (from tensorflow-gpu==1.15) (3.13.0)\n",
      "Requirement already satisfied: tensorboard<1.16.0,>=1.15.0 in /home/ubuntu/.virtualenvs/my_venv/lib/python3.6/site-packages (from tensorflow-gpu==1.15) (1.15.0)\n",
      "Requirement already satisfied: tensorflow-estimator==1.15.1 in /home/ubuntu/.virtualenvs/my_venv/lib/python3.6/site-packages (from tensorflow-gpu==1.15) (1.15.1)\n",
      "Requirement already satisfied: termcolor>=1.1.0 in /home/ubuntu/.virtualenvs/my_venv/lib/python3.6/site-packages (from tensorflow-gpu==1.15) (1.1.0)\n",
      "Requirement already satisfied: opt-einsum>=2.3.2 in /home/ubuntu/.virtualenvs/my_venv/lib/python3.6/site-packages (from tensorflow-gpu==1.15) (3.3.0)\n",
      "Requirement already satisfied: grpcio>=1.8.6 in /home/ubuntu/.virtualenvs/my_venv/lib/python3.6/site-packages (from tensorflow-gpu==1.15) (1.31.0)\n",
      "Requirement already satisfied: gast==0.2.2 in /home/ubuntu/.virtualenvs/my_venv/lib/python3.6/site-packages (from tensorflow-gpu==1.15) (0.2.2)\n",
      "Requirement already satisfied: absl-py>=0.7.0 in /home/ubuntu/.virtualenvs/my_venv/lib/python3.6/site-packages (from tensorflow-gpu==1.15) (0.10.0)\n",
      "Requirement already satisfied: wheel>=0.26 in /home/ubuntu/.virtualenvs/my_venv/lib/python3.6/site-packages (from tensorflow-gpu==1.15) (0.35.1)\n",
      "Requirement already satisfied: keras-applications>=1.0.8 in /home/ubuntu/.virtualenvs/my_venv/lib/python3.6/site-packages (from tensorflow-gpu==1.15) (1.0.8)\n",
      "Requirement already satisfied: astor>=0.6.0 in /home/ubuntu/.virtualenvs/my_venv/lib/python3.6/site-packages (from tensorflow-gpu==1.15) (0.8.1)\n",
      "Requirement already satisfied: numpy<2.0,>=1.16.0 in /home/ubuntu/.virtualenvs/my_venv/lib/python3.6/site-packages (from tensorflow-gpu==1.15) (1.19.1)\n",
      "Requirement already satisfied: google-pasta>=0.1.6 in /home/ubuntu/.virtualenvs/my_venv/lib/python3.6/site-packages (from tensorflow-gpu==1.15) (0.2.0)\n",
      "Requirement already satisfied: setuptools in /home/ubuntu/.virtualenvs/my_venv/lib/python3.6/site-packages (from protobuf>=3.6.1->tensorflow-gpu==1.15) (50.2.0)\n",
      "Requirement already satisfied: werkzeug>=0.11.15 in /home/ubuntu/.virtualenvs/my_venv/lib/python3.6/site-packages (from tensorboard<1.16.0,>=1.15.0->tensorflow-gpu==1.15) (1.0.1)\n"
     ]
    },
    {
     "name": "stdout",
     "output_type": "stream",
     "text": [
      "Requirement already satisfied: markdown>=2.6.8 in /home/ubuntu/.virtualenvs/my_venv/lib/python3.6/site-packages (from tensorboard<1.16.0,>=1.15.0->tensorflow-gpu==1.15) (3.2.2)\n",
      "Requirement already satisfied: h5py in /home/ubuntu/.virtualenvs/my_venv/lib/python3.6/site-packages (from keras-applications>=1.0.8->tensorflow-gpu==1.15) (2.10.0)\n",
      "Requirement already satisfied: importlib-metadata; python_version < \"3.8\" in /home/ubuntu/.virtualenvs/my_venv/lib/python3.6/site-packages (from markdown>=2.6.8->tensorboard<1.16.0,>=1.15.0->tensorflow-gpu==1.15) (1.7.0)\n",
      "Requirement already satisfied: zipp>=0.5 in /home/ubuntu/.virtualenvs/my_venv/lib/python3.6/site-packages (from importlib-metadata; python_version < \"3.8\"->markdown>=2.6.8->tensorboard<1.16.0,>=1.15.0->tensorflow-gpu==1.15) (3.1.0)\n",
      "\u001b[33mWARNING: You are using pip version 20.2.2; however, version 20.2.3 is available.\n",
      "You should consider upgrading via the '/home/ubuntu/.virtualenvs/my_venv/bin/python3.6 -m pip install --upgrade pip' command.\u001b[0m\n",
      "Requirement already satisfied: jupyter in /home/ubuntu/.virtualenvs/my_venv/lib/python3.6/site-packages (1.0.0)\n",
      "Requirement already satisfied: notebook in /home/ubuntu/.virtualenvs/my_venv/lib/python3.6/site-packages (6.1.3)\n",
      "Requirement already satisfied: qtconsole in /home/ubuntu/.virtualenvs/my_venv/lib/python3.6/site-packages (from jupyter) (4.7.7)\n",
      "Requirement already satisfied: ipywidgets in /home/ubuntu/.virtualenvs/my_venv/lib/python3.6/site-packages (from jupyter) (7.5.1)\n",
      "Requirement already satisfied: jupyter-console in /home/ubuntu/.virtualenvs/my_venv/lib/python3.6/site-packages (from jupyter) (6.2.0)\n",
      "Requirement already satisfied: nbconvert in /home/ubuntu/.virtualenvs/my_venv/lib/python3.6/site-packages (from jupyter) (5.6.1)\n",
      "Requirement already satisfied: ipykernel in /home/ubuntu/.virtualenvs/my_venv/lib/python3.6/site-packages (from jupyter) (5.3.4)\n",
      "Requirement already satisfied: terminado>=0.8.3 in /home/ubuntu/.virtualenvs/my_venv/lib/python3.6/site-packages (from notebook) (0.8.3)\n",
      "Requirement already satisfied: jinja2 in /home/ubuntu/.virtualenvs/my_venv/lib/python3.6/site-packages (from notebook) (2.11.2)\n",
      "Requirement already satisfied: argon2-cffi in /home/ubuntu/.virtualenvs/my_venv/lib/python3.6/site-packages (from notebook) (20.1.0)\n",
      "Requirement already satisfied: traitlets>=4.2.1 in /home/ubuntu/.virtualenvs/my_venv/lib/python3.6/site-packages (from notebook) (4.3.3)\n",
      "Requirement already satisfied: ipython-genutils in /home/ubuntu/.virtualenvs/my_venv/lib/python3.6/site-packages (from notebook) (0.2.0)\n",
      "Requirement already satisfied: jupyter-client>=5.3.4 in /home/ubuntu/.virtualenvs/my_venv/lib/python3.6/site-packages (from notebook) (6.1.7)\n",
      "Requirement already satisfied: Send2Trash in /home/ubuntu/.virtualenvs/my_venv/lib/python3.6/site-packages (from notebook) (1.5.0)\n",
      "Requirement already satisfied: nbformat in /home/ubuntu/.virtualenvs/my_venv/lib/python3.6/site-packages (from notebook) (5.0.7)\n",
      "Requirement already satisfied: pyzmq>=17 in /home/ubuntu/.virtualenvs/my_venv/lib/python3.6/site-packages (from notebook) (19.0.2)\n",
      "Requirement already satisfied: prometheus-client in /home/ubuntu/.virtualenvs/my_venv/lib/python3.6/site-packages (from notebook) (0.8.0)\n",
      "Requirement already satisfied: jupyter-core>=4.6.1 in /home/ubuntu/.virtualenvs/my_venv/lib/python3.6/site-packages (from notebook) (4.6.3)\n",
      "Requirement already satisfied: tornado>=5.0 in /home/ubuntu/.virtualenvs/my_venv/lib/python3.6/site-packages (from notebook) (6.0.4)\n",
      "Requirement already satisfied: pygments in /home/ubuntu/.virtualenvs/my_venv/lib/python3.6/site-packages (from qtconsole->jupyter) (2.6.1)\n",
      "Requirement already satisfied: qtpy in /home/ubuntu/.virtualenvs/my_venv/lib/python3.6/site-packages (from qtconsole->jupyter) (1.9.0)\n",
      "Requirement already satisfied: widgetsnbextension~=3.5.0 in /home/ubuntu/.virtualenvs/my_venv/lib/python3.6/site-packages (from ipywidgets->jupyter) (3.5.1)\n",
      "Requirement already satisfied: ipython>=4.0.0; python_version >= \"3.3\" in /home/ubuntu/.virtualenvs/my_venv/lib/python3.6/site-packages (from ipywidgets->jupyter) (7.16.1)\n",
      "Requirement already satisfied: prompt-toolkit!=3.0.0,!=3.0.1,<3.1.0,>=2.0.0 in /home/ubuntu/.virtualenvs/my_venv/lib/python3.6/site-packages (from jupyter-console->jupyter) (3.0.7)\n",
      "Requirement already satisfied: entrypoints>=0.2.2 in /home/ubuntu/.virtualenvs/my_venv/lib/python3.6/site-packages (from nbconvert->jupyter) (0.3)\n",
      "Requirement already satisfied: testpath in /home/ubuntu/.virtualenvs/my_venv/lib/python3.6/site-packages (from nbconvert->jupyter) (0.4.4)\n",
      "Requirement already satisfied: bleach in /home/ubuntu/.virtualenvs/my_venv/lib/python3.6/site-packages (from nbconvert->jupyter) (3.1.5)\n",
      "Requirement already satisfied: defusedxml in /home/ubuntu/.virtualenvs/my_venv/lib/python3.6/site-packages (from nbconvert->jupyter) (0.6.0)\n",
      "Requirement already satisfied: pandocfilters>=1.4.1 in /home/ubuntu/.virtualenvs/my_venv/lib/python3.6/site-packages (from nbconvert->jupyter) (1.4.2)\n",
      "Requirement already satisfied: mistune<2,>=0.8.1 in /home/ubuntu/.virtualenvs/my_venv/lib/python3.6/site-packages (from nbconvert->jupyter) (0.8.4)\n",
      "Requirement already satisfied: ptyprocess; os_name != \"nt\" in /home/ubuntu/.virtualenvs/my_venv/lib/python3.6/site-packages (from terminado>=0.8.3->notebook) (0.6.0)\n",
      "Requirement already satisfied: MarkupSafe>=0.23 in /home/ubuntu/.virtualenvs/my_venv/lib/python3.6/site-packages (from jinja2->notebook) (1.1.1)\n",
      "Requirement already satisfied: cffi>=1.0.0 in /home/ubuntu/.virtualenvs/my_venv/lib/python3.6/site-packages (from argon2-cffi->notebook) (1.14.2)\n",
      "Requirement already satisfied: six in /home/ubuntu/.virtualenvs/my_venv/lib/python3.6/site-packages (from argon2-cffi->notebook) (1.15.0)\n",
      "Requirement already satisfied: decorator in /home/ubuntu/.virtualenvs/my_venv/lib/python3.6/site-packages (from traitlets>=4.2.1->notebook) (4.4.2)\n",
      "Requirement already satisfied: python-dateutil>=2.1 in /home/ubuntu/.virtualenvs/my_venv/lib/python3.6/site-packages (from jupyter-client>=5.3.4->notebook) (2.8.1)\n",
      "Requirement already satisfied: jsonschema!=2.5.0,>=2.4 in /home/ubuntu/.virtualenvs/my_venv/lib/python3.6/site-packages (from nbformat->notebook) (3.2.0)\n",
      "Requirement already satisfied: backcall in /home/ubuntu/.virtualenvs/my_venv/lib/python3.6/site-packages (from ipython>=4.0.0; python_version >= \"3.3\"->ipywidgets->jupyter) (0.2.0)\n",
      "Requirement already satisfied: pickleshare in /home/ubuntu/.virtualenvs/my_venv/lib/python3.6/site-packages (from ipython>=4.0.0; python_version >= \"3.3\"->ipywidgets->jupyter) (0.7.5)\n",
      "Requirement already satisfied: pexpect; sys_platform != \"win32\" in /home/ubuntu/.virtualenvs/my_venv/lib/python3.6/site-packages (from ipython>=4.0.0; python_version >= \"3.3\"->ipywidgets->jupyter) (4.8.0)\n",
      "Requirement already satisfied: setuptools>=18.5 in /home/ubuntu/.virtualenvs/my_venv/lib/python3.6/site-packages (from ipython>=4.0.0; python_version >= \"3.3\"->ipywidgets->jupyter) (50.2.0)\n",
      "Requirement already satisfied: jedi>=0.10 in /home/ubuntu/.virtualenvs/my_venv/lib/python3.6/site-packages (from ipython>=4.0.0; python_version >= \"3.3\"->ipywidgets->jupyter) (0.17.2)\n",
      "Requirement already satisfied: wcwidth in /home/ubuntu/.virtualenvs/my_venv/lib/python3.6/site-packages (from prompt-toolkit!=3.0.0,!=3.0.1,<3.1.0,>=2.0.0->jupyter-console->jupyter) (0.2.5)\n",
      "Requirement already satisfied: webencodings in /home/ubuntu/.virtualenvs/my_venv/lib/python3.6/site-packages (from bleach->nbconvert->jupyter) (0.5.1)\n",
      "Requirement already satisfied: packaging in /home/ubuntu/.virtualenvs/my_venv/lib/python3.6/site-packages (from bleach->nbconvert->jupyter) (20.4)\n",
      "Requirement already satisfied: pycparser in /home/ubuntu/.virtualenvs/my_venv/lib/python3.6/site-packages (from cffi>=1.0.0->argon2-cffi->notebook) (2.20)\n",
      "Requirement already satisfied: importlib-metadata; python_version < \"3.8\" in /home/ubuntu/.virtualenvs/my_venv/lib/python3.6/site-packages (from jsonschema!=2.5.0,>=2.4->nbformat->notebook) (1.7.0)\n",
      "Requirement already satisfied: pyrsistent>=0.14.0 in /home/ubuntu/.virtualenvs/my_venv/lib/python3.6/site-packages (from jsonschema!=2.5.0,>=2.4->nbformat->notebook) (0.16.0)\n",
      "Requirement already satisfied: attrs>=17.4.0 in /home/ubuntu/.virtualenvs/my_venv/lib/python3.6/site-packages (from jsonschema!=2.5.0,>=2.4->nbformat->notebook) (20.2.0)\n",
      "Requirement already satisfied: parso<0.8.0,>=0.7.0 in /home/ubuntu/.virtualenvs/my_venv/lib/python3.6/site-packages (from jedi>=0.10->ipython>=4.0.0; python_version >= \"3.3\"->ipywidgets->jupyter) (0.7.1)\n",
      "Requirement already satisfied: pyparsing>=2.0.2 in /home/ubuntu/.virtualenvs/my_venv/lib/python3.6/site-packages (from packaging->bleach->nbconvert->jupyter) (2.4.7)\n",
      "Requirement already satisfied: zipp>=0.5 in /home/ubuntu/.virtualenvs/my_venv/lib/python3.6/site-packages (from importlib-metadata; python_version < \"3.8\"->jsonschema!=2.5.0,>=2.4->nbformat->notebook) (3.1.0)\n"
     ]
    },
    {
     "name": "stdout",
     "output_type": "stream",
     "text": [
      "\u001b[33mWARNING: You are using pip version 20.2.2; however, version 20.2.3 is available.\n",
      "You should consider upgrading via the '/home/ubuntu/.virtualenvs/my_venv/bin/python3.6 -m pip install --upgrade pip' command.\u001b[0m\n",
      "Requirement already satisfied: pycocotools in /home/ubuntu/.virtualenvs/my_venv/lib/python3.6/site-packages (2.0.2)\n",
      "Requirement already satisfied: setuptools>=18.0 in /home/ubuntu/.virtualenvs/my_venv/lib/python3.6/site-packages (from pycocotools) (50.2.0)\n",
      "Requirement already satisfied: matplotlib>=2.1.0 in /home/ubuntu/.virtualenvs/my_venv/lib/python3.6/site-packages (from pycocotools) (3.3.1)\n",
      "Requirement already satisfied: cython>=0.27.3 in /home/ubuntu/.virtualenvs/my_venv/lib/python3.6/site-packages (from pycocotools) (0.29.21)\n",
      "Requirement already satisfied: numpy>=1.15 in /home/ubuntu/.virtualenvs/my_venv/lib/python3.6/site-packages (from matplotlib>=2.1.0->pycocotools) (1.19.1)\n",
      "Requirement already satisfied: pillow>=6.2.0 in /home/ubuntu/.virtualenvs/my_venv/lib/python3.6/site-packages (from matplotlib>=2.1.0->pycocotools) (7.2.0)\n",
      "Requirement already satisfied: cycler>=0.10 in /home/ubuntu/.virtualenvs/my_venv/lib/python3.6/site-packages (from matplotlib>=2.1.0->pycocotools) (0.10.0)\n",
      "Requirement already satisfied: python-dateutil>=2.1 in /home/ubuntu/.virtualenvs/my_venv/lib/python3.6/site-packages (from matplotlib>=2.1.0->pycocotools) (2.8.1)\n",
      "Requirement already satisfied: pyparsing!=2.0.4,!=2.1.2,!=2.1.6,>=2.0.3 in /home/ubuntu/.virtualenvs/my_venv/lib/python3.6/site-packages (from matplotlib>=2.1.0->pycocotools) (2.4.7)\n",
      "Requirement already satisfied: kiwisolver>=1.0.1 in /home/ubuntu/.virtualenvs/my_venv/lib/python3.6/site-packages (from matplotlib>=2.1.0->pycocotools) (1.2.0)\n",
      "Requirement already satisfied: certifi>=2020.06.20 in /home/ubuntu/.virtualenvs/my_venv/lib/python3.6/site-packages (from matplotlib>=2.1.0->pycocotools) (2020.6.20)\n",
      "Requirement already satisfied: six in /home/ubuntu/.virtualenvs/my_venv/lib/python3.6/site-packages (from cycler>=0.10->matplotlib>=2.1.0->pycocotools) (1.15.0)\n",
      "\u001b[33mWARNING: You are using pip version 20.2.2; however, version 20.2.3 is available.\n",
      "You should consider upgrading via the '/home/ubuntu/.virtualenvs/my_venv/bin/python3.6 -m pip install --upgrade pip' command.\u001b[0m\n",
      "Processing /home/ubuntu/Monk_Object_Detection/12_tf_obj_1/lib/models/research\n",
      "Requirement already satisfied: pillow in /home/ubuntu/.virtualenvs/my_venv/lib/python3.6/site-packages (from object-detection==0.1) (7.2.0)\n",
      "Requirement already satisfied: lxml in /home/ubuntu/.virtualenvs/my_venv/lib/python3.6/site-packages (from object-detection==0.1) (4.5.2)\n",
      "Requirement already satisfied: matplotlib in /home/ubuntu/.virtualenvs/my_venv/lib/python3.6/site-packages (from object-detection==0.1) (3.3.1)\n",
      "Requirement already satisfied: Cython in /home/ubuntu/.virtualenvs/my_venv/lib/python3.6/site-packages (from object-detection==0.1) (0.29.21)\n",
      "Requirement already satisfied: contextlib2 in /home/ubuntu/.virtualenvs/my_venv/lib/python3.6/site-packages (from object-detection==0.1) (0.6.0.post1)\n",
      "Requirement already satisfied: tf-slim in /home/ubuntu/.virtualenvs/my_venv/lib/python3.6/site-packages (from object-detection==0.1) (1.1.0)\n",
      "Requirement already satisfied: six in /home/ubuntu/.virtualenvs/my_venv/lib/python3.6/site-packages (from object-detection==0.1) (1.15.0)\n",
      "Requirement already satisfied: pycocotools in /home/ubuntu/.virtualenvs/my_venv/lib/python3.6/site-packages (from object-detection==0.1) (2.0.2)\n",
      "Requirement already satisfied: scipy in /home/ubuntu/.virtualenvs/my_venv/lib/python3.6/site-packages (from object-detection==0.1) (1.5.2)\n",
      "Requirement already satisfied: pandas in /home/ubuntu/.virtualenvs/my_venv/lib/python3.6/site-packages (from object-detection==0.1) (1.1.1)\n",
      "Requirement already satisfied: python-dateutil>=2.1 in /home/ubuntu/.virtualenvs/my_venv/lib/python3.6/site-packages (from matplotlib->object-detection==0.1) (2.8.1)\n",
      "Requirement already satisfied: cycler>=0.10 in /home/ubuntu/.virtualenvs/my_venv/lib/python3.6/site-packages (from matplotlib->object-detection==0.1) (0.10.0)\n",
      "Requirement already satisfied: kiwisolver>=1.0.1 in /home/ubuntu/.virtualenvs/my_venv/lib/python3.6/site-packages (from matplotlib->object-detection==0.1) (1.2.0)\n",
      "Requirement already satisfied: numpy>=1.15 in /home/ubuntu/.virtualenvs/my_venv/lib/python3.6/site-packages (from matplotlib->object-detection==0.1) (1.19.1)\n",
      "Requirement already satisfied: pyparsing!=2.0.4,!=2.1.2,!=2.1.6,>=2.0.3 in /home/ubuntu/.virtualenvs/my_venv/lib/python3.6/site-packages (from matplotlib->object-detection==0.1) (2.4.7)\n",
      "Requirement already satisfied: certifi>=2020.06.20 in /home/ubuntu/.virtualenvs/my_venv/lib/python3.6/site-packages (from matplotlib->object-detection==0.1) (2020.6.20)\n",
      "Requirement already satisfied: absl-py>=0.2.2 in /home/ubuntu/.virtualenvs/my_venv/lib/python3.6/site-packages (from tf-slim->object-detection==0.1) (0.10.0)\n",
      "Requirement already satisfied: setuptools>=18.0 in /home/ubuntu/.virtualenvs/my_venv/lib/python3.6/site-packages (from pycocotools->object-detection==0.1) (50.2.0)\n",
      "Requirement already satisfied: pytz>=2017.2 in /home/ubuntu/.virtualenvs/my_venv/lib/python3.6/site-packages (from pandas->object-detection==0.1) (2020.1)\n",
      "Building wheels for collected packages: object-detection\n",
      "  Building wheel for object-detection (setup.py) ... \u001b[?25ldone\n",
      "\u001b[?25h  Created wheel for object-detection: filename=object_detection-0.1-py3-none-any.whl size=1545497 sha256=8ae6eaf93bef7cd69fcdc36172577aaf60d9641ed7d0eb836106edef7c9887fa\n",
      "  Stored in directory: /tmp/pip-ephem-wheel-cache-0tn9ph4t/wheels/f9/95/fd/8af28cd9211ebdb2911dc60bdd3dd39c9a8d36c4f46e0353e9\n",
      "Successfully built object-detection\n",
      "Installing collected packages: object-detection\n",
      "  Attempting uninstall: object-detection\n",
      "    Found existing installation: object-detection 0.1\n",
      "    Uninstalling object-detection-0.1:\n",
      "      Successfully uninstalled object-detection-0.1\n",
      "Successfully installed object-detection-0.1\n",
      "\u001b[33mWARNING: You are using pip version 20.2.2; however, version 20.2.3 is available.\n",
      "You should consider upgrading via the '/home/ubuntu/.virtualenvs/my_venv/bin/python -m pip install --upgrade pip' command.\u001b[0m\n"
     ]
    }
   ],
   "source": [
    "# For colab use the command below\n",
    "#! cd Monk_Object_Detection/12_tf_obj_1/installation && chmod +x install_colab.sh && ./install_colab.sh\n",
    "# Restart colab runtime now\n",
    "\n",
    "# For Local systems and cloud select the right CUDA version\n",
    "! cd Monk_Object_Detection/12_tf_obj_1/installation && chmod +x install_cuda10.sh && ./install_cuda10.sh"
   ]
  },
  {
   "cell_type": "markdown",
   "metadata": {},
   "source": [
    "# Drive- U Dataset is available on this link \n",
    "https://www.uni-ulm.de/en/in/driveu/projects/driveu-traffic-light-dataset/"
   ]
  },
  {
   "cell_type": "code",
   "execution_count": 1,
   "metadata": {},
   "outputs": [],
   "source": [
    "import os\n",
    "import cv2\n",
    "import shutil\n",
    "from PIL import Image\n",
    "import matplotlib.pyplot as plt\n",
    "import matplotlib.image as mpimg\n",
    "from wand.image import Image"
   ]
  },
  {
   "cell_type": "markdown",
   "metadata": {},
   "source": [
    "# To save images in one folder"
   ]
  },
  {
   "cell_type": "code",
   "execution_count": null,
   "metadata": {},
   "outputs": [],
   "source": [
    "source=\"DTLD/cities/\"\n",
    "dest=\"train/\""
   ]
  },
  {
   "cell_type": "code",
   "execution_count": null,
   "metadata": {},
   "outputs": [],
   "source": [
    "for folders, subfolders, filenames in os.walk(source):\n",
    "    for filename in filenames:\n",
    "        if filename.find('native')<0:\n",
    "            shutil.move(os.path.join(folders, filename), dest)\n",
    "            "
   ]
  },
  {
   "cell_type": "markdown",
   "metadata": {},
   "source": [
    "## Dataset required - in Pascal VOC format\n",
    "parent_dir\n",
    "    |\n",
    "    \n",
    "    |---------train\n",
    "                |\n",
    "                |--------images\n",
    "                            |\n",
    "                            |--------img1.jpg\n",
    "                            |--------img2.jpg\n",
    "                            |--------....(And so on)\n",
    "                |\n",
    "                |---------annotations\n",
    "                            |\n",
    "                            |--------img1.xml\n",
    "                            |--------img2.xml\n",
    "                            |--------....(And so on)"
   ]
  },
  {
   "cell_type": "markdown",
   "metadata": {},
   "source": [
    "# Below code will make the dataset in required format"
   ]
  },
  {
   "cell_type": "markdown",
   "metadata": {},
   "source": [
    "# To convert image from .tiff format to .jpg"
   ]
  },
  {
   "cell_type": "code",
   "execution_count": null,
   "metadata": {},
   "outputs": [],
   "source": [
    "directory=os.listdir('drive/train')"
   ]
  },
  {
   "cell_type": "code",
   "execution_count": null,
   "metadata": {},
   "outputs": [],
   "source": [
    "for i in directory:\n",
    "    with Image(filename ='drive/train/'+i) as img:  \n",
    "        img.format = 'jpeg' \n",
    "        img.save(filename ='drive/folder/'+i.split(\".\")[0]+'.jpg') "
   ]
  },
  {
   "cell_type": "code",
   "execution_count": 2,
   "metadata": {},
   "outputs": [],
   "source": [
    "# To see any image from the dataset\n",
    "img = cv2.imread('drive/folder/DE_BBBR667_2015-04-23_13-43-37-369424_k0.jpg',  \n",
    "                  cv2.IMREAD_GRAYSCALE) "
   ]
  },
  {
   "cell_type": "code",
   "execution_count": 3,
   "metadata": {},
   "outputs": [
    {
     "data": {
      "text/plain": [
       "<matplotlib.image.AxesImage at 0x7f47d594f2b0>"
      ]
     },
     "execution_count": 3,
     "metadata": {},
     "output_type": "execute_result"
    },
    {
     "data": {
      "image/png": "[encoded data removed]",
      "text/plain": [
       "<Figure size 432x288 with 1 Axes>"
      ]
     },
     "metadata": {
      "needs_background": "light"
     },
     "output_type": "display_data"
    }
   ],
   "source": [
    "plt.imshow(img)"
   ]
  },
  {
   "cell_type": "markdown",
   "metadata": {},
   "source": [
    "# To make csv file of ID and Labels"
   ]
  },
  {
   "cell_type": "code",
   "execution_count": null,
   "metadata": {},
   "outputs": [],
   "source": [
    "import os\n",
    "import sys\n",
    "import numpy as np\n",
    "import pandas as pd\n",
    "import yaml\n",
    "import xmltodict\n",
    "import json\n",
    "from tqdm.notebook import tqdm\n",
    "\n",
    "from pycocotools.coco import COCO"
   ]
  },
  {
   "cell_type": "code",
   "execution_count": null,
   "metadata": {},
   "outputs": [],
   "source": [
    "root_dir = \"DTLD/\";\n",
    "img_dir = \"cities/\";\n",
    "anno_dir = \"annotations/\";"
   ]
  },
  {
   "cell_type": "code",
   "execution_count": null,
   "metadata": {},
   "outputs": [],
   "source": [
    "files = os.listdir(root_dir + anno_dir);"
   ]
  },
  {
   "cell_type": "code",
   "execution_count": null,
   "metadata": {},
   "outputs": [],
   "source": [
    "with open('DTLD/annotations/DTLD_all.yml') as f:\n",
    "    config = yaml.safe_load(f) "
   ]
  },
  {
   "cell_type": "code",
   "execution_count": null,
   "metadata": {},
   "outputs": [],
   "source": [
    "config"
   ]
  },
  {
   "cell_type": "code",
   "execution_count": null,
   "metadata": {},
   "outputs": [],
   "source": [
    "config[0]['objects'][0]['class_id']"
   ]
  },
  {
   "cell_type": "code",
   "execution_count": null,
   "metadata": {},
   "outputs": [],
   "source": [
    "a=config[9]['path']"
   ]
  },
  {
   "cell_type": "code",
   "execution_count": null,
   "metadata": {},
   "outputs": [],
   "source": [
    "a.split('/')[-1]"
   ]
  },
  {
   "cell_type": "code",
   "execution_count": null,
   "metadata": {},
   "outputs": [],
   "source": [
    "len(config)"
   ]
  },
  {
   "cell_type": "code",
   "execution_count": null,
   "metadata": {},
   "outputs": [],
   "source": [
    "combined = [];\n",
    "for i in tqdm(range(len(config))):\n",
    "    fname=config[i]['path'].split('/')[-1]\n",
    "    label_str = \"\";\n",
    "    for j in range(len(config[i]['objects'])):\n",
    "        label_id=config[i]['objects'][j]['class_id']\n",
    "        u=str(label_id)\n",
    "        if u[1]=='0' or u[1]=='2':\n",
    "            l='Not_Relevent'\n",
    "        if u[1]=='1' or u[1]=='3':\n",
    "            l='Relevent'\n",
    "        if u[4]=='0':\n",
    "            a=l+'_Off'\n",
    "        if u[4]=='1':\n",
    "            a=l+'_Red'\n",
    "        if u[4]=='2':\n",
    "            a=l+'_Yellow'\n",
    "        if u[4]=='3':\n",
    "            a=l+'_Red_Yellow'\n",
    "        if u[4]=='4':\n",
    "            a=l+'_Green'\n",
    "        if u[5]=='0':\n",
    "            b=a+'_Circle'\n",
    "        if u[5]=='1':\n",
    "            b=a+'_Arrow_Straight'\n",
    "        if u[5]=='2':\n",
    "            b=a+'_Arrow_Left'\n",
    "        if u[5]=='3':\n",
    "            b=a+'_Arrow_Straight_Left'\n",
    "        if u[5]=='4':\n",
    "            b=a+'_Arrow_Right'\n",
    "        if u[5]=='8':\n",
    "            b=a+'_Pedestrian'\n",
    "        if u[5]=='9':\n",
    "            b=a+'_Cyclist'\n",
    "        box=config[i]['objects'][j]\n",
    "        x1=box['x']\n",
    "        x2=box['x']+box['width']\n",
    "        y1=box['y']\n",
    "        y2=box['y']+box['height']\n",
    "        if(j == len(config[i]['objects'])-1):\n",
    "            label_str += str(x1) + \" \" + str(y1) + \" \" + str(x2) + \" \" + str(y2) + \" \" + b;\n",
    "        else:\n",
    "            label_str += str(x1) + \" \" + str(y1) + \" \" + str(x2) + \" \" + str(y2) + \" \" + b + \" \";\n",
    "    combined.append([fname, label_str])\n",
    "    print(fname, label_str)"
   ]
  },
  {
   "cell_type": "code",
   "execution_count": null,
   "metadata": {},
   "outputs": [],
   "source": [
    "df = pd.DataFrame(combined, columns = ['ID', 'Label']);\n",
    "df.to_csv(\"train_labels.csv\", index=False);"
   ]
  },
  {
   "cell_type": "markdown",
   "metadata": {},
   "source": [
    "# To save images in .xml format"
   ]
  },
  {
   "cell_type": "code",
   "execution_count": null,
   "metadata": {},
   "outputs": [],
   "source": [
    "import os\n",
    "import numpy as np \n",
    "import cv2\n",
    "import xml.etree.ElementTree as ET\n",
    "from xml.dom.minidom import parseString\n",
    "from tqdm import tqdm\n",
    "import shutil\n",
    "import json\n",
    "import pandas as pd"
   ]
  },
  {
   "cell_type": "code",
   "execution_count": null,
   "metadata": {},
   "outputs": [],
   "source": [
    "# Provide details on directory in Monk Format\n",
    "root = \"drive/\";\n",
    "img_dir = \"folder/\";\n",
    "anno_file = \"train_labels.csv\";"
   ]
  },
  {
   "cell_type": "code",
   "execution_count": null,
   "metadata": {},
   "outputs": [],
   "source": [
    "dataset_path = root;\n",
    "images_folder = root + \"/\" + img_dir;\n",
    "annotations_path = root + \"/anno/\";"
   ]
  },
  {
   "cell_type": "code",
   "execution_count": null,
   "metadata": {},
   "outputs": [],
   "source": [
    "if not os.path.isdir(annotations_path):\n",
    "    os.mkdir(annotations_path)\n",
    "    \n",
    "input_images_folder = images_folder;\n",
    "input_annotations_path = root + \"/\" + anno_file;"
   ]
  },
  {
   "cell_type": "code",
   "execution_count": null,
   "metadata": {},
   "outputs": [],
   "source": [
    "img_dir = \"drive/folder/\";\n",
    "anno_file = \"drive/train_labels3.csv\";"
   ]
  },
  {
   "cell_type": "code",
   "execution_count": null,
   "metadata": {},
   "outputs": [],
   "source": [
    "output_dir = \"drive/voc\";\n",
    "\n",
    "import os\n",
    "if(not os.path.isdir(output_dir)):\n",
    "    os.mkdir(output_dir)"
   ]
  },
  {
   "cell_type": "code",
   "execution_count": null,
   "metadata": {},
   "outputs": [],
   "source": [
    "df = pd.read_csv(anno_file);"
   ]
  },
  {
   "cell_type": "code",
   "execution_count": null,
   "metadata": {},
   "outputs": [],
   "source": [
    "columns = df.columns"
   ]
  },
  {
   "cell_type": "code",
   "execution_count": null,
   "metadata": {},
   "outputs": [],
   "source": [
    "! pip install numpy pascal-voc-writer pandas opencv-python tqdm"
   ]
  },
  {
   "cell_type": "code",
   "execution_count": null,
   "metadata": {},
   "outputs": [],
   "source": [
    "from pascal_voc_writer import Writer"
   ]
  },
  {
   "cell_type": "code",
   "execution_count": null,
   "metadata": {},
   "outputs": [],
   "source": [
    "for i in tqdm(range(len(df))):\n",
    "    img_name = df[columns[0]][i];\n",
    "    labels = df[columns[1]][i].split(\" \");\n",
    "    img = cv2.imread(\"drive/folder/\" + img_name)\n",
    "    h, w, c = img.shape;\n",
    "    writer = Writer(img_name, w, h)\n",
    "    for j in range(len(labels)//5):\n",
    "        x1 = labels[j*5+0]\n",
    "        y1 = labels[j*5+1]\n",
    "        x2 = labels[j*5+2]\n",
    "        y2 = labels[j*5+3]\n",
    "        label = labels[j*5+4]\n",
    "        writer.addObject(label, x1, y1, x2, y2);\n",
    "    \n",
    "    writer.save(output_dir + \"/\" + img_name.split(\".\")[0] + \".xml\")"
   ]
  },
  {
   "cell_type": "markdown",
   "metadata": {},
   "source": [
    "#  Run training"
   ]
  },
  {
   "cell_type": "code",
   "execution_count": 2,
   "metadata": {},
   "outputs": [],
   "source": [
    "import os\n",
    "import sys\n",
    "sys.path.append(\"Monk_Object_Detection/12_tf_obj_1/lib/\")"
   ]
  },
  {
   "cell_type": "code",
   "execution_count": 3,
   "metadata": {},
   "outputs": [],
   "source": [
    "import tensorflow as tf\n",
    "from train_detector import Detector"
   ]
  },
  {
   "cell_type": "code",
   "execution_count": 12,
   "metadata": {},
   "outputs": [
    {
     "name": "stdout",
     "output_type": "stream",
     "text": [
      "1.15.0\n"
     ]
    }
   ],
   "source": [
    "print(tf.__version__)"
   ]
  },
  {
   "cell_type": "code",
   "execution_count": 4,
   "metadata": {},
   "outputs": [],
   "source": [
    "gtf = Detector();"
   ]
  },
  {
   "cell_type": "code",
   "execution_count": 5,
   "metadata": {},
   "outputs": [
    {
     "name": "stdout",
     "output_type": "stream",
     "text": [
      "1. Model Name: ssd_mobilenet_v1\n",
      "2. Model Name: ssd_mobilenet_v2\n",
      "3. Model Name: ssd_mobilenet_v1_ppn\n",
      "4. Model Name: ssd_mobilenet_v1_fpn\n",
      "5. Model Name: ssd_resnet50_v1_fpn\n",
      "6. Model Name: ssd_mobilenet_v1_0.75_depth\n",
      "7. Model Name: ssd_mobilenet_v1_quantized\n",
      "8. Model Name: ssd_mobilenet_v1_0.75_depth_quantized\n",
      "9. Model Name: ssd_mobilenet_v2_quantized\n",
      "10. Model Name: ssdlite_mobilenet_v2\n",
      "11. Model Name: ssd_inception_v2\n",
      "12. Model Name: faster_rcnn_inception_v2\n",
      "13. Model Name: faster_rcnn_resnet50\n",
      "14. Model Name: faster_rcnn_resnet50_lowproposals\n",
      "15. Model Name: rfcn_resnet101\n",
      "16. Model Name: faster_rcnn_resnet101\n",
      "17. Model Name: faster_rcnn_resnet101_lowproposals\n",
      "18. Model Name: faster_rcnn_inception_resnet_v2_atrous\n",
      "19. Model Name: faster_rcnn_inception_resnet_v2_atrous_lowproposals\n",
      "20. Model Name: faster_rcnn_nas\n",
      "21. Model Name: faster_rcnn_nas_lowproposals\n",
      "22. Model Name: ssd_mobilenet_v2_mnasfpn\n",
      "23. Model Name: ssd_mobilenet_v3_large\n",
      "24. Model Name: ssd_mobilenet_v3_small\n"
     ]
    }
   ],
   "source": [
    "gtf.list_models();"
   ]
  },
  {
   "cell_type": "code",
   "execution_count": 5,
   "metadata": {},
   "outputs": [],
   "source": [
    "train_img_dir = \"drive/folder\";\n",
    "train_anno_dir = \"drive/voc/\";\n",
    "class_list_file = \"drive/anno/annotations/classes.txt\";\n",
    "\n",
    "gtf.set_train_dataset(train_img_dir, train_anno_dir, class_list_file, batch_size=24, trainval_split = 0.8)"
   ]
  },
  {
   "cell_type": "code",
   "execution_count": 6,
   "metadata": {},
   "outputs": [
    {
     "name": "stdout",
     "output_type": "stream",
     "text": [
      "Training tfrecord already present at data_tfrecord/train.record.\n",
      "Validation tfrecord already present at data_tfrecord/val.record.\n"
     ]
    }
   ],
   "source": [
    "# Create tf record\n",
    "gtf.create_tfrecord(data_output_dir=\"data_tfrecord\")"
   ]
  },
  {
   "cell_type": "code",
   "execution_count": null,
   "metadata": {},
   "outputs": [],
   "source": [
    "# Model and hyper params"
   ]
  },
  {
   "cell_type": "code",
   "execution_count": 7,
   "metadata": {},
   "outputs": [
    {
     "name": "stdout",
     "output_type": "stream",
     "text": [
      "Downloading Model\n",
      "Model Download\n",
      "Model name set as ssd_mobilenet_v2_coco_2018_03_29\n"
     ]
    }
   ],
   "source": [
    "gtf.set_model_params(model_name=\"ssd_mobilenet_v2\")"
   ]
  },
  {
   "cell_type": "code",
   "execution_count": 8,
   "metadata": {},
   "outputs": [],
   "source": [
    "gtf.set_hyper_params(num_train_steps=10000, lr=0.01)"
   ]
  },
  {
   "cell_type": "code",
   "execution_count": 9,
   "metadata": {},
   "outputs": [],
   "source": [
    "# Directory to store inference graph\n",
    "gtf.export_params(output_directory=\"export_dir\");"
   ]
  },
  {
   "cell_type": "code",
   "execution_count": null,
   "metadata": {},
   "outputs": [],
   "source": [
    "# training\n",
    "# tf.app.run() executes sys.exit() function hence cannot run in a jupyter notebook directory\n",
    "# Run in a terminal - python Monk_Object_Detection/12_tf_obj_1/lib/train.py\n",
    "# or\n",
    "# Run the following command from notebook"
   ]
  },
  {
   "cell_type": "code",
   "execution_count": null,
   "metadata": {},
   "outputs": [
    {
     "name": "stdout",
     "output_type": "stream",
     "text": [
      "WARNING:tensorflow:Forced number of epochs for all eval validations to be 1.\n"
     ]
    },
    {
     "name": "stderr",
     "output_type": "stream",
     "text": [
      "W0914 06:35:13.199035 140014849750848 model_lib.py:758] Forced number of epochs for all eval validations to be 1.\n"
     ]
    },
    {
     "name": "stdout",
     "output_type": "stream",
     "text": [
      "INFO:tensorflow:Maybe overwriting train_steps: 10000\n"
     ]
    },
    {
     "name": "stderr",
     "output_type": "stream",
     "text": [
      "I0914 06:35:13.200528 140014849750848 config_util.py:552] Maybe overwriting train_steps: 10000\n"
     ]
    },
    {
     "name": "stdout",
     "output_type": "stream",
     "text": [
      "INFO:tensorflow:Maybe overwriting use_bfloat16: False\n"
     ]
    },
    {
     "name": "stderr",
     "output_type": "stream",
     "text": [
      "I0914 06:35:13.201534 140014849750848 config_util.py:552] Maybe overwriting use_bfloat16: False\n"
     ]
    },
    {
     "name": "stdout",
     "output_type": "stream",
     "text": [
      "INFO:tensorflow:Maybe overwriting sample_1_of_n_eval_examples: 1\n"
     ]
    },
    {
     "name": "stderr",
     "output_type": "stream",
     "text": [
      "I0914 06:35:13.202507 140014849750848 config_util.py:552] Maybe overwriting sample_1_of_n_eval_examples: 1\n"
     ]
    },
    {
     "name": "stdout",
     "output_type": "stream",
     "text": [
      "INFO:tensorflow:Maybe overwriting eval_num_epochs: 1\n"
     ]
    },
    {
     "name": "stderr",
     "output_type": "stream",
     "text": [
      "I0914 06:35:13.203465 140014849750848 config_util.py:552] Maybe overwriting eval_num_epochs: 1\n"
     ]
    },
    {
     "name": "stdout",
     "output_type": "stream",
     "text": [
      "WARNING:tensorflow:Expected number of evaluation epochs is 1, but instead encountered `eval_on_train_input_config.num_epochs` = 0. Overwriting `num_epochs` to 1.\n"
     ]
    },
    {
     "name": "stderr",
     "output_type": "stream",
     "text": [
      "W0914 06:35:13.204496 140014849750848 model_lib.py:774] Expected number of evaluation epochs is 1, but instead encountered `eval_on_train_input_config.num_epochs` = 0. Overwriting `num_epochs` to 1.\n"
     ]
    },
    {
     "name": "stdout",
     "output_type": "stream",
     "text": [
      "INFO:tensorflow:create_estimator_and_inputs: use_tpu False, export_to_tpu None\n"
     ]
    },
    {
     "name": "stderr",
     "output_type": "stream",
     "text": [
      "I0914 06:35:13.207655 140014849750848 model_lib.py:809] create_estimator_and_inputs: use_tpu False, export_to_tpu None\n"
     ]
    },
    {
     "name": "stdout",
     "output_type": "stream",
     "text": [
      "INFO:tensorflow:Using config: {'_model_dir': 'output_dir/', '_tf_random_seed': None, '_save_summary_steps': 100, '_save_checkpoints_steps': None, '_save_checkpoints_secs': 600, '_session_config': allow_soft_placement: true\n",
      "graph_options {\n",
      "  rewrite_options {\n",
      "    meta_optimizer_iterations: ONE\n",
      "  }\n",
      "}\n",
      ", '_keep_checkpoint_max': 5, '_keep_checkpoint_every_n_hours': 10000, '_log_step_count_steps': 100, '_train_distribute': None, '_device_fn': None, '_protocol': None, '_eval_distribute': None, '_experimental_distribute': None, '_experimental_max_worker_delay_secs': None, '_session_creation_timeout_secs': 7200, '_service': None, '_cluster_spec': <tensorflow.python.training.server_lib.ClusterSpec object at 0x7f570d3826a0>, '_task_type': 'worker', '_task_id': 0, '_global_id_in_cluster': 0, '_master': '', '_evaluation_master': '', '_is_chief': True, '_num_ps_replicas': 0, '_num_worker_replicas': 1}\n"
     ]
    },
    {
     "name": "stderr",
     "output_type": "stream",
     "text": [
      "I0914 06:35:13.209074 140014849750848 estimator.py:212] Using config: {'_model_dir': 'output_dir/', '_tf_random_seed': None, '_save_summary_steps': 100, '_save_checkpoints_steps': None, '_save_checkpoints_secs': 600, '_session_config': allow_soft_placement: true\n",
      "graph_options {\n",
      "  rewrite_options {\n",
      "    meta_optimizer_iterations: ONE\n",
      "  }\n",
      "}\n",
      ", '_keep_checkpoint_max': 5, '_keep_checkpoint_every_n_hours': 10000, '_log_step_count_steps': 100, '_train_distribute': None, '_device_fn': None, '_protocol': None, '_eval_distribute': None, '_experimental_distribute': None, '_experimental_max_worker_delay_secs': None, '_session_creation_timeout_secs': 7200, '_service': None, '_cluster_spec': <tensorflow.python.training.server_lib.ClusterSpec object at 0x7f570d3826a0>, '_task_type': 'worker', '_task_id': 0, '_global_id_in_cluster': 0, '_master': '', '_evaluation_master': '', '_is_chief': True, '_num_ps_replicas': 0, '_num_worker_replicas': 1}\n"
     ]
    },
    {
     "name": "stdout",
     "output_type": "stream",
     "text": [
      "WARNING:tensorflow:Estimator's model_fn (<function create_model_fn.<locals>.model_fn at 0x7f570d388840>) includes params argument, but params are not passed to Estimator.\n"
     ]
    },
    {
     "name": "stderr",
     "output_type": "stream",
     "text": [
      "W0914 06:35:13.212046 140014849750848 model_fn.py:630] Estimator's model_fn (<function create_model_fn.<locals>.model_fn at 0x7f570d388840>) includes params argument, but params are not passed to Estimator.\n"
     ]
    },
    {
     "name": "stdout",
     "output_type": "stream",
     "text": [
      "INFO:tensorflow:Not using Distribute Coordinator.\n"
     ]
    },
    {
     "name": "stderr",
     "output_type": "stream",
     "text": [
      "I0914 06:35:13.213791 140014849750848 estimator_training.py:186] Not using Distribute Coordinator.\n"
     ]
    },
    {
     "name": "stdout",
     "output_type": "stream",
     "text": [
      "INFO:tensorflow:Running training and evaluation locally (non-distributed).\n"
     ]
    },
    {
     "name": "stderr",
     "output_type": "stream",
     "text": [
      "I0914 06:35:13.214877 140014849750848 training.py:612] Running training and evaluation locally (non-distributed).\n"
     ]
    },
    {
     "name": "stdout",
     "output_type": "stream",
     "text": [
      "INFO:tensorflow:Start train and evaluate loop. The evaluate will happen after every checkpoint. Checkpoint frequency is determined based on RunConfig arguments: save_checkpoints_steps None or save_checkpoints_secs 600.\n"
     ]
    },
    {
     "name": "stderr",
     "output_type": "stream",
     "text": [
      "I0914 06:35:13.215997 140014849750848 training.py:700] Start train and evaluate loop. The evaluate will happen after every checkpoint. Checkpoint frequency is determined based on RunConfig arguments: save_checkpoints_steps None or save_checkpoints_secs 600.\n"
     ]
    },
    {
     "name": "stdout",
     "output_type": "stream",
     "text": [
      "WARNING:tensorflow:From /home/ubuntu/.virtualenvs/my_venv/lib/python3.6/site-packages/tensorflow_core/python/training/training_util.py:236: Variable.initialized_value (from tensorflow.python.ops.variables) is deprecated and will be removed in a future version.\n",
      "Instructions for updating:\n",
      "Use Variable.read_value. Variables in 2.X are initialized automatically both in eager and graph (inside tf.defun) contexts.\n"
     ]
    },
    {
     "name": "stderr",
     "output_type": "stream",
     "text": [
      "W0914 06:35:13.226799 140014849750848 deprecation.py:323] From /home/ubuntu/.virtualenvs/my_venv/lib/python3.6/site-packages/tensorflow_core/python/training/training_util.py:236: Variable.initialized_value (from tensorflow.python.ops.variables) is deprecated and will be removed in a future version.\n",
      "Instructions for updating:\n",
      "Use Variable.read_value. Variables in 2.X are initialized automatically both in eager and graph (inside tf.defun) contexts.\n"
     ]
    },
    {
     "name": "stdout",
     "output_type": "stream",
     "text": [
      "WARNING:tensorflow:num_readers has been reduced to 1 to match input file shards.\n"
     ]
    },
    {
     "name": "stderr",
     "output_type": "stream",
     "text": [
      "W0914 06:35:13.282764 140014849750848 dataset_builder.py:83] num_readers has been reduced to 1 to match input file shards.\n"
     ]
    },
    {
     "name": "stdout",
     "output_type": "stream",
     "text": [
      "WARNING:tensorflow:From /home/ubuntu/.virtualenvs/my_venv/lib/python3.6/site-packages/object_detection/builders/dataset_builder.py:100: parallel_interleave (from tensorflow.python.data.experimental.ops.interleave_ops) is deprecated and will be removed in a future version.\n",
      "Instructions for updating:\n",
      "Use `tf.data.Dataset.interleave(map_func, cycle_length, block_length, num_parallel_calls=tf.data.experimental.AUTOTUNE)` instead. If sloppy execution is desired, use `tf.data.Options.experimental_determinstic`.\n"
     ]
    },
    {
     "name": "stderr",
     "output_type": "stream",
     "text": [
      "W0914 06:35:13.290422 140014849750848 deprecation.py:323] From /home/ubuntu/.virtualenvs/my_venv/lib/python3.6/site-packages/object_detection/builders/dataset_builder.py:100: parallel_interleave (from tensorflow.python.data.experimental.ops.interleave_ops) is deprecated and will be removed in a future version.\n",
      "Instructions for updating:\n",
      "Use `tf.data.Dataset.interleave(map_func, cycle_length, block_length, num_parallel_calls=tf.data.experimental.AUTOTUNE)` instead. If sloppy execution is desired, use `tf.data.Options.experimental_determinstic`.\n"
     ]
    },
    {
     "name": "stdout",
     "output_type": "stream",
     "text": [
      "WARNING:tensorflow:From /home/ubuntu/.virtualenvs/my_venv/lib/python3.6/site-packages/object_detection/builders/dataset_builder.py:175: DatasetV1.map_with_legacy_function (from tensorflow.python.data.ops.dataset_ops) is deprecated and will be removed in a future version.\n",
      "Instructions for updating:\n",
      "Use `tf.data.Dataset.map()\n"
     ]
    },
    {
     "name": "stderr",
     "output_type": "stream",
     "text": [
      "W0914 06:35:13.321895 140014849750848 deprecation.py:323] From /home/ubuntu/.virtualenvs/my_venv/lib/python3.6/site-packages/object_detection/builders/dataset_builder.py:175: DatasetV1.map_with_legacy_function (from tensorflow.python.data.ops.dataset_ops) is deprecated and will be removed in a future version.\n",
      "Instructions for updating:\n",
      "Use `tf.data.Dataset.map()\n"
     ]
    },
    {
     "name": "stdout",
     "output_type": "stream",
     "text": [
      "WARNING:tensorflow:From /home/ubuntu/.virtualenvs/my_venv/lib/python3.6/site-packages/object_detection/inputs.py:77: sparse_to_dense (from tensorflow.python.ops.sparse_ops) is deprecated and will be removed in a future version.\n",
      "Instructions for updating:\n",
      "Create a `tf.sparse.SparseTensor` and use `tf.sparse.to_dense` instead.\n"
     ]
    },
    {
     "name": "stderr",
     "output_type": "stream",
     "text": [
      "W0914 06:35:26.946794 140014849750848 deprecation.py:323] From /home/ubuntu/.virtualenvs/my_venv/lib/python3.6/site-packages/object_detection/inputs.py:77: sparse_to_dense (from tensorflow.python.ops.sparse_ops) is deprecated and will be removed in a future version.\n",
      "Instructions for updating:\n",
      "Create a `tf.sparse.SparseTensor` and use `tf.sparse.to_dense` instead.\n"
     ]
    },
    {
     "name": "stdout",
     "output_type": "stream",
     "text": [
      "WARNING:tensorflow:From /home/ubuntu/.virtualenvs/my_venv/lib/python3.6/site-packages/object_detection/utils/ops.py:493: where (from tensorflow.python.ops.array_ops) is deprecated and will be removed in a future version.\n",
      "Instructions for updating:\n",
      "Use tf.where in 2.0, which has the same broadcast rule as np.where\n"
     ]
    },
    {
     "name": "stderr",
     "output_type": "stream",
     "text": [
      "W0914 06:35:27.072777 140014849750848 deprecation.py:323] From /home/ubuntu/.virtualenvs/my_venv/lib/python3.6/site-packages/object_detection/utils/ops.py:493: where (from tensorflow.python.ops.array_ops) is deprecated and will be removed in a future version.\n",
      "Instructions for updating:\n",
      "Use tf.where in 2.0, which has the same broadcast rule as np.where\n"
     ]
    },
    {
     "name": "stdout",
     "output_type": "stream",
     "text": [
      "WARNING:tensorflow:From /home/ubuntu/.virtualenvs/my_venv/lib/python3.6/site-packages/tensorflow_core/python/autograph/operators/control_flow.py:1004: sample_distorted_bounding_box (from tensorflow.python.ops.image_ops_impl) is deprecated and will be removed in a future version.\n",
      "Instructions for updating:\n",
      "`seed2` arg is deprecated.Use sample_distorted_bounding_box_v2 instead.\n"
     ]
    },
    {
     "name": "stderr",
     "output_type": "stream",
     "text": [
      "W0914 06:35:34.876384 140014849750848 api.py:332] From /home/ubuntu/.virtualenvs/my_venv/lib/python3.6/site-packages/tensorflow_core/python/autograph/operators/control_flow.py:1004: sample_distorted_bounding_box (from tensorflow.python.ops.image_ops_impl) is deprecated and will be removed in a future version.\n",
      "Instructions for updating:\n",
      "`seed2` arg is deprecated.Use sample_distorted_bounding_box_v2 instead.\n"
     ]
    },
    {
     "name": "stdout",
     "output_type": "stream",
     "text": [
      "WARNING:tensorflow:From /home/ubuntu/.virtualenvs/my_venv/lib/python3.6/site-packages/object_detection/inputs.py:259: to_float (from tensorflow.python.ops.math_ops) is deprecated and will be removed in a future version.\n",
      "Instructions for updating:\n",
      "Use `tf.cast` instead.\n"
     ]
    },
    {
     "name": "stderr",
     "output_type": "stream",
     "text": [
      "W0914 06:35:39.315591 140014849750848 deprecation.py:323] From /home/ubuntu/.virtualenvs/my_venv/lib/python3.6/site-packages/object_detection/inputs.py:259: to_float (from tensorflow.python.ops.math_ops) is deprecated and will be removed in a future version.\n",
      "Instructions for updating:\n",
      "Use `tf.cast` instead.\n"
     ]
    },
    {
     "name": "stdout",
     "output_type": "stream",
     "text": [
      "INFO:tensorflow:Calling model_fn.\n"
     ]
    },
    {
     "name": "stderr",
     "output_type": "stream",
     "text": [
      "I0914 06:35:43.307528 140014849750848 estimator.py:1148] Calling model_fn.\n"
     ]
    },
    {
     "name": "stdout",
     "output_type": "stream",
     "text": [
      "WARNING:tensorflow:From /home/ubuntu/.virtualenvs/my_venv/lib/python3.6/site-packages/tf_slim/layers/layers.py:1089: Layer.apply (from tensorflow.python.keras.engine.base_layer) is deprecated and will be removed in a future version.\n",
      "Instructions for updating:\n",
      "Please use `layer.__call__` method instead.\n"
     ]
    },
    {
     "name": "stderr",
     "output_type": "stream",
     "text": [
      "W0914 06:35:43.895477 140014849750848 deprecation.py:323] From /home/ubuntu/.virtualenvs/my_venv/lib/python3.6/site-packages/tf_slim/layers/layers.py:1089: Layer.apply (from tensorflow.python.keras.engine.base_layer) is deprecated and will be removed in a future version.\n",
      "Instructions for updating:\n",
      "Please use `layer.__call__` method instead.\n"
     ]
    },
    {
     "name": "stdout",
     "output_type": "stream",
     "text": [
      "INFO:tensorflow:depth of additional conv before box predictor: 0\n"
     ]
    },
    {
     "name": "stderr",
     "output_type": "stream",
     "text": [
      "I0914 06:35:47.150138 140014849750848 convolutional_box_predictor.py:156] depth of additional conv before box predictor: 0\n"
     ]
    },
    {
     "name": "stdout",
     "output_type": "stream",
     "text": [
      "INFO:tensorflow:depth of additional conv before box predictor: 0\n"
     ]
    },
    {
     "name": "stderr",
     "output_type": "stream",
     "text": [
      "I0914 06:35:47.188789 140014849750848 convolutional_box_predictor.py:156] depth of additional conv before box predictor: 0\n"
     ]
    },
    {
     "name": "stdout",
     "output_type": "stream",
     "text": [
      "INFO:tensorflow:depth of additional conv before box predictor: 0\n"
     ]
    },
    {
     "name": "stderr",
     "output_type": "stream",
     "text": [
      "I0914 06:35:47.229307 140014849750848 convolutional_box_predictor.py:156] depth of additional conv before box predictor: 0\n"
     ]
    },
    {
     "name": "stdout",
     "output_type": "stream",
     "text": [
      "INFO:tensorflow:depth of additional conv before box predictor: 0\n"
     ]
    },
    {
     "name": "stderr",
     "output_type": "stream",
     "text": [
      "I0914 06:35:47.269501 140014849750848 convolutional_box_predictor.py:156] depth of additional conv before box predictor: 0\n"
     ]
    },
    {
     "name": "stdout",
     "output_type": "stream",
     "text": [
      "INFO:tensorflow:depth of additional conv before box predictor: 0\n"
     ]
    },
    {
     "name": "stderr",
     "output_type": "stream",
     "text": [
      "I0914 06:35:47.309513 140014849750848 convolutional_box_predictor.py:156] depth of additional conv before box predictor: 0\n"
     ]
    },
    {
     "name": "stdout",
     "output_type": "stream",
     "text": [
      "INFO:tensorflow:depth of additional conv before box predictor: 0\n"
     ]
    },
    {
     "name": "stderr",
     "output_type": "stream",
     "text": [
      "I0914 06:35:47.349305 140014849750848 convolutional_box_predictor.py:156] depth of additional conv before box predictor: 0\n"
     ]
    },
    {
     "name": "stdout",
     "output_type": "stream",
     "text": [
      "WARNING:tensorflow:From /home/ubuntu/.virtualenvs/my_venv/lib/python3.6/site-packages/tensorflow_core/python/training/rmsprop.py:119: calling Ones.__init__ (from tensorflow.python.ops.init_ops) with dtype is deprecated and will be removed in a future version.\n",
      "Instructions for updating:\n",
      "Call initializer instance with the dtype argument instead of passing it to the constructor\n"
     ]
    }
   ],
   "source": [
    "%run Monk_Object_Detection/12_tf_obj_1/lib/train.py"
   ]
  },
  {
   "cell_type": "code",
   "execution_count": null,
   "metadata": {},
   "outputs": [],
   "source": [
    "# exportaing trained model\n",
    "# tf.app.run() executes sys.exit() function hence cannot run in a jupyter notebook directory\n",
    "# Run in a terminal - python Monk_Object_Detection/12_tf_obj_1/lib/export.py\n",
    "# or\n",
    "# Run the following command from notebook"
   ]
  },
  {
   "cell_type": "code",
   "execution_count": null,
   "metadata": {},
   "outputs": [],
   "source": [
    "%run Monk_Object_Detection/12_tf_obj_1/lib/export.py"
   ]
  },
  {
   "cell_type": "markdown",
   "metadata": {},
   "source": [
    "# Inference"
   ]
  },
  {
   "cell_type": "code",
   "execution_count": null,
   "metadata": {},
   "outputs": [],
   "source": [
    "from infer_detector import Infer"
   ]
  },
  {
   "cell_type": "code",
   "execution_count": null,
   "metadata": {},
   "outputs": [],
   "source": [
    "gtf = Infer();"
   ]
  },
  {
   "cell_type": "code",
   "execution_count": null,
   "metadata": {},
   "outputs": [],
   "source": [
    "gtf.set_model_params('export_dir/frozen_inference_graph.pb', \"drive/anno/annotations/classes.txt\")"
   ]
  },
  {
   "cell_type": "code",
   "execution_count": null,
   "metadata": {},
   "outputs": [],
   "source": [
    "scores, bboxes, labels = gtf.infer_on_image('test/DE_BBBR667_2015-04-23_13-43-37-369424_k0.jpg', thresh=0.1, \n",
    "                                            bbox_thickness=3, text_size=2, text_thickness=4);\n",
    "from IPython.display import Image\n",
    "Image(filename='output.png')"
   ]
  },
  {
   "cell_type": "code",
   "execution_count": null,
   "metadata": {},
   "outputs": [],
   "source": []
  },
  {
   "cell_type": "code",
   "execution_count": null,
   "metadata": {},
   "outputs": [],
   "source": []
  },
  {
   "cell_type": "code",
   "execution_count": null,
   "metadata": {},
   "outputs": [],
   "source": []
  }
 ],
 "metadata": {
  "kernelspec": {
   "display_name": "Python 3",
   "language": "python",
   "name": "python3"
  },
  "language_info": {
   "codemirror_mode": {
    "name": "ipython",
    "version": 3
   },
   "file_extension": ".py",
   "mimetype": "text/x-python",
   "name": "python",
   "nbconvert_exporter": "python",
   "pygments_lexer": "ipython3",
   "version": "3.7.3"
  }
 },
 "nbformat": 4,
 "nbformat_minor": 4
}
