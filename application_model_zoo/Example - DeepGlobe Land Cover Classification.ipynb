{
 "cells": [
  {
   "cell_type": "markdown",
   "metadata": {
    "id": "ZWWi_KJjh_lv"
   },
   "source": [
    "<a href=\"https://colab.research.google.com/github/Tessellate-Imaging/Monk_Object_Detection/blob/master/application_model_zoo/Example%20-%20DeepGlobe%20Land%20Cover%20Classification.ipynb\" target=\"_parent\"><img src=\"https://colab.research.google.com/assets/colab-badge.svg\" alt=\"Open In Colab\"/></a>"
   ]
  },
  {
   "cell_type": "code",
   "execution_count": null,
   "metadata": {
    "id": "LqINMOiph_l-"
   },
   "outputs": [],
   "source": []
  },
  {
   "cell_type": "markdown",
   "metadata": {
    "id": "KLm9TC_wh_mK"
   },
   "source": [
    "# Table of contents\n",
    "\n",
    "\n",
    "## 1. Installation Instructions\n",
    "\n",
    "\n",
    "\n",
    "## 2. How to train a custom segmenter to detect land cover usage type in satellite images"
   ]
  },
  {
   "cell_type": "code",
   "execution_count": null,
   "metadata": {
    "id": "0oWv29MDh_mL"
   },
   "outputs": [],
   "source": []
  },
  {
   "cell_type": "code",
   "execution_count": null,
   "metadata": {
    "id": "7NHE45Imh_mT"
   },
   "outputs": [],
   "source": []
  },
  {
   "cell_type": "code",
   "execution_count": null,
   "metadata": {
    "id": "N2DjQc1Rh_ma"
   },
   "outputs": [],
   "source": []
  },
  {
   "cell_type": "markdown",
   "metadata": {
    "id": "uEaD6Msnh_mi"
   },
   "source": [
    "# About the networks\n",
    "\n",
    "\n",
    "1. UNet\n",
    "  - https://arxiv.org/abs/1505.04597\n",
    "  - https://towardsdatascience.com/understanding-semantic-segmentation-with-unet-6be4f42d4b47\n",
    "  - https://towardsdatascience.com/unet-line-by-line-explanation-9b191c76baf5\n",
    "\n",
    "\n",
    "2. FPN\n",
    "  - http://openaccess.thecvf.com/content_cvpr_2017/papers/Lin_Feature_Pyramid_Networks_CVPR_2017_paper.pdf\n",
    "  - https://towardsdatascience.com/review-fpn-feature-pyramid-network-object-detection-262fc7482610\n",
    "  - https://medium.com/@jonathan_hui/understanding-feature-pyramid-networks-for-object-detection-fpn-45b227b9106c\n",
    "\n",
    "\n",
    "3. PSPNet\n",
    "  - https://arxiv.org/abs/1612.01105\n",
    "  - https://towardsdatascience.com/review-pspnet-winner-in-ilsvrc-2016-semantic-segmentation-scene-parsing-e089e5df177d\n",
    "  - https://developers.arcgis.com/python/guide/how-pspnet-works/\n",
    "\n",
    "\n",
    "4. Linknet\n",
    "  - https://arxiv.org/pdf/1707.03718.pdf\n",
    "  - https://neptune.ai/blog/image-segmentation-tips-and-tricks-from-kaggle-competitions"
   ]
  },
  {
   "cell_type": "code",
   "execution_count": null,
   "metadata": {
    "id": "Jytig3Xyh_mk"
   },
   "outputs": [],
   "source": []
  },
  {
   "cell_type": "code",
   "execution_count": null,
   "metadata": {
    "id": "r-_kMi1Ph_mq"
   },
   "outputs": [],
   "source": []
  },
  {
   "cell_type": "code",
   "execution_count": null,
   "metadata": {
    "id": "-UudXowqh_mw"
   },
   "outputs": [],
   "source": []
  },
  {
   "cell_type": "code",
   "execution_count": null,
   "metadata": {
    "id": "oHBFZi91h_m3"
   },
   "outputs": [],
   "source": []
  },
  {
   "cell_type": "markdown",
   "metadata": {
    "id": "9dUAAZOwh_m-"
   },
   "source": [
    "# Installation\n",
    "\n",
    " - Run these commands\n",
    "     \n",
    "     - git clone https://github.com/Tessellate-Imaging/Monk_Object_Detection.git\n",
    "     \n",
    "     - cd Monk_Object_Detection/9_segmentation_models/installation\n",
    "     \n",
    " - Select the right requirements file and run\n",
    " \n",
    "     - cat requirements_cuda9.0.txt | xargs -n 1 -L 1 pip install"
   ]
  },
  {
   "cell_type": "code",
   "execution_count": null,
   "metadata": {
    "id": "w1r6ySCrh_m-"
   },
   "outputs": [],
   "source": [
    "! git clone https://github.com/Tessellate-Imaging/Monk_Object_Detection.git"
   ]
  },
  {
   "cell_type": "code",
   "execution_count": null,
   "metadata": {
    "id": "mm9XvE8Oh_nF"
   },
   "outputs": [],
   "source": [
    "# For colab use the command below\n",
    "! cd Monk_Object_Detection/9_segmentation_models/installation && cat requirements_colab.txt | xargs -n 1 -L 1 pip install\n",
    "\n",
    "\n",
    "# For Local systems and cloud select the right CUDA version\n",
    "#! cd Monk_Object_Detection/9_segmentation_models/installation && cat requirements_cuda10.0.txt | xargs -n 1 -L 1 pip install"
   ]
  },
  {
   "cell_type": "code",
   "execution_count": null,
   "metadata": {
    "id": "FHSijOiSh_nN"
   },
   "outputs": [],
   "source": []
  },
  {
   "cell_type": "code",
   "execution_count": null,
   "metadata": {
    "id": "RhAwP4R9h_nV"
   },
   "outputs": [],
   "source": []
  },
  {
   "cell_type": "markdown",
   "metadata": {
    "id": "YTClt2JFh_qG"
   },
   "source": [
    "# Train you own detector"
   ]
  },
  {
   "cell_type": "code",
   "execution_count": null,
   "metadata": {
    "id": "YqEVYFy7h_qG"
   },
   "outputs": [],
   "source": []
  },
  {
   "cell_type": "markdown",
   "metadata": {
    "id": "ASI6Hmq_h_qI"
   },
   "source": [
    "# Monk Format\n",
    "\n",
    "## Dataset Directory Structure\n",
    "\n",
    "      root_dir\n",
    "          |\n",
    "          | \n",
    "          |         \n",
    "          |----train_img_dir\n",
    "          |       |\n",
    "          |       |---------img1.jpg\n",
    "          |       |---------img2.jpg\n",
    "          |                |---------..........(and so on) \n",
    "          |\n",
    "          |----train_mask_dir\n",
    "          |       |\n",
    "          |       |---------img1.jpg\n",
    "          |       |---------img2.jpg\n",
    "          |                |---------..........(and so on)\n",
    "          |\n",
    "          |----val_img_dir (optional)\n",
    "          |       |\n",
    "          |       |---------img1.jpg\n",
    "          |       |---------img2.jpg\n",
    "          |                |---------..........(and so on)\n",
    "          |\n",
    "          |----val_mask_dir (optional)\n",
    "          |       |\n",
    "          |       |---------img1.jpg\n",
    "          |       |---------img2.jpg\n",
    "          |                |---------..........(and so on)\n",
    "\n",
    "          \n",
    "          "
   ]
  },
  {
   "cell_type": "code",
   "execution_count": null,
   "metadata": {
    "id": "nWp6N6J3h_qJ"
   },
   "outputs": [],
   "source": []
  },
  {
   "cell_type": "code",
   "execution_count": null,
   "metadata": {
    "id": "WRi9u7EOh_qL"
   },
   "outputs": [],
   "source": []
  },
  {
   "cell_type": "markdown",
   "metadata": {
    "id": "kh7Gisz5h_qM"
   },
   "source": [
    "# Sample Dataset Credits\n",
    "\n",
    "    credits: https://competitions.codalab.org/competitions/18468"
   ]
  },
  {
   "cell_type": "code",
   "execution_count": null,
   "metadata": {
    "id": "xk_AqsP9h_qN"
   },
   "outputs": [],
   "source": [
    "! wget https://competitions.codalab.org/my/datasets/download/b6def20d-34c5-4871-8d9d-d97075179ea0 -O land-train.zip\n",
    "! wget https://competitions.codalab.org/my/datasets/download/dfb325b3-4e9c-43c0-93b3-036eec5fa773 -O land_valid_sat.zip \n",
    "! wget https://competitions.codalab.org/my/datasets/download/61ac1b46-9bd3-4694-810f-ffd08a7f832a -O land_test_sat.zip "
   ]
  },
  {
   "cell_type": "code",
   "execution_count": null,
   "metadata": {
    "id": "0cFTx8QXh_qO"
   },
   "outputs": [],
   "source": [
    "! unzip -qq land-train.zip\n",
    "! unzip -qq land_valid_sat.zip -d land_valid_sat\n",
    "! unzip -qq land_test_sat.zip -d land_test_sat"
   ]
  },
  {
   "cell_type": "code",
   "execution_count": null,
   "metadata": {
    "id": "j2cGXUqqh_qZ"
   },
   "outputs": [],
   "source": [
    "! mkdir dataset\n",
    "! mkdir dataset/images\n",
    "! mkdir dataset/masks"
   ]
  },
  {
   "cell_type": "code",
   "execution_count": null,
   "metadata": {
    "id": "A5IRk4E6h_qs"
   },
   "outputs": [],
   "source": []
  },
  {
   "cell_type": "code",
   "execution_count": null,
   "metadata": {},
   "outputs": [],
   "source": []
  },
  {
   "cell_type": "code",
   "execution_count": null,
   "metadata": {},
   "outputs": [],
   "source": [
    "import os\n",
    "import cv2\n",
    "import numpy as np\n",
    "from tqdm import tqdm\n",
    "img_list = os.listdir(\"land-train\");"
   ]
  },
  {
   "cell_type": "code",
   "execution_count": null,
   "metadata": {},
   "outputs": [],
   "source": [
    "num = 0;\n",
    "for i in tqdm(range(len(img_list))):\n",
    "    if(\"sat\" in img_list[i]):\n",
    "        img = cv2.imread(\"land-train/\" + img_list[i]);\n",
    "        img = cv2.resize(img, (2464, 2464));\n",
    "        cv2.imwrite(\"dataset/images/\" + str(num) + \".png\", img);\n",
    "        num += 1;"
   ]
  },
  {
   "cell_type": "code",
   "execution_count": null,
   "metadata": {},
   "outputs": [],
   "source": [
    "num = 0;\n",
    "for i in tqdm(range(len(img_list))):\n",
    "    if(\"mask\" in img_list[i]):\n",
    "        img = cv2.imread(\"land-train/\" + img_list[i])\n",
    "        img = cv2.resize(img, (2464, 2464));\n",
    "\n",
    "        img_new = np.zeros((img.shape[0], img.shape[1]), dtype=np.uint8)\n",
    "        img_new[np.where((img == [0,0,0]))[:2]] = 0\n",
    "        img_new[np.where((img == [0,255,255]))[:2]] = 1\n",
    "        img_new[np.where((img == [255,255,0]))[:2]] = 2\n",
    "        img_new[np.where((img == [255,0,255]))[:2]] = 3\n",
    "        img_new[np.where((img == [0,255,0]))[:2]] = 4\n",
    "        img_new[np.where((img == [0,0,255]))[:2]] = 5\n",
    "        img_new[np.where((img == [255,255,255]))[:2]] = 6\n",
    "        #img[img > 6] = [0, 0, 0]\n",
    "\n",
    "\n",
    "        cv2.imwrite(\"dataset/masks/\" + str(num) + \".png\", img_new)\n",
    "        num += 1;"
   ]
  },
  {
   "cell_type": "code",
   "execution_count": null,
   "metadata": {},
   "outputs": [],
   "source": []
  },
  {
   "cell_type": "code",
   "execution_count": null,
   "metadata": {},
   "outputs": [],
   "source": []
  },
  {
   "cell_type": "code",
   "execution_count": null,
   "metadata": {},
   "outputs": [],
   "source": []
  },
  {
   "cell_type": "code",
   "execution_count": null,
   "metadata": {
    "id": "jUVz0r5mh_qu"
   },
   "outputs": [],
   "source": []
  },
  {
   "cell_type": "markdown",
   "metadata": {
    "id": "jvir_c1xh_qw"
   },
   "source": [
    "## Training "
   ]
  },
  {
   "cell_type": "code",
   "execution_count": null,
   "metadata": {
    "id": "cNfxwGBfh_qx"
   },
   "outputs": [],
   "source": [
    "import os\n",
    "import sys\n",
    "sys.path.append(\"Monk_Object_Detection/9_segmentation_models/lib/\");"
   ]
  },
  {
   "cell_type": "code",
   "execution_count": null,
   "metadata": {
    "id": "fBCAfwsHh_qz"
   },
   "outputs": [],
   "source": []
  },
  {
   "cell_type": "code",
   "execution_count": null,
   "metadata": {
    "id": "6FbvjuFqh_q1"
   },
   "outputs": [],
   "source": [
    "from train_segmentation import Segmenter"
   ]
  },
  {
   "cell_type": "code",
   "execution_count": null,
   "metadata": {
    "id": "ZgDTEaRkh_q3"
   },
   "outputs": [],
   "source": []
  },
  {
   "cell_type": "code",
   "execution_count": null,
   "metadata": {
    "id": "lrfrlgK7h_q5"
   },
   "outputs": [],
   "source": [
    "gtf = Segmenter();"
   ]
  },
  {
   "cell_type": "code",
   "execution_count": null,
   "metadata": {
    "id": "XrUN4nCRh_q7"
   },
   "outputs": [],
   "source": []
  },
  {
   "cell_type": "code",
   "execution_count": null,
   "metadata": {
    "id": "wyIBP4k6h_q9"
   },
   "outputs": [],
   "source": [
    "img_dir = \"dataset/images\";\n",
    "mask_dir = \"dataset/masks\";"
   ]
  },
  {
   "cell_type": "code",
   "execution_count": null,
   "metadata": {
    "id": "D246Axbvh_rA"
   },
   "outputs": [],
   "source": []
  },
  {
   "cell_type": "code",
   "execution_count": null,
   "metadata": {
    "id": "mwyghCruh_rB"
   },
   "outputs": [],
   "source": [
    "classes_dict = {\n",
    "    'background': 0, \n",
    "    'urban_land': 1,\n",
    "    'agriculture_land': 2,\n",
    "    'range_land': 3,\n",
    "    'forest_land': 4,\n",
    "    'water': 5,\n",
    "    'barren_land': 6\n",
    "};\n",
    "classes_to_train = ['background', 'urban_land', 'agriculture_land', 'range_land', 'forest_land', 'water', 'barren_land'];"
   ]
  },
  {
   "cell_type": "code",
   "execution_count": null,
   "metadata": {
    "id": "UX0n0vd2h_rE"
   },
   "outputs": [],
   "source": [
    "gtf.Train_Dataset(img_dir, mask_dir, classes_dict, classes_to_train)"
   ]
  },
  {
   "cell_type": "code",
   "execution_count": null,
   "metadata": {
    "id": "FaH2XnH_h_rH"
   },
   "outputs": [],
   "source": [
    "gtf.Val_Dataset(img_dir, mask_dir)"
   ]
  },
  {
   "cell_type": "code",
   "execution_count": null,
   "metadata": {
    "id": "m2UIs-xvh_rI"
   },
   "outputs": [],
   "source": [
    "gtf.List_Backbones();"
   ]
  },
  {
   "cell_type": "code",
   "execution_count": null,
   "metadata": {
    "id": "SHLZqC2Ih_rK"
   },
   "outputs": [],
   "source": []
  },
  {
   "cell_type": "code",
   "execution_count": null,
   "metadata": {
    "id": "UFvRiKxVh_rM"
   },
   "outputs": [],
   "source": [
    "gtf.Data_Params(batch_size=2, backbone=\"efficientnetb3\", image_shape=[2464, 2464])"
   ]
  },
  {
   "cell_type": "code",
   "execution_count": null,
   "metadata": {
    "id": "V5f3e_wih_rN"
   },
   "outputs": [],
   "source": []
  },
  {
   "cell_type": "code",
   "execution_count": null,
   "metadata": {
    "id": "6UfbVZeLh_rP"
   },
   "outputs": [],
   "source": [
    "gtf.List_Models();"
   ]
  },
  {
   "cell_type": "code",
   "execution_count": null,
   "metadata": {
    "id": "kCDVl3ykh_rR"
   },
   "outputs": [],
   "source": []
  },
  {
   "cell_type": "code",
   "execution_count": null,
   "metadata": {
    "id": "MAkjbehth_rY"
   },
   "outputs": [],
   "source": [
    "gtf.Model_Params(model=\"Unet\")"
   ]
  },
  {
   "cell_type": "code",
   "execution_count": null,
   "metadata": {
    "id": "7wviMQpah_ra"
   },
   "outputs": [],
   "source": []
  },
  {
   "cell_type": "code",
   "execution_count": null,
   "metadata": {
    "id": "YNmDIHSoh_rc"
   },
   "outputs": [],
   "source": [
    "gtf.Train_Params(lr=0.0001)"
   ]
  },
  {
   "cell_type": "code",
   "execution_count": null,
   "metadata": {
    "id": "6OfIMqWJh_rd"
   },
   "outputs": [],
   "source": []
  },
  {
   "cell_type": "code",
   "execution_count": null,
   "metadata": {
    "id": "OMbEU_gwh_rf"
   },
   "outputs": [],
   "source": [
    "gtf.Setup();"
   ]
  },
  {
   "cell_type": "code",
   "execution_count": null,
   "metadata": {
    "id": "AGC9PNpPh_rg"
   },
   "outputs": [],
   "source": []
  },
  {
   "cell_type": "code",
   "execution_count": null,
   "metadata": {
    "id": "xx2Zt-Ach_ri"
   },
   "outputs": [],
   "source": [
    "gtf.Train(num_epochs=300);"
   ]
  },
  {
   "cell_type": "code",
   "execution_count": null,
   "metadata": {
    "id": "hK65KzjDh_rj"
   },
   "outputs": [],
   "source": []
  },
  {
   "cell_type": "code",
   "execution_count": null,
   "metadata": {
    "id": "Ole_GtWoh_rl"
   },
   "outputs": [],
   "source": [
    "gtf.Visualize_Training_History();"
   ]
  },
  {
   "cell_type": "code",
   "execution_count": null,
   "metadata": {
    "id": "N8OYrmMhh_rm"
   },
   "outputs": [],
   "source": []
  },
  {
   "cell_type": "code",
   "execution_count": null,
   "metadata": {
    "id": "isJZ0ntOh_rp"
   },
   "outputs": [],
   "source": []
  },
  {
   "cell_type": "code",
   "execution_count": null,
   "metadata": {
    "id": "o4v_neN3h_rr"
   },
   "outputs": [],
   "source": []
  },
  {
   "cell_type": "code",
   "execution_count": null,
   "metadata": {
    "id": "R6swPQCqh_rs"
   },
   "outputs": [],
   "source": []
  },
  {
   "cell_type": "markdown",
   "metadata": {
    "id": "NrgPGVzVh_ru"
   },
   "source": [
    "# Inference"
   ]
  },
  {
   "cell_type": "code",
   "execution_count": null,
   "metadata": {
    "id": "lPtIKJNZh_ru"
   },
   "outputs": [],
   "source": []
  },
  {
   "cell_type": "code",
   "execution_count": null,
   "metadata": {
    "id": "AoctQxGSh_rv"
   },
   "outputs": [],
   "source": [
    "import os\n",
    "import sys\n",
    "sys.path.append(\"Monk_Object_Detection/9_segmentation_models/lib/\");"
   ]
  },
  {
   "cell_type": "code",
   "execution_count": null,
   "metadata": {
    "id": "ttJmPhoth_r7"
   },
   "outputs": [],
   "source": []
  },
  {
   "cell_type": "code",
   "execution_count": null,
   "metadata": {
    "id": "ypXnzboUh_r9"
   },
   "outputs": [],
   "source": [
    "from infer_segmentation import Infer"
   ]
  },
  {
   "cell_type": "code",
   "execution_count": null,
   "metadata": {
    "id": "h9vnkLtYh_r_"
   },
   "outputs": [],
   "source": []
  },
  {
   "cell_type": "code",
   "execution_count": null,
   "metadata": {
    "id": "0g_rCwT4h_sB"
   },
   "outputs": [],
   "source": [
    "gtf = Infer();"
   ]
  },
  {
   "cell_type": "code",
   "execution_count": null,
   "metadata": {
    "id": "WuYWfGxfh_sE"
   },
   "outputs": [],
   "source": []
  },
  {
   "cell_type": "code",
   "execution_count": null,
   "metadata": {
    "id": "Im9lDhRqh_sH"
   },
   "outputs": [],
   "source": [
    "classes_dict = {\n",
    "    'background': 0, \n",
    "    'urban_land': 1,\n",
    "    'agriculture_land': 2,\n",
    "    'range_land': 3,\n",
    "    'forest_land': 4,\n",
    "    'water': 5,\n",
    "    'barren_land': 6\n",
    "};\n",
    "classes_to_train = ['background', 'urban_land', 'agriculture_land', 'range_land', 'forest_land', 'water', 'barren_land'];"
   ]
  },
  {
   "cell_type": "code",
   "execution_count": null,
   "metadata": {
    "id": "a25W9b71h_sJ"
   },
   "outputs": [],
   "source": []
  },
  {
   "cell_type": "code",
   "execution_count": null,
   "metadata": {
    "id": "Q6PcOkWfh_sL"
   },
   "outputs": [],
   "source": [
    "gtf.Data_Params(classes_dict, classes_to_train, image_shape=[2464, 2464])"
   ]
  },
  {
   "cell_type": "code",
   "execution_count": null,
   "metadata": {
    "id": "Fs0tpYhNh_sN"
   },
   "outputs": [],
   "source": []
  },
  {
   "cell_type": "code",
   "execution_count": null,
   "metadata": {
    "id": "IwVERdv-h_sO"
   },
   "outputs": [],
   "source": [
    "gtf.Model_Params(model=\"Unet\", backbone=\"efficientnetb3\", path_to_model='best_model.h5')"
   ]
  },
  {
   "cell_type": "code",
   "execution_count": null,
   "metadata": {
    "id": "gbDKlAsGh_sP"
   },
   "outputs": [],
   "source": []
  },
  {
   "cell_type": "code",
   "execution_count": null,
   "metadata": {
    "id": "WnDjwb5Hh_sR"
   },
   "outputs": [],
   "source": [
    "gtf.Setup();"
   ]
  },
  {
   "cell_type": "code",
   "execution_count": null,
   "metadata": {
    "id": "9AbB65cth_sS"
   },
   "outputs": [],
   "source": [
    "import os\n",
    "img_list = os.listdir(\"dataset/images/\")"
   ]
  },
  {
   "cell_type": "code",
   "execution_count": null,
   "metadata": {
    "id": "qF5K8uKhh_sU"
   },
   "outputs": [],
   "source": [
    "gtf.Predict(\"dataset/images/\" + img_list[0], vis=True);"
   ]
  },
  {
   "cell_type": "code",
   "execution_count": null,
   "metadata": {
    "id": "h3_1VN8yh_sY"
   },
   "outputs": [],
   "source": []
  }
 ],
 "metadata": {
  "accelerator": "GPU",
  "colab": {
   "collapsed_sections": [
    "ASI6Hmq_h_qI"
   ],
   "name": "Example - SUIM Dataset Underwater Object Segmentation.ipynb",
   "provenance": []
  },
  "kernelspec": {
   "display_name": "Python 3",
   "language": "python",
   "name": "python3"
  },
  "language_info": {
   "codemirror_mode": {
    "name": "ipython",
    "version": 3
   },
   "file_extension": ".py",
   "mimetype": "text/x-python",
   "name": "python",
   "nbconvert_exporter": "python",
   "pygments_lexer": "ipython3",
   "version": "3.6.9"
  }
 },
 "nbformat": 4,
 "nbformat_minor": 1
}
