{
 "cells": [
  {
   "cell_type": "markdown",
   "metadata": {},
   "source": [
    "<a href=\"https://colab.research.google.com/github/Tessellate-Imaging/Monk_Object_Detection/blob/master/example_notebooks/13_tf_obj_2/Data_Conversion%20-%20Monk%20Type%20to%20VOC%20Type.ipynb\" target=\"_parent\"><img src=\"https://colab.research.google.com/assets/colab-badge.svg\" alt=\"Open In Colab\"/></a>"
   ]
  },
  {
   "cell_type": "code",
   "execution_count": null,
   "metadata": {},
   "outputs": [],
   "source": []
  },
  {
   "cell_type": "markdown",
   "metadata": {},
   "source": [
    "# Monk Format\n",
    "\n",
    "## Dataset Directory Structure\n",
    "\n",
    "       parent_dir (root_dir)\n",
    "          |\n",
    "          |-------ship (coco_dir) \n",
    "          |         |\n",
    "          |         |---Images (img_dir)\n",
    "          |         |----|\n",
    "          |              |-------------------img1.jpg\n",
    "          |              |-------------------img2.jpg\n",
    "          |              |-------------------.........(and so on)\n",
    "          |\n",
    "          |\n",
    "          |         |---labels.csv\n",
    "          \n",
    "          \n",
    " - Annotation format\n",
    " \n",
    "        |image                     |label                                                        |\n",
    "        |img1.jpg                  | x1 y1 x2 y2 label x1 y2 x2 y2 label .... (and so on)        |"
   ]
  },
  {
   "cell_type": "code",
   "execution_count": null,
   "metadata": {},
   "outputs": [],
   "source": []
  },
  {
   "cell_type": "markdown",
   "metadata": {},
   "source": [
    "# VOC Format\n",
    "\n",
    "## Dataset Directory Structure\n",
    "\n",
    "      parent_dir (root_dir)\n",
    "          |\n",
    "          |------kangaroo \n",
    "          |         |\n",
    "          |         |---Images (img_dir)\n",
    "          |         |----|\n",
    "          |              |-------------------img1.jpg\n",
    "          |              |-------------------img2.jpg\n",
    "          |              |-------------------.........(and so on)\n",
    "          |\n",
    "          |\n",
    "          |         |---voc_dir (anno_dir)\n",
    "          |         |----|\n",
    "          |              |--------------------img1.xml \n",
    "          |              |--------------------img2.xml\n",
    "          |              |-------------------.........(and so on)\n",
    "          \n"
   ]
  },
  {
   "cell_type": "code",
   "execution_count": null,
   "metadata": {},
   "outputs": [],
   "source": []
  },
  {
   "cell_type": "code",
   "execution_count": 1,
   "metadata": {},
   "outputs": [],
   "source": [
    "! cp -r Monk_Object_Detection/example_notebooks/sample_dataset/ship ."
   ]
  },
  {
   "cell_type": "code",
   "execution_count": 2,
   "metadata": {},
   "outputs": [
    {
     "name": "stdout",
     "output_type": "stream",
     "text": [
      "Requirement already satisfied: pascal-voc-writer in /home/abhi/.virtualenvs/finetune_py36/lib/python3.6/site-packages (0.1.4)\n",
      "Requirement already satisfied: jinja2 in /home/abhi/.virtualenvs/finetune_py36/lib/python3.6/site-packages (from pascal-voc-writer) (2.10.1)\n",
      "Requirement already satisfied: MarkupSafe>=0.23 in /home/abhi/.virtualenvs/finetune_py36/lib/python3.6/site-packages (from jinja2->pascal-voc-writer) (1.1.1)\n",
      "\u001b[33mWARNING: You are using pip version 20.1.1; however, version 20.2.2 is available.\n",
      "You should consider upgrading via the '/home/abhi/.virtualenvs/finetune_py36/bin/python3.6 -m pip install --upgrade pip' command.\u001b[0m\n"
     ]
    }
   ],
   "source": [
    "! pip install numpy pascal-voc-writer pandas opencv-python tqdm"
   ]
  },
  {
   "cell_type": "code",
   "execution_count": null,
   "metadata": {},
   "outputs": [],
   "source": []
  },
  {
   "cell_type": "code",
   "execution_count": 5,
   "metadata": {},
   "outputs": [],
   "source": [
    "img_dir = \"ship/Images\";\n",
    "anno_file = \"ship/train_labels.csv\";"
   ]
  },
  {
   "cell_type": "code",
   "execution_count": 21,
   "metadata": {},
   "outputs": [],
   "source": [
    "output_dir = \"ship/voc\";\n",
    "\n",
    "import os\n",
    "if(not os.path.isdir(output_dir)):\n",
    "    os.mkdir(output_dir)"
   ]
  },
  {
   "cell_type": "code",
   "execution_count": 7,
   "metadata": {},
   "outputs": [],
   "source": [
    "import pandas as pd\n",
    "import cv2\n",
    "import numpy as np"
   ]
  },
  {
   "cell_type": "code",
   "execution_count": 8,
   "metadata": {},
   "outputs": [],
   "source": [
    "df = pd.read_csv(anno_file);"
   ]
  },
  {
   "cell_type": "code",
   "execution_count": 9,
   "metadata": {},
   "outputs": [],
   "source": [
    "columns = df.columns"
   ]
  },
  {
   "cell_type": "code",
   "execution_count": 14,
   "metadata": {},
   "outputs": [],
   "source": [
    "from pascal_voc_writer import Writer"
   ]
  },
  {
   "cell_type": "code",
   "execution_count": 23,
   "metadata": {},
   "outputs": [
    {
     "name": "stderr",
     "output_type": "stream",
     "text": [
      "100%|██████████| 750/750 [00:09<00:00, 75.22it/s]\n"
     ]
    }
   ],
   "source": [
    "from tqdm import tqdm\n",
    "for i in tqdm(range(len(df))):\n",
    "    img_name = df[columns[0]][i];\n",
    "    labels = df[columns[1]][i].split(\" \");\n",
    "    img = cv2.imread(\"ship/Images/\" + img_name)\n",
    "    h, w, c = img.shape;\n",
    "    writer = Writer(img_name, w, h)\n",
    "    for j in range(len(labels)):\n",
    "        x1 = labels[0]\n",
    "        y1 = labels[1]\n",
    "        x2 = labels[2]\n",
    "        y2 = labels[3]\n",
    "        label = labels[4]\n",
    "        writer.addObject(label, x1, y1, x2, y2);\n",
    "    \n",
    "    writer.save(output_dir + \"/\" + img_name.split(\".\")[0] + \".xml\")"
   ]
  },
  {
   "cell_type": "code",
   "execution_count": null,
   "metadata": {},
   "outputs": [],
   "source": []
  }
 ],
 "metadata": {
  "kernelspec": {
   "display_name": "Python 3",
   "language": "python",
   "name": "python3"
  },
  "language_info": {
   "codemirror_mode": {
    "name": "ipython",
    "version": 3
   },
   "file_extension": ".py",
   "mimetype": "text/x-python",
   "name": "python",
   "nbconvert_exporter": "python",
   "pygments_lexer": "ipython3",
   "version": "3.6.9"
  }
 },
 "nbformat": 4,
 "nbformat_minor": 4
}
